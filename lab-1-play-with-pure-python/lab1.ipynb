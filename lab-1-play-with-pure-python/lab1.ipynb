{
 "cells": [
  {
   "cell_type": "markdown",
   "id": "b1d4c432-0f80-4aa6-a708-c65a9abeefc1",
   "metadata": {},
   "source": [
    "# Lab 1: Jouons avec Python"
   ]
  },
  {
   "cell_type": "markdown",
   "id": "78bec814-7be1-40f6-b23d-9cc980b27b5b",
   "metadata": {},
   "source": [
    "Pour ce lab, vous trouverez:\n",
    "    \n",
    "    - Des fichiers de données babyXXXX.html\n",
    "    - Un script python qui nous sera utile plus tard\n",
    "    - Une solution\n",
    "    - Ce notebook\n",
    "    \n",
    "Ce notebook est là pour vous aider à prototyper. Nous avons toujours in terminal ou un notebook sous la main lorsqsue nous développons en python."
   ]
  },
  {
   "cell_type": "markdown",
   "id": "0d28ea45-c3bf-4a9c-bb34-b4b2dbcf2807",
   "metadata": {},
   "source": [
    "## Baby names exercise\n",
    "Define the `extract_names()` function below and change `main()`\n",
    "to call it.\n",
    "\n",
    "For writing regex, it's nice to include a copy of the target\n",
    "text for inspiration.\n",
    "\n",
    "Here's what the html looks like in the baby.html files:\n",
    "```html\n",
    "...\n",
    "<h3 align=\"center\">Popularity in 1990</h3>\n",
    "....\n",
    "<tr align=\"right\"><td>1</td><td>Michael</td><td>Jessica</td>\n",
    "<tr align=\"right\"><td>2</td><td>Christopher</td><td>Ashley</td>\n",
    "<tr align=\"right\"><td>3</td><td>Matthew</td><td>Brittany</td>\n",
    "...\n",
    "```\n",
    "Suggested milestones for incremental development:\n",
    " - Extract the year and print it\n",
    " - Extract the names and rank numbers and just print them\n",
    " - Get the names data into a dict and print it\n",
    " - Build the [year, 'name rank', ... ] list and print it\n",
    " - Fix `main()` to use the extract_names list"
   ]
  },
  {
   "cell_type": "code",
   "execution_count": 1,
   "id": "42b3bc81-cfb0-4431-9d76-3324d109d1b5",
   "metadata": {},
   "outputs": [],
   "source": [
    "def extract_names(filename):\n",
    "  \"\"\"\n",
    "  Given a file name for baby.html, returns a list starting with the year string\n",
    "  followed by the name-rank strings in alphabetical order.\n",
    "  ['2006', 'Aaliyah 91', Aaron 57', 'Abagail 895', ' ...]\n",
    "  \"\"\"\n",
    "  # +++your code here+++\n",
    "  return"
   ]
  },
  {
   "cell_type": "code",
   "execution_count": null,
   "id": "1cf5d2ad-6138-42d5-a41d-ee2835cb64c6",
   "metadata": {},
   "outputs": [],
   "source": []
  }
 ],
 "metadata": {
  "kernelspec": {
   "display_name": "Python 3 (ipykernel)",
   "language": "python",
   "name": "python3"
  },
  "language_info": {
   "codemirror_mode": {
    "name": "ipython",
    "version": 3
   },
   "file_extension": ".py",
   "mimetype": "text/x-python",
   "name": "python",
   "nbconvert_exporter": "python",
   "pygments_lexer": "ipython3",
   "version": "3.9.13"
  }
 },
 "nbformat": 4,
 "nbformat_minor": 5
}
