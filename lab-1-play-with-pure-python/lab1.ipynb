{
 "cells": [
  {
   "cell_type": "markdown",
   "id": "b1d4c432-0f80-4aa6-a708-c65a9abeefc1",
   "metadata": {},
   "source": [
    "# Lab 1: Jouons avec Python"
   ]
  },
  {
   "cell_type": "markdown",
   "id": "78bec814-7be1-40f6-b23d-9cc980b27b5b",
   "metadata": {},
   "source": [
    "Pour ce lab, vous trouverez:\n",
    "    \n",
    "    - Des fichiers de données babyXXXX.html\n",
    "    - Un script python qui nous sera utile plus tard\n",
    "    - Une solution\n",
    "    - Ce notebook\n",
    "    \n",
    "Ce notebook est là pour vous aider à prototyper. Nous avons toujours in terminal ou un notebook sous la main lorsqsue nous développons en python."
   ]
  },
  {
   "cell_type": "markdown",
   "id": "0d28ea45-c3bf-4a9c-bb34-b4b2dbcf2807",
   "metadata": {
    "tags": []
   },
   "source": [
    "## Baby names exercise\n",
    "Define the `extract_names()` function below and change `main()`\n",
    "to call it.\n",
    "\n",
    "For writing regex, it's nice to include a copy of the target\n",
    "text for inspiration.\n",
    "\n",
    "Here's what the html looks like in the baby.html files:\n",
    "```html\n",
    "...\n",
    "<h3 align=\"center\">Popularity in 1990</h3>\n",
    "....\n",
    "<tr align=\"right\"><td>1</td><td>Michael</td><td>Jessica</td>\n",
    "<tr align=\"right\"><td>2</td><td>Christopher</td><td>Ashley</td>\n",
    "<tr align=\"right\"><td>3</td><td>Matthew</td><td>Brittany</td>\n",
    "...\n",
    "```\n",
    "Suggested milestones for incremental development:\n",
    " - Extract the year and print it\n",
    " - Extract the names and rank numbers and just print them\n",
    " - Get the names data into a dict and print it\n",
    " - Build the [year, 'name rank', ... ] list and print it\n",
    " - Fix `main()` to use the extract_names list"
   ]
  },
  {
   "cell_type": "code",
   "execution_count": null,
   "id": "568d979c-64be-4498-abdf-bd917ff1054b",
   "metadata": {},
   "outputs": [],
   "source": [
    "extract_names(file_path)"
   ]
  },
  {
   "cell_type": "markdown",
   "id": "043faca3-9f40-4dcb-9cd6-11c549340868",
   "metadata": {},
   "source": [
    "### Search with regex"
   ]
  },
  {
   "cell_type": "code",
   "execution_count": 4,
   "id": "a0445565-2478-4043-a8e5-d37876eaca83",
   "metadata": {},
   "outputs": [],
   "source": [
    "import re"
   ]
  },
  {
   "cell_type": "code",
   "execution_count": 65,
   "id": "e8209002-40aa-4f45-9210-0382c4041aea",
   "metadata": {
    "collapsed": true,
    "jupyter": {
     "outputs_hidden": true
    },
    "scrolled": true,
    "tags": []
   },
   "outputs": [
    {
     "data": {
      "text/plain": [
       "\u001b[1;31mType:\u001b[0m        module\n",
       "\u001b[1;31mString form:\u001b[0m <module 're' from 'C:\\\\Users\\\\lapouble.v\\\\Anaconda3\\\\lib\\\\re.py'>\n",
       "\u001b[1;31mFile:\u001b[0m        c:\\users\\lapouble.v\\anaconda3\\lib\\re.py\n",
       "\u001b[1;31mDocstring:\u001b[0m  \n",
       "Support for regular expressions (RE).\n",
       "\n",
       "This module provides regular expression matching operations similar to\n",
       "those found in Perl.  It supports both 8-bit and Unicode strings; both\n",
       "the pattern and the strings being processed can contain null bytes and\n",
       "characters outside the US ASCII range.\n",
       "\n",
       "Regular expressions can contain both special and ordinary characters.\n",
       "Most ordinary characters, like \"A\", \"a\", or \"0\", are the simplest\n",
       "regular expressions; they simply match themselves.  You can\n",
       "concatenate ordinary characters, so last matches the string 'last'.\n",
       "\n",
       "The special characters are:\n",
       "    \".\"      Matches any character except a newline.\n",
       "    \"^\"      Matches the start of the string.\n",
       "    \"$\"      Matches the end of the string or just before the newline at\n",
       "             the end of the string.\n",
       "    \"*\"      Matches 0 or more (greedy) repetitions of the preceding RE.\n",
       "             Greedy means that it will match as many repetitions as possible.\n",
       "    \"+\"      Matches 1 or more (greedy) repetitions of the preceding RE.\n",
       "    \"?\"      Matches 0 or 1 (greedy) of the preceding RE.\n",
       "    *?,+?,?? Non-greedy versions of the previous three special characters.\n",
       "    {m,n}    Matches from m to n repetitions of the preceding RE.\n",
       "    {m,n}?   Non-greedy version of the above.\n",
       "    \"\\\\\"     Either escapes special characters or signals a special sequence.\n",
       "    []       Indicates a set of characters.\n",
       "             A \"^\" as the first character indicates a complementing set.\n",
       "    \"|\"      A|B, creates an RE that will match either A or B.\n",
       "    (...)    Matches the RE inside the parentheses.\n",
       "             The contents can be retrieved or matched later in the string.\n",
       "    (?aiLmsux) The letters set the corresponding flags defined below.\n",
       "    (?:...)  Non-grouping version of regular parentheses.\n",
       "    (?P<name>...) The substring matched by the group is accessible by name.\n",
       "    (?P=name)     Matches the text matched earlier by the group named name.\n",
       "    (?#...)  A comment; ignored.\n",
       "    (?=...)  Matches if ... matches next, but doesn't consume the string.\n",
       "    (?!...)  Matches if ... doesn't match next.\n",
       "    (?<=...) Matches if preceded by ... (must be fixed length).\n",
       "    (?<!...) Matches if not preceded by ... (must be fixed length).\n",
       "    (?(id/name)yes|no) Matches yes pattern if the group with id/name matched,\n",
       "                       the (optional) no pattern otherwise.\n",
       "\n",
       "The special sequences consist of \"\\\\\" and a character from the list\n",
       "below.  If the ordinary character is not on the list, then the\n",
       "resulting RE will match the second character.\n",
       "    \\number  Matches the contents of the group of the same number.\n",
       "    \\A       Matches only at the start of the string.\n",
       "    \\Z       Matches only at the end of the string.\n",
       "    \\b       Matches the empty string, but only at the start or end of a word.\n",
       "    \\B       Matches the empty string, but not at the start or end of a word.\n",
       "    \\d       Matches any decimal digit; equivalent to the set [0-9] in\n",
       "             bytes patterns or string patterns with the ASCII flag.\n",
       "             In string patterns without the ASCII flag, it will match the whole\n",
       "             range of Unicode digits.\n",
       "    \\D       Matches any non-digit character; equivalent to [^\\d].\n",
       "    \\s       Matches any whitespace character; equivalent to [ \\t\\n\\r\\f\\v] in\n",
       "             bytes patterns or string patterns with the ASCII flag.\n",
       "             In string patterns without the ASCII flag, it will match the whole\n",
       "             range of Unicode whitespace characters.\n",
       "    \\S       Matches any non-whitespace character; equivalent to [^\\s].\n",
       "    \\w       Matches any alphanumeric character; equivalent to [a-zA-Z0-9_]\n",
       "             in bytes patterns or string patterns with the ASCII flag.\n",
       "             In string patterns without the ASCII flag, it will match the\n",
       "             range of Unicode alphanumeric characters (letters plus digits\n",
       "             plus underscore).\n",
       "             With LOCALE, it will match the set [0-9_] plus characters defined\n",
       "             as letters for the current locale.\n",
       "    \\W       Matches the complement of \\w.\n",
       "    \\\\       Matches a literal backslash.\n",
       "\n",
       "This module exports the following functions:\n",
       "    match     Match a regular expression pattern to the beginning of a string.\n",
       "    fullmatch Match a regular expression pattern to all of a string.\n",
       "    search    Search a string for the presence of a pattern.\n",
       "    sub       Substitute occurrences of a pattern found in a string.\n",
       "    subn      Same as sub, but also return the number of substitutions made.\n",
       "    split     Split a string by the occurrences of a pattern.\n",
       "    findall   Find all occurrences of a pattern in a string.\n",
       "    finditer  Return an iterator yielding a Match object for each match.\n",
       "    compile   Compile a pattern into a Pattern object.\n",
       "    purge     Clear the regular expression cache.\n",
       "    escape    Backslash all non-alphanumerics in a string.\n",
       "\n",
       "Each function other than purge and escape can take an optional 'flags' argument\n",
       "consisting of one or more of the following module constants, joined by \"|\".\n",
       "A, L, and U are mutually exclusive.\n",
       "    A  ASCII       For string patterns, make \\w, \\W, \\b, \\B, \\d, \\D\n",
       "                   match the corresponding ASCII character categories\n",
       "                   (rather than the whole Unicode categories, which is the\n",
       "                   default).\n",
       "                   For bytes patterns, this flag is the only available\n",
       "                   behaviour and needn't be specified.\n",
       "    I  IGNORECASE  Perform case-insensitive matching.\n",
       "    L  LOCALE      Make \\w, \\W, \\b, \\B, dependent on the current locale.\n",
       "    M  MULTILINE   \"^\" matches the beginning of lines (after a newline)\n",
       "                   as well as the string.\n",
       "                   \"$\" matches the end of lines (before a newline) as well\n",
       "                   as the end of the string.\n",
       "    S  DOTALL      \".\" matches any character at all, including the newline.\n",
       "    X  VERBOSE     Ignore whitespace and comments for nicer looking RE's.\n",
       "    U  UNICODE     For compatibility only. Ignored for string patterns (it\n",
       "                   is the default), and forbidden for bytes patterns.\n",
       "\n",
       "This module also defines an exception 'error'.\n"
      ]
     },
     "metadata": {},
     "output_type": "display_data"
    }
   ],
   "source": [
    "re?"
   ]
  },
  {
   "cell_type": "code",
   "execution_count": 49,
   "id": "ebbebdd8-bb45-4a4c-9653-48887ea3f396",
   "metadata": {
    "collapsed": true,
    "jupyter": {
     "outputs_hidden": true
    },
    "tags": []
   },
   "outputs": [
    {
     "data": {
      "text/plain": [
       "\u001b[1;31mSignature:\u001b[0m \u001b[0mre\u001b[0m\u001b[1;33m.\u001b[0m\u001b[0msearch\u001b[0m\u001b[1;33m(\u001b[0m\u001b[0mpattern\u001b[0m\u001b[1;33m,\u001b[0m \u001b[0mstring\u001b[0m\u001b[1;33m,\u001b[0m \u001b[0mflags\u001b[0m\u001b[1;33m=\u001b[0m\u001b[1;36m0\u001b[0m\u001b[1;33m)\u001b[0m\u001b[1;33m\u001b[0m\u001b[1;33m\u001b[0m\u001b[0m\n",
       "\u001b[1;31mDocstring:\u001b[0m\n",
       "Scan through string looking for a match to the pattern, returning\n",
       "a Match object, or None if no match was found.\n",
       "\u001b[1;31mFile:\u001b[0m      c:\\users\\lapouble.v\\anaconda3\\lib\\re.py\n",
       "\u001b[1;31mType:\u001b[0m      function\n"
      ]
     },
     "metadata": {},
     "output_type": "display_data"
    }
   ],
   "source": [
    "re.search?"
   ]
  },
  {
   "cell_type": "markdown",
   "id": "5df4d5b8-f52d-4a4b-a4cc-d5da9385f310",
   "metadata": {},
   "source": [
    "### Year pattern"
   ]
  },
  {
   "cell_type": "code",
   "execution_count": 96,
   "id": "016cbc57-5f97-4e36-aff9-94dfed3e279a",
   "metadata": {},
   "outputs": [
    {
     "name": "stdout",
     "output_type": "stream",
     "text": [
      "<re.Match object; span=(19, 37), match='Popularity in 1990'>\n"
     ]
    }
   ],
   "source": [
    "year_pattern = r'Popularity\\sin\\s(?P<year>\\d{4})'\n",
    "\n",
    "year_match = re.search(year_pattern, '<h3 align=\"center\">Popularity in 1990</h3>')\n",
    "print(year_match)"
   ]
  },
  {
   "cell_type": "code",
   "execution_count": 104,
   "id": "2962e0cb-0a89-44cb-8b72-87f18a0fd7bc",
   "metadata": {},
   "outputs": [
    {
     "data": {
      "text/plain": [
       "('1990',)"
      ]
     },
     "execution_count": 104,
     "metadata": {},
     "output_type": "execute_result"
    }
   ],
   "source": [
    "# values only ar provided as a tuple\n",
    "year_match.groups()"
   ]
  },
  {
   "cell_type": "code",
   "execution_count": 103,
   "id": "c811e1ab-f592-4c8a-a6a9-9b02c947ae7b",
   "metadata": {},
   "outputs": [
    {
     "data": {
      "text/plain": [
       "{'year': '1990'}"
      ]
     },
     "execution_count": 103,
     "metadata": {},
     "output_type": "execute_result"
    }
   ],
   "source": [
    "# capturign group name and value are provided\n",
    "year_match.groupdict()"
   ]
  },
  {
   "cell_type": "markdown",
   "id": "cf115cae-65d1-44eb-b1a8-2ce668863169",
   "metadata": {},
   "source": [
    "### Entry pattern"
   ]
  },
  {
   "cell_type": "code",
   "execution_count": 115,
   "id": "d8d58bc5-e514-4cf7-90e6-d35e7bdde1cf",
   "metadata": {},
   "outputs": [
    {
     "data": {
      "text/plain": [
       "{'rank': '1', 'm_name': 'Michael', 'f_name': 'Jessica'}"
      ]
     },
     "execution_count": 115,
     "metadata": {},
     "output_type": "execute_result"
    }
   ],
   "source": [
    "entry_pattern = r'<td>(?P<rank>\\d+)</td><td>(?P<m_name>\\w+)</td><td>(?P<f_name>\\w+)</td>'\n",
    "\n",
    "entry_pattern = re.search(entry_pattern, '<tr align=\"right\"><td>1</td><td>Michael</td><td>Jessica</td>')\n",
    "entry_pattern.groupdict()"
   ]
  },
  {
   "cell_type": "markdown",
   "id": "d8426ba9-c511-468a-bd9c-339352f9fc11",
   "metadata": {},
   "source": [
    "### Let's try on a file"
   ]
  },
  {
   "cell_type": "code",
   "execution_count": 116,
   "id": "c6d2ad41-0d07-42cd-b8af-a01b6ac4ecab",
   "metadata": {},
   "outputs": [],
   "source": [
    "file_path = './baby1990.html'"
   ]
  },
  {
   "cell_type": "code",
   "execution_count": 117,
   "id": "2f6cf34c-2ca2-4807-a6b3-54e2a8fa8bb7",
   "metadata": {
    "scrolled": true,
    "tags": []
   },
   "outputs": [
    {
     "name": "stdout",
     "output_type": "stream",
     "text": [
      "<head><title>Popular Baby Names</title>\n",
      "\n",
      "<meta name=\"dc.language\" scheme=\"ISO639-2\" content=\"eng\">\n",
      "\n",
      "<meta name=\"dc.creator\" content=\"OACT\">\n",
      "\n",
      "<meta name=\"lead_content_manager\" content=\"JeffK\">\n",
      "\n",
      "<meta name=\"coder\" content=\"JeffK\">\n",
      "\n",
      "<meta name=\"dc.date.reviewed\" scheme=\"ISO8601\" content=\"2005-12-30\">\n",
      "\n",
      "<link rel=\"stylesheet\" href=\"../OACT/templatefiles/master.css\" type=\"text/css\" media=\"screen\">\n",
      "\n",
      "<link rel=\"stylesheet\" href=\"../OACT/templatefiles/custom.css\" type=\"text/css\" media=\"screen\">\n",
      "\n",
      "<link rel=\"stylesheet\" href=\"../OACT/templatefiles/print.css\" type=\"text/css\" media=\"print\">\n",
      "\n",
      "</head>\n",
      "\n",
      "<body bgcolor=\"#ffffff\" text=\"#000000\" topmargin=\"1\" leftmargin=\"0\">\n",
      "\n",
      "<table width=\"100%\" border=\"0\" cellspacing=\"0\" cellpadding=\"4\">\n",
      "\n",
      "  <tbody>\n",
      "\n",
      "  <tr><td class=\"sstop\" valign=\"bottom\" align=\"left\" width=\"25%\">\n",
      "\n",
      "      Social Security Online\n",
      "\n",
      "    </td><td valign=\"bottom\" class=\"titletext\">\n",
      "\n",
      "      <!-- sitetitle -->Popular Baby Names\n",
      "\n",
      "    </td>\n",
      "\n",
      "  </tr>\n",
      "\n",
      "  <tr bgcolor=\"#333366\"><td colspan=\"2\" height=\"2\"></td></tr>\n",
      "\n",
      "  <tr><td class=\"graystars\" width=\"25%\" valign=\"top\">\n",
      "\n",
      "       <a href=\"../OACT/babynames/\">Popular Baby Names</a></td><td valign=\"top\"> \n",
      "\n",
      "      <a href=\"http://www.ssa.gov/\"><img src=\"/templateimages/tinylogo.gif\"\n",
      "\n",
      "      width=\"52\" height=\"47\" align=\"left\"\n",
      "\n",
      "      alt=\"SSA logo: link to Social Security home page\" border=\"0\"></a><a name=\"content\"></a>\n",
      "\n",
      "      <h1>Popular Names by Birth Year</h1>September 12, 2007</td>\n",
      "\n",
      "  </tr>\n",
      "\n",
      "  <tr bgcolor=\"#333366\"><td colspan=\"2\" height=\"1\"></td></tr>\n",
      "\n",
      "</tbody></table>\n",
      "\n",
      "<table width=\"100%\" border=\"0\" cellspacing=\"0\" cellpadding=\"4\" summary=\"formatting\">\n",
      "\n",
      "  <tr valign=\"top\"><td width=\"25%\" class=\"greycell\">\n",
      "\n",
      "      <a href=\"../OACT/babynames/background.html\">Background information</a>\n",
      "\n",
      "      <p><br />\n",
      "\n",
      "      &nbsp; Select another <label for=\"yob\">year of birth</label>?<br />      \n",
      "\n",
      "      <form method=\"post\" action=\"/cgi-bin/popularnames.cgi\">\n",
      "\n",
      "      &nbsp; <input type=\"text\" name=\"year\" id=\"yob\" size=\"4\" value=\"1990\">\n",
      "\n",
      "      <input type=\"hidden\" name=\"top\" value=\"1000\">\n",
      "\n",
      "      <input type=\"hidden\" name=\"number\" value=\"\">\n",
      "\n",
      "      &nbsp; <input type=\"submit\" value=\"   Go  \"></form>\n",
      "\n",
      "    </td><td>\n",
      "\n",
      "<h3 align=\"center\">Popularity in 1990</h3>\n",
      "\n"
     ]
    }
   ],
   "source": [
    "with open(file_path, 'r') as f:\n",
    "    \n",
    "    year_pattern = r'Popularity\\sin\\s(?P<year>\\d{4})'\n",
    "    \n",
    "    year_match = None\n",
    "    while year_match is None :\n",
    "        line = f.readline()\n",
    "        print(line)\n",
    "        year_match = re.search(year_pattern, line)\n",
    "        \n",
    "    year = year_match.group('year')"
   ]
  },
  {
   "cell_type": "code",
   "execution_count": 120,
   "id": "98fe2ab9-832c-48df-8e85-53a0789c94d7",
   "metadata": {},
   "outputs": [
    {
     "data": {
      "text/plain": [
       "'1990'"
      ]
     },
     "execution_count": 120,
     "metadata": {},
     "output_type": "execute_result"
    }
   ],
   "source": [
    "year"
   ]
  },
  {
   "cell_type": "code",
   "execution_count": 126,
   "id": "662a60d3-2105-444a-a5c8-93f8281a939c",
   "metadata": {
    "scrolled": true,
    "tags": []
   },
   "outputs": [],
   "source": [
    "with open(file_path, 'r') as f:\n",
    "    \n",
    "    year_pattern = r'Popularity\\sin\\s(?P<year>\\d{4})'\n",
    "    entry_pattern = r'<td>(?P<rank>\\d+)</td><td>(?P<m_name>\\w+)</td><td>(?P<f_name>\\w+)</td>'\n",
    "    \n",
    "    year_match = None\n",
    "    while year_match is None :\n",
    "        line = f.readline()\n",
    "        year_match = re.search(year_pattern,line)\n",
    "        \n",
    "    year = year_match.groupdict()['year']\n",
    "    \n",
    "    names = {}\n",
    "    for l in f.readlines():\n",
    "        entry_match = re.search(entry_pattern,l)\n",
    "        if entry_match:\n",
    "            rank, boy, girl = entry_match.groups()\n",
    "            if boy not in names:\n",
    "                names[boy] = rank\n",
    "            if girl not in names:\n",
    "                names[girl] = rank"
   ]
  },
  {
   "cell_type": "code",
   "execution_count": 127,
   "id": "706fb74d-9a64-436a-9425-6688f6cda0ec",
   "metadata": {},
   "outputs": [
    {
     "data": {
      "text/plain": [
       "'1990'"
      ]
     },
     "execution_count": 127,
     "metadata": {},
     "output_type": "execute_result"
    }
   ],
   "source": [
    "year"
   ]
  },
  {
   "cell_type": "code",
   "execution_count": null,
   "id": "5c5f1e56-7987-448d-a123-57a57bab106a",
   "metadata": {
    "scrolled": true,
    "tags": []
   },
   "outputs": [],
   "source": [
    "names"
   ]
  },
  {
   "cell_type": "code",
   "execution_count": 129,
   "id": "53b55d9b-bb3b-4333-af1e-bd14f6f83f70",
   "metadata": {},
   "outputs": [],
   "source": [
    "sorted_names = sorted(names.keys())"
   ]
  },
  {
   "cell_type": "code",
   "execution_count": 130,
   "id": "766fa31a-4ccc-41e2-b421-8599ded774ec",
   "metadata": {},
   "outputs": [],
   "source": [
    "results = []\n",
    "for name in sorted_names:\n",
    "    results.append(name + \" \" + names[name])"
   ]
  },
  {
   "cell_type": "code",
   "execution_count": null,
   "id": "ce03cdce-a087-49c1-917b-1f2cf2061b70",
   "metadata": {},
   "outputs": [],
   "source": [
    "results"
   ]
  },
  {
   "cell_type": "markdown",
   "id": "d9a77798-c71a-4ae5-9966-f221e65865c2",
   "metadata": {},
   "source": [
    "### Est-ce qu'on peut faire plus simple ?"
   ]
  },
  {
   "cell_type": "code",
   "execution_count": null,
   "id": "efd29cb6-96ca-4a4e-8fc4-f85da3483348",
   "metadata": {},
   "outputs": [],
   "source": [
    "from collections import OrderedDict\n",
    "\n",
    "ordered_names = OrderedDict(names.items())\n",
    "ordered_names"
   ]
  },
  {
   "cell_type": "markdown",
   "id": "4655d38f-c6b8-4b76-92a0-91e1df31331f",
   "metadata": {},
   "source": [
    "### Utilisons une _list-comprehension_"
   ]
  },
  {
   "cell_type": "code",
   "execution_count": null,
   "id": "9d4a47d1-cd9c-4326-86b5-f42993c9cbb3",
   "metadata": {},
   "outputs": [],
   "source": [
    "results = [ ' '.join([year, name, names[name]]) for name in sorted_names ]\n",
    "results"
   ]
  },
  {
   "cell_type": "code",
   "execution_count": 143,
   "id": "42b3bc81-cfb0-4431-9d76-3324d109d1b5",
   "metadata": {},
   "outputs": [],
   "source": [
    "def extract_names(filename):\n",
    "    \"\"\"\n",
    "    Given a file name for baby.html, returns a list starting with the year string\n",
    "    followed by the name-rank strings in alphabetical order.\n",
    "    ['2006', 'Aaliyah 91', Aaron 57', 'Abagail 895', ' ...]\n",
    "    \"\"\"\n",
    "    with open(file_path, 'r') as f:=\n",
    "        year_pattern = r'Popularity\\sin\\s(?P<year>\\d{4})'\n",
    "        entry_pattern = r'<td>(?P<rank>\\d+)</td><td>(?P<m_name>\\w+)</td><td>(?P<f_name>\\w+)</td>'\n",
    "        year_match = None\n",
    "        while year_match is None :\n",
    "            line = f.readline()\n",
    "            year_match = re.search(year_pattern,line)\n",
    "        year = year_match.group('year')\n",
    "        names = {}\n",
    "        for l in f.readlines():\n",
    "            entry_match = re.search(entry_pattern,l)\n",
    "            if entry_match:\n",
    "                rank, boy, girl = entry_match.groups()\n",
    "                if boy not in names:\n",
    "                    names[boy] = rank\n",
    "                if girl not in names:\n",
    "                    names[girl] = rank\n",
    "    sorted_names = sorted(names.keys())\n",
    "    \n",
    "    return [year] + [ f'{name} {names[name]}' for name in sorted_names ]"
   ]
  },
  {
   "cell_type": "code",
   "execution_count": 151,
   "id": "39f05a60-62b5-4f1e-9915-426b90de9d1a",
   "metadata": {},
   "outputs": [],
   "source": [
    "def extract_names(filename):\n",
    "    \"\"\"\n",
    "    Given a file name for baby.html, returns a list starting with the year string\n",
    "    followed by the name-rank strings in alphabetical order.\n",
    "    ['2006', 'Aaliyah 91', Aaron 57', 'Abagail 895', ' ...]\n",
    "    \"\"\"\n",
    "    with open(filename) as f:\n",
    "        raw_file = f.read()\n",
    "        year_re = re.findall(r'Popularity\\sin\\s(\\d\\d\\d\\d)', raw_file)\n",
    "        names_re = re.findall(r'<td>(\\d+)</td><td>(\\w+)</td>\\<td>(\\w+)</td>', raw_file)\n",
    "        male_names = [name[1] + \" \" + name[0] for name in names_re]\n",
    "        female_names = [name[2] + \" \" + name[0] for name in names_re]\n",
    "        names = male_names + female_names\n",
    "        names_sorted = names.copy()\n",
    "        names_sorted.sort()\n",
    "        res = year_re + names_sorted\n",
    "    return res"
   ]
  },
  {
   "cell_type": "code",
   "execution_count": null,
   "id": "9c336fba-dbd8-400f-8e9c-4565479fb864",
   "metadata": {},
   "outputs": [],
   "source": [
    "extract_names(file_path)"
   ]
  },
  {
   "cell_type": "code",
   "execution_count": null,
   "id": "fb8a5753-f5ec-4ade-affc-611d07416665",
   "metadata": {},
   "outputs": [],
   "source": [
    "extract_names"
   ]
  },
  {
   "cell_type": "code",
   "execution_count": 158,
   "id": "f62a2039-ecf0-4d1c-b9ac-7961141e8053",
   "metadata": {},
   "outputs": [
    {
     "name": "stdout",
     "output_type": "stream",
     "text": [
      "./baby1990.html\n",
      "['1990', 'Aaron 34', 'Abbey 482', 'Abbie 685', 'Abby 222', 'Abdul 934', 'Abel 384', 'Abigail 90', 'Abraham 246', 'Abram 920', 'Adam 32', 'Adan 548', 'Addison 645', 'Adolfo 649', 'Adrian 603', 'Adrian 94', 'Adriana 144', 'Adrianna 325', 'Adrianne 783', 'Adrienne 233', 'Agustin 627', 'Ahmad 562', 'Ahmed 721', 'Aidan 889', 'Aileen 851', 'Aimee 272', 'Aisha 568', 'Aja 940', 'Akeem 405', 'Alaina 441', 'Alan 125', 'Alana 368', 'Alanna 474', 'Alannah 936', 'Albert 167', 'Alberto 225', 'Alden 949', 'Aldo 792', 'Alec 271', 'Alecia 678', 'Alejandra 211', 'Alejandro 126', 'Alesha 695', 'Alessandra 829', 'Alex 59', 'Alex 802', 'Alexa 146', 'Alexander 28', 'Alexander 873', 'Alexandra 37', 'Alexandre 950', 'Alexandrea 653', 'Alexandria 95', 'Alexandro 837', 'Alexia 557', 'Alexis 334', 'Alexis 66', 'Alfonso 423', 'Alfred 364', 'Alfredo 272', 'Ali 474', 'Ali 687', 'Alice 347', 'Alicia 53', 'Alina 664', 'Alisa 460', 'Alisha 135', 'Alison 133', 'Alissa 276', 'Allan 382', 'Allen 141', 'Allie 579', 'Allison 48', 'Allyson 236', 'Allyssa 709', 'Alma 386', 'Alonso 805', 'Alonzo 476', 'Alphonso 806', 'Alton 704', 'Alvaro 576', 'Alvin 331', 'Alycia 524', 'Alysa 900', 'Alyse 816', 'Alysha 410', 'Alysia 643', 'Alyson 358', 'Alyssa 27', 'Amanda 4', 'Amber 15', 'Amelia 194', 'Amie 698', 'Amir 608', 'Amos 739', 'Amy 38', 'Ana 124', 'Anabel 746', 'Anastasia 382', 'Anderson 881', 'Andre 137', 'Andrea 40', 'Andreas 897', 'Andres 203', 'Andrew 7', 'Andria 870', 'Andy 275', 'Angel 133', 'Angel 174', 'Angela 52', 'Angelia 501', 'Angelica 119', 'Angelina 261', 'Angelique 631', 'Angelo 335', 'Angie 586', 'Anita 405', 'Anjelica 923', 'Ann 251', 'Anna 45', 'Anne 155', 'Annemarie 996', 'Annette 513', 'Annie 334', 'Annmarie 973', 'Anthony 15', 'Antione 937', 'Antoine 361', 'Antoinette 354', 'Anton 603', 'Antonia 661', 'Antonio 77', 'Antony 832', 'Antwan 534', 'Antwon 668', 'April 73', 'Araceli 556', 'Ari 862', 'Ariana 227', 'Arianna 411', 'Aric 693', 'Ariel 482', 'Ariel 94', 'Arielle 186', 'Arlene 682', 'Armando 229', 'Arnold 559', 'Aron 600', 'Arron 673', 'Arsenio 742', 'Arthur 196', 'Arturo 259', 'Asa 799', 'Asha 997', 'Ashely 632', 'Ashlee 154', 'Ashleigh 178', 'Ashley 2', 'Ashley 656', 'Ashli 722', 'Ashlie 476', 'Ashly 535', 'Ashlyn 559', 'Ashton 331', 'Ashton 365', 'Asia 299', 'Athena 731', 'Aubrey 298', 'Aubrey 711', 'Audra 673', 'Audrey 161', 'August 846', 'Aurora 716', 'Austen 705', 'Austin 55', 'Autumn 177', 'Ava 953', 'Avery 492', 'Avery 797', 'Axel 898', 'Ayla 818', 'Baby 610', 'Baby 861', 'Bailey 226', 'Barbara 210', 'Barrett 696', 'Barry 348', 'Beatrice 720', 'Beatriz 472', 'Beau 337', 'Becky 862', 'Belinda 624', 'Ben 514', 'Benito 795', 'Benjamin 33', 'Bennett 674', 'Bennie 872', 'Benny 714', 'Bernadette 735', 'Bernard 430', 'Bernardo 764', 'Beth 392', 'Bethany 107', 'Betsy 739', 'Betty 577', 'Beverly 521', 'Bianca 84', 'Bill 992', 'Billie 830', 'Billy 214', 'Blaine 400', 'Blair 487', 'Blair 580', 'Blake 91', 'Blake 937', 'Blanca 397', 'Bo 602', 'Bobbi 766', 'Bobbie 638', 'Bobby 185', 'Bonnie 380', 'Brad 362', 'Braden 485', 'Bradford 579', 'Bradley 65', 'Bradly 635', 'Brady 315', 'Brandan 746', 'Branden 300', 'Brandi 103', 'Brandie 551', 'Brandon 19', 'Brandy 137', 'Brandyn 807', 'Brant 775', 'Braxton 715', 'Breana 546', 'Breann 775', 'Breanna 113', 'Breanne 498', 'Bree 938', 'Brenda 123', 'Brendan 155', 'Brenden 518', 'Brendon 451', 'Brenna 418', 'Brennan 383', 'Brennen 899', 'Brent 127', 'Brenton 469', 'Bret 418', 'Brett 84', 'Brian 27', 'Briana 109', 'Brianna 61', 'Brianne 318', 'Brice 529', 'Bridget 191', 'Bridgett 839', 'Bridgette 440', 'Britany 491', 'Britney 136', 'Britni 611', 'Britny 723', 'Brittaney 688', 'Brittani 230', 'Brittanie 553', 'Brittany 3', 'Brittany 996', 'Brittnee 713', 'Brittney 44', 'Brittni 357', 'Brittnie 843', 'Brittny 591', 'Britton 938', 'Brock 257', 'Broderick 890', 'Brody 796', 'Bronson 687', 'Brook 868', 'Brooke 70', 'Brooklyn 911', 'Brooks 681', 'Bruce 240', 'Bruno 993', 'Bryan 57', 'Bryanna 633', 'Bryant 204', 'Bryce 169', 'Bryon 708', 'Bryson 550', 'Byron 265', 'Cade 885', 'Caitlin 50', 'Caitlyn 183', 'Cale 921', 'Caleb 88', 'Callie 297', 'Calvin 173', 'Camden 955', 'Cameron 62', 'Cameron 675', 'Camille 243', 'Camron 762', 'Candace 142', 'Candice 147', 'Candy 949', 'Cara 235', 'Carey 858', 'Cari 959', 'Carina 544', 'Carissa 257', 'Carl 145', 'Carla 263', 'Carley 761', 'Carlie 924', 'Carlo 838', 'Carlos 75', 'Carlton 425', 'Carly 163', 'Carmen 217', 'Carol 350', 'Carolina 302', 'Caroline 116', 'Carolyn 169', 'Carrie 170', 'Carson 456', 'Carter 551', 'Cary 817', 'Casandra 407', 'Casey 106', 'Casey 89', 'Cassandra 49', 'Cassidy 468', 'Cassidy 922', 'Cassie 228', 'Cassondra 724', 'Catalina 956', 'Catherine 71', 'Cathy 914', 'Catrina 908', 'Cayla 550', 'Cecelia 847', 'Cecil 664', 'Cecilia 326', 'Cecily 574', 'Cedric 377', 'Cedrick 828', 'Celeste 398', 'Celia 589', 'Celina 704', 'Cesar 199', 'Chad 85', 'Chadwick 594', 'Chaim 893', 'Chance 316', 'Chandler 486', 'Chandra 742', 'Chanel 419', 'Chanelle 925', 'Channing 951', 'Chantal 552', 'Chantel 362', 'Chantelle 721', 'Charity 458', 'Charlene 394', 'Charles 38', 'Charlie 422', 'Charlotte 287', 'Charmaine 819', 'Chase 110', 'Chasity 373', 'Chastity 915', 'Chauncey 952', 'Chaya 894', 'Chaz 448', 'Chelsea 24', 'Chelsey 128', 'Chelsi 762', 'Chelsie 273', 'Cherie 865', 'Cherish 992', 'Cheryl 415', 'Chester 676', 'Cheyenne 330', 'Chloe 212', 'Chris 449', 'Christa 372', 'Christen 650', 'Christian 319', 'Christian 60', 'Christiana 831', 'Christie 436', 'Christin 615', 'Christina 25', 'Christine 62', 'Christopher 2', 'Christopher 982', 'Christy 284', 'Chrystal 696', 'Ciara 294', 'Ciera 443', 'Cierra 268', 'Cindy 185', 'Claire 159', 'Clara 522', 'Clare 657', 'Clarence 373', 'Clarissa 322', 'Clark 537', 'Claude 833', 'Claudia 199', 'Clay 444', 'Clayton 153', 'Clifford 346', 'Clifton 473', 'Clint 375', 'Clinton 201', 'Clyde 638', 'Coby 986', 'Codey 800', 'Codie 930', 'Cody 31', 'Cody 858', 'Colby 244', 'Cole 248', 'Coleman 787', 'Colin 122', 'Colleen 160', 'Collin 239', 'Colt 768', 'Colten 619', 'Colton 139', 'Conner 628', 'Connie 483', 'Connor 221', 'Conor 459', 'Conrad 621', 'Constance 506', 'Cooper 706', 'Cora 852', 'Corbin 426', 'Cordell 749', 'Corey 56', 'Corey 671', 'Cori 705', 'Corina 646', 'Corinne 406', 'Cornelius 487', 'Cornell 962', 'Corrine 877', 'Cortez 533', 'Cortney 225', 'Cortney 931', 'Cory 67', 'Cory 970', 'Coty 447', 'Courtney 17', 'Courtney 356', 'Craig 116', 'Cristal 518', 'Cristian 417', 'Cristina 165', 'Cristobal 923', 'Cristopher 743', 'Cruz 717', 'Crystal 39', 'Cullen 788', 'Curtis 120', 'Cynthia 88', 'Cyrus 829', 'Daisy 193', 'Dakota 194', 'Dakota 597', 'Dale 285', 'Dallas 391', 'Dalton 193', 'Damian 322', 'Damien 332', 'Damion 675', 'Damon 321', 'Dan 660', 'Dana 114', 'Dana 532', 'Danae 974', 'Dandre 747', 'Dane 336', 'Dangelo 839', 'Danica 639', 'Daniel 5', 'Daniela 381', 'Daniella 500', 'Danielle 18', 'Danika 886', 'Danny 162', 'Dante 366', 'Danyelle 946', 'Daphne 764', 'Daquan 709', 'Dara 882', 'Darcy 782', 'Daren 886', 'Darian 631', 'Darien 841', 'Darin 530', 'Dario 783', 'Darion 859', 'Darius 152', 'Darlene 484', 'Darnell 353', 'Daron 849', 'Darrel 772', 'Darrell 245', 'Darren 200', 'Darrick 818', 'Darrin 509', 'Darrius 569', 'Darryl 255', 'Darwin 910', 'Daryl 440', 'Dashawn 731', 'Dave 924', 'David 6', 'Davin 969', 'Davis 597', 'Davon 479', 'Dawn 359', 'Dayna 640', 'Dayton 876', 'Dean 286', 'Deana 884', 'Deandre 276', 'Deangelo 454', 'Deanna 158', 'Debbie 744', 'Deborah 262', 'Debra 453', 'Deidra 840', 'Deidre 971', 'Deirdre 990', 'Deja 747', 'Dejuan 790', 'Delia 810', 'Demarco 801', 'Demarcus 442', 'Demario 667', 'Demetria 885', 'Demetrius 290', 'Dena 966', 'Denise 152', 'Dennis 129', 'Denzel 445', 'Deon 549', 'Deontae 979', 'Deonte 615', 'Dereck 778', 'Derek 54', 'Derick 412', 'Derik 732', 'Deron 863', 'Derrek 956', 'Derrell 900', 'Derrick 106', 'Deshawn 481', 'Desirae 481', 'Desiree 125', 'Desmond 287', 'Destinee 845', 'Destiny 202', 'Devan 493', 'Devan 669', 'Deven 730', 'Devin 316', 'Devin 98', 'Devon 151', 'Devon 277', 'Dewayne 647', 'Dexter 376', 'Diamond 429', 'Diana 99', 'Diane 363', 'Dianna 594', 'Diego 308', 'Dillon 184', 'Dina 755', 'Dion 526', 'Dionte 970', 'Domingo 823', 'Dominic 189', 'Dominick 393', 'Dominique 153', 'Dominique 207', 'Dominque 723', 'Dominque 912', 'Domonique 699', 'Don 553', 'Donald 87', 'Donavan 803', 'Donna 317', 'Donnell 652', 'Donnie 545', 'Donny 980', 'Donovan 299', 'Donta 903', 'Dontae 735', 'Donte 424', 'Dora 975', 'Dorian 520', 'Doris 853', 'Dorothy 426', 'Douglas 103', 'Drake 538', 'Drew 160', 'Duane 521', 'Dulce 903', 'Duncan 737', 'Dustin 50', 'Dusty 643', 'Dwayne 307', 'Dwight 446', 'Dylan 83', 'Earl 403', 'Earnest 850', 'Eboni 794', 'Ebony 187', 'Eddie 232', 'Eddy 925', 'Eden 697', 'Edgar 143', 'Edgardo 779', 'Edith 560', 'Edmund 819', 'Edna 950', 'Eduardo 149', 'Edward 68', 'Edwardo 987', 'Edwin 170', 'Efrain 539', 'Efren 773', 'Eileen 464', 'Elaina 814', 'Elaine 409', 'Eleanor 598', 'Elena 353', 'Eli 363', 'Elias 360', 'Eliezer 997', 'Elijah 243', 'Elisa 421', 'Elisabeth 348', 'Elise 265', 'Eliseo 963', 'Elisha 647', 'Elisha 957', 'Elissa 743', 'Eliza 558', 'Elizabeth 9', 'Ella 869', 'Ellen 208', 'Elliot 369', 'Elliott 358', 'Ellis 758', 'Elmer 698', 'Elsa 817', 'Elton 964', 'Elvin 935', 'Elvis 718', 'Elyse 526', 'Elyssa 983', 'Emanuel 372', 'Emerson 906', 'Emilee 588', 'Emilia 984', 'Emilie 616', 'Emilio 438', 'Emily 12', 'Emma 130', 'Emmanuel 218', 'Emmett 965', 'Enrique 263', 'Eric 24', 'Erica 36', 'Erich 719', 'Erick 223', 'Ericka 356', 'Erik 96', 'Erika 74', 'Erin 43', 'Erin 654', 'Ernest 283', 'Ernesto 310', 'Ervin 840', 'Eryn 972', 'Esmeralda 425', 'Esteban 414', 'Estevan 720', 'Esther 286', 'Ethan 58', 'Eugene 312', 'Eunice 928', 'Eva 344', 'Evan 71', 'Evelyn 220', 'Everett 556', 'Ezekiel 625', 'Ezequiel 765', 'Ezra 763', 'Fabian 325', 'Fabiola 854', 'Faith 295', 'Fallon 918', 'Fatima 622', 'Federico 945', 'Felicia 121', 'Felipe 427', 'Felisha 774', 'Felix 368', 'Fernando 179', 'Fidel 804', 'Fiona 941', 'Floyd 641', 'Forrest 420', 'Frances 351', 'Francesca 465', 'Francesco 834', 'Francis 284', 'Francisco 115', 'Frank 109', 'Frankie 494', 'Franklin 298', 'Fred 498', 'Freddie 574', 'Freddy 542', 'Frederick 252', 'Fredrick 468', 'Gabriel 100', 'Gabriel 904', 'Gabriela 182', 'Gabriella 292', 'Gabrielle 98', 'Gage 359', 'Galen 766', 'Garett 912', 'Garret 506', 'Garrett 99', 'Garrick 636', 'Garrison 958', 'Garry 769', 'Gary 114', 'Gavin 294', 'Genaro 994', 'Gene 618', 'Genesis 590', 'Geneva 848', 'Genevieve 485', 'Geoffrey 249', 'George 79', 'Georgia 717', 'Georgina 976', 'Gerald 211', 'Geraldine 947', 'Gerard 527', 'Gerardo 254', 'German 616', 'Giancarlo 911', 'Gianna 863', 'Gilbert 341', 'Gilberto 431', 'Gillian 825', 'Gina 139', 'Gino 789', 'Giovanni 329', 'Giselle 706', 'Gladys 530', 'Glen 464', 'Glenn 296', 'Gloria 241', 'Gonzalo 770', 'Gordon 471', 'Grace 140', 'Graciela 977', 'Grady 774', 'Graham 397', 'Grant 183', 'Grayson 669', 'Greg 712', 'Gregg 914', 'Greggory 864', 'Gregorio 808', 'Gregory 51', 'Gretchen 626', 'Griffin 601', 'Griselda 730', 'Guadalupe 328', 'Guadalupe 611', 'Guillermo 396', 'Gustavo 343', 'Guy 565', 'Gwendolyn 679', 'Hailey 293', 'Hakeem 612', 'Haleigh 960', 'Haley 108', 'Hali 994', 'Hallie 778', 'Hanna 342', 'Hannah 30', 'Hans 745', 'Harley 590', 'Harold 324', 'Harrison 279', 'Harry 370', 'Harvey 707', 'Hassan 733', 'Hayden 378', 'Hayley 267', 'Heath 461', 'Heather 19', 'Heaven 855', 'Hector 156', 'Heidi 200', 'Helen 320', 'Helena 948', 'Henry 138', 'Herbert 531', 'Heriberto 682', 'Herman 637', 'Hernan 939', 'Hilary 232', 'Hillary 192', 'Holden 756', 'Holli 895', 'Hollie 609', 'Holly 89', 'Hope 266', 'Houston 728', 'Howard 404', 'Hugh 736', 'Hugo 415', 'Humberto 512', 'Hunter 219', 'Ian 70', 'Ibrahim 877', 'Iesha 732', 'Ignacio 599', 'Iliana 740', 'Imani 929', 'India 488', 'Infant 389', 'Infant 434', 'Ingrid 737', 'Ira 835', 'Irene 387', 'Iris 417', 'Irma 683', 'Irvin 613', 'Irving 685', 'Isaac 132', 'Isabel 339', 'Isabella 892', 'Isaiah 206', 'Isaias 811', 'Isamar 533', 'Isiah 433', 'Isidro 913', 'Ismael 413', 'Israel 317', 'Issac 606', 'Ivan 178', 'Ivana 849', 'Ivette 859', 'Ivy 770', 'Jabari 907', 'Jace 552', 'Jack 166', 'Jackie 523', 'Jackie 629', 'Jacklyn 541', 'Jackson 319', 'Jaclyn 143', 'Jacob 20', 'Jacoby 908', 'Jacqueline 67', 'Jacquelyn 221', 'Jacques 797', 'Jada 998', 'Jade 218', 'Jade 830', 'Jaime 215', 'Jaime 310', 'Jaimee 874', 'Jaimie 507', 'Jairo 677', 'Jake 140', 'Jakob 578', 'Jaleesa 655', 'Jalisa 446', 'Jamaal 670', 'Jamal 247', 'Jamar 421', 'Jamarcus 812', 'Jamel 519', 'James 8', 'Jameson 661', 'Jami 519', 'Jamie 227', 'Jamie 54', 'Jamil 744', 'Jamila 835', 'Jamison 662', 'Jan 915', 'Jana 545', 'Janae 502', 'Janay 719', 'Jane 345', 'Janel 965', 'Janell 866', 'Janelle 258', 'Janessa 674', 'Janet 223', 'Janette 634', 'Janice 477', 'Janie 668', 'Janine 659', 'Janna 836', 'Jaquan 755', 'Jaqueline 791', 'Jared 63', 'Jarod 634', 'Jaron 496', 'Jarred 411', 'Jarrell 981', 'Jarret 882', 'Jarrett 380', 'Jarrod 318', 'Jarvis 435', 'Jasmin 231', 'Jasmine 28', 'Jason 47', 'Jasper 614', 'Javier 157', 'Javon 535', 'Jay 217', 'Jayme 595', 'Jayson 499', 'Jazmin 304', 'Jazmine 301', 'Jean 522', 'Jean 771', 'Jeanette 280', 'Jeanne 961', 'Jeannette 772', 'Jedidiah 971', 'Jeff 644', 'Jefferson 710', 'Jeffery 136', 'Jeffrey 43', 'Jeffry 946', 'Jena 562', 'Jenifer 623', 'Jenna 81', 'Jennie 584', 'Jennifer 8', 'Jenny 214', 'Jerad 851', 'Jerald 809', 'Jered 926', 'Jerel 860', 'Jeremey 982', 'Jeremiah 154', 'Jeremy 40', 'Jerica 729', 'Jermaine 306', 'Jerod 780', 'Jerome 264', 'Jeromy 983', 'Jerrell 691', 'Jerrica 608', 'Jerrod 568', 'Jerry 147', 'Jesenia 962', 'Jesica 930', 'Jess 694', 'Jesse 48', 'Jesse 648', 'Jessenia 909', 'Jessi 916', 'Jessica 1', 'Jessica 865', 'Jessie 231', 'Jessie 254', 'Jessika 600', 'Jessy 760', 'Jesus 90', 'Jill 329', 'Jillian 122', 'Jim 688', 'Jimmie 554', 'Jimmy 171', 'Joan 763', 'Joana 905', 'Joann 684', 'Joanna 138', 'Joanne 561', 'Joaquin 598', 'Jocelyn 219', 'Jodi 473', 'Jodie 871', 'Jody 699', 'Jody 986', 'Joe 212', 'Joel 95', 'Joelle 792', 'Joey 352', 'Johanna 374', 'John 12', 'Johnathan 108', 'Johnathon 251', 'Johnnie 561', 'Johnny 130', 'Jolene 795', 'Jon 216', 'Jonah 653', 'Jonas 776', 'Jonathan 17', 'Jonathon 124', 'Jordan 29', 'Jordan 59', 'Jorden 866', 'Jordon 349', 'Jordyn 480', 'Jorge 117', 'Jory 998', 'Jose 41', 'Josef 786', 'Joseph 10', 'Josephine 437', 'Josh 700', 'Joshua 4', 'Josiah 354', 'Josie 619', 'Josue 292', 'Jovan 622', 'Joy 375', 'Joyce 479', 'Juan 61', 'Juana 812', 'Juanita 529', 'Judith 454', 'Judy 575', 'Julia 83', 'Julian 123', 'Juliana 427', 'Julianna 658', 'Julianne 444', 'Julie 93', 'Julien 953', 'Julio 195', 'Julissa 776', 'Julius 402', 'Junior 831', 'Justen 726', 'Justin 9', 'Justina 536', 'Justine 188', 'Justine 972', 'Kacey 651', 'Kaci 621', 'Kacie 517', 'Kacy 957', 'Kadeem 540', 'Kaela 807', 'Kai 928', 'Kaila 435', 'Kailey 602', 'Kaitlin 101', 'Kaitlyn 78', 'Kaitlynn 654', 'Kala 543', 'Kaleb 305', 'Kaleigh 531', 'Kaley 601', 'Kali 445', 'Kalie 931', 'Kallie 942', 'Kalvin 940', 'Kalyn 850', 'Kameron 462', 'Kandace 751', 'Kandice 752', 'Kanesha 951', 'Kanisha 714', 'Kara 110', 'Kareem 575', 'Karen 120', 'Kari 256', 'Karina 189', 'Karissa 313', 'Karl 295', 'Karla 279', 'Karli 926', 'Karly 889', 'Kasandra 670', 'Kasey 216', 'Kasey 457', 'Kassandra 312', 'Kassie 748', 'Kate 270', 'Katelin 567', 'Katelyn 75', 'Katelynn 378', 'Katharine 401', 'Katherine 26', 'Katheryn 906', 'Kathleen 92', 'Kathrine 781', 'Kathryn 57', 'Kathy 503', 'Kati 878', 'Katie 55', 'Katlin 627', 'Katlyn 343', 'Katrina 127', 'Katy 514', 'Kaycee 846', 'Kayla 14', 'Kaylee 234', 'Kayleigh 414', 'Kaylie 806', 'Kaylin 718', 'Kaylyn 677', 'Keaton 592', 'Keegan 500', 'Keely 767', 'Keenan 392', 'Keenen 988', 'Kegan 916', 'Keisha 396', 'Keith 80', 'Kelby 932', 'Kellen 658', 'Kelley 308', 'Kelli 181', 'Kellie 264', 'Kelly 351', 'Kelly 41', 'Kelsea 779', 'Kelsey 32', 'Kelsey 729', 'Kelsi 495', 'Kelsie 321', 'Kelvin 288', 'Ken 857', 'Kendal 887', 'Kendall 289', 'Kendall 404', 'Kendell 909', 'Kendra 117', 'Kendrick 339', 'Kenisha 879', 'Kenneth 52', 'Kenny 432', 'Kent 488', 'Kenton 867', 'Kenya 614', 'Keon 820', 'Keri 388', 'Kerri 438', 'Kerry 447', 'Kerry 483', 'Keshia 593', 'Keven 984', 'Kevin 23', 'Kevon 878', 'Khalil 852', 'Khiry 648', 'Kia 860', 'Kiana 758', 'Kiara 171', 'Kiefer 854', 'Kiera 566', 'Kierra 433', 'Kiersten 620', 'Kiley 753', 'Kim 788', 'Kimber 985', 'Kimberlee 710', 'Kimberley 666', 'Kimberly 31', 'Kira 527', 'Kirby 784', 'Kirk 347', 'Kirsten 157', 'Kirstie 457', 'Kirstin 564', 'Kody 304', 'Kolby 821', 'Korey 436', 'Kori 793', 'Kortney 676', 'Kory 386', 'Kourtney 402', 'Kraig 973', 'Krista 145', 'Kristal 692', 'Kristan 958', 'Kristen 42', 'Kristi 269', 'Kristian 570', 'Kristian 628', 'Kristie 376', 'Kristin 65', 'Kristina 77', 'Kristine 238', 'Kristofer 543', 'Kristoffer 989', 'Kristopher 165', 'Kristy 248', 'Kristyn 520', 'Krysta 707', 'Krystal 104', 'Krysten 841', 'Krystin 932', 'Krystina 754', 'Krystle 461', 'Kurt 274', 'Kurtis 410', 'Kwame 582', 'Kyla 428', 'Kyle 18', 'Kyle 823', 'Kylee 422', 'Kyler 623', 'Kylie 179', 'Kyra 570', 'Lacey 148', 'Laci 784', 'Lacie 642', 'Lacy 355', 'Ladarius 750', 'Lakeisha 587', 'Laken 954', 'Lakeshia 896', 'Lamar 350', 'Lamont 571', 'Lana 808', 'Lance 181', 'Landon 326', 'Lane 558', 'Laquan 824', 'Laquita 826', 'Lara 538', 'Larissa 403', 'Laron 868', 'Larry 144', 'Lashonda 893', 'Latasha 360', 'Latifah 702', 'Latisha 493', 'Latonya 798', 'Latoya 253', 'Latrice 749', 'Laura 29', 'Laurel 532', 'Lauren 10', 'Laurence 936', 'Laurie 649', 'Lauryn 700', 'Lawrence 174', 'Lazaro 990', 'Lea 516', 'Leah 82', 'Leandra 803', 'Leann 693', 'Leanna 389', 'Leanne 534', 'Lee 213', 'Lee 955', 'Leeann 813', 'Leigh 469', 'Leila 999', 'Leland 609', 'Lena 528', 'Leo 477', 'Leon 390', 'Leonard 291', 'Leonardo 416', 'Leonel 617', 'Leroy 443', 'Lesley 539', 'Leslie 115', 'Leslie 585', 'Lester 632', 'Leticia 340', 'Levi 182', 'Lewis 399', 'Lia 952', 'Liam 605', 'Liana 799', 'Liliana 369', 'Lillian 366', 'Lily 585', 'Lincoln 855', 'Linda 175', 'Lindsay 69', 'Lindsey 51', 'Linsey 993', 'Lionel 665', 'Lisa 64', 'Lisette 944', 'Lissette 897', 'Liza 890', 'Lizbeth 629', 'Lizeth 967', 'Lizette 625', 'Lloyd 490', 'Logan 104', 'Logan 610', 'Lonnie 508', 'Lora 768', 'Loren 515', 'Loren 630', 'Lorena 383', 'Lorenzo 309', 'Loretta 934', 'Lori 323', 'Lorraine 656', 'Louie 844', 'Louis 168', 'Lourdes 910', 'Lucas 112', 'Lucero 867', 'Lucia 582', 'Lucy 451', 'Luis 66', 'Luisa 968', 'Lukas 528', 'Luke 118', 'Luther 767', 'Luz 604', 'Lydia 206', 'Lyle 633', 'Lyndsay 715', 'Lyndsey 384', 'Lynette 820', 'Lynn 580', 'Lynsey 987', 'Mackenzie 247', 'Mackenzie 524', 'Macy 641', 'Madeleine 578', 'Madeline 197', 'Madelyn 733', 'Madison 203', 'Madison 847', 'Maegan 576', 'Magdalena 919', 'Magen 875', 'Maggie 288', 'Mai 796', 'Maira 800', 'Makayla 804', 'Malachi 959', 'Malcolm 241', 'Malcom 873', 'Male 701', 'Malik 557', 'Mallory 162', 'Mandi 876', 'Mandy 467', 'Manuel 134', 'Mara 540', 'Maranda 596', 'Marc 163', 'Marcel 560', 'Marcella 759', 'Marcelo 974', 'Marcia 901', 'Marco 226', 'Marcos 273', 'Marcus 72', 'Margaret 102', 'Margarita 459', 'Mari 933', 'Maria 47', 'Mariah 259', 'Marian 935', 'Mariana 508', 'Marianne 980', 'Maribel 393', 'Maricela 583', 'Marie 213', 'Mariel 963', 'Mariela 821', 'Marilyn 432', 'Marina 324', 'Mario 119', 'Marion 883', 'Marisa 255', 'Marisela 617', 'Marisol 400', 'Marissa 87', 'Maritza 486', 'Marjorie 887', 'Mark 46', 'Markus 501', 'Marla 805', 'Marlena 969', 'Marlene 390', 'Marlin 966', 'Marlon 458', 'Marques 813', 'Marquez 874', 'Marquis 258', 'Marquise 555', 'Marquita 789', 'Marsha 964', 'Marshall 280', 'Martell 975', 'Martez 785', 'Martha 229', 'Martika 757', 'Martin 113', 'Martina 832', 'Marty 781', 'Marvin 237', 'Mary 35', 'Maryann 902', 'Mason 208', 'Mathew 148', 'Matthew 3', 'Maura 644', 'Maureen 497', 'Maurice 205', 'Mauricio 547', 'Max 172', 'Maximilian 684', 'Maxwell 188', 'Maya 399', 'Mayra 195', 'Mckenzie 490', 'Meagan 126', 'Meaghan 367', 'Megan 11', 'Meghan 91', 'Melanie 86', 'Melina 833', 'Melinda 207', 'Melisa 777', 'Melissa 20', 'Melody 314', 'Melvin 278', 'Mercedes 176', 'Meredith 190', 'Mia 341', 'Micaela 811', 'Micah 238', 'Micah 907', 'Michael 1', 'Michael 750', 'Michaela 311', 'Micheal 175', 'Michel 894', 'Michele 244', 'Michelle 22', 'Mickey 836', 'Miguel 101', 'Mikaela 773', 'Mikayla 711', 'Mike 507', 'Mikel 757', 'Mikhail 967', 'Miles 269', 'Milton 566', 'Mindy 423', 'Miranda 112', 'Miriam 285', 'Misael 999', 'Misty 278', 'Mitchel 572', 'Mitchell 93', 'Mohamed 740', 'Mohammad 604', 'Mohammed 678', 'Moises 467', 'Mollie 462', 'Molly 80', 'Monica 76', 'Monika 785', 'Monique 132', 'Monte 901', 'Morgan 277', 'Morgan 58', 'Moriah 801', 'Morris 761', 'Moses 588', 'Moshe 702', 'Mychal 825', 'Mykel 869', 'Myles 428', 'Myra 701', 'Myron 679', 'Nadia 395', 'Nadine 694', 'Najee 941', 'Nancy 131', 'Naomi 300', 'Natalia 478', 'Natalie 63', 'Nataly 913', 'Natasha 105', 'Nathalie 662', 'Nathan 44', 'Nathanael 523', 'Nathanial 650', 'Nathaniel 86', 'Neal 460', 'Neil 261', 'Nelson 281', 'Nestor 626', 'Nia 864', 'Nicholas 14', 'Nichole 151', 'Nick 671', 'Nickolas 268', 'Nico 620', 'Nicolas 187', 'Nicole 13', 'Nicolette 511', 'Nigel 573', 'Nikita 660', 'Nikki 282', 'Nikko 904', 'Niko 777', 'Nikolas 472', 'Nikole 837', 'Nina 260', 'Noah 228', 'Noe 541', 'Noel 394', 'Noel 790', 'Noelle 463', 'Noemi 592', 'Nolan 302', 'Nora 431', 'Norma 494', 'Norman 470', 'Octavia 618', 'Octavio 695', 'Olga 786', 'Oliver 371', 'Olivia 72', 'Omar 159', 'Orlando 314', 'Oscar 135', 'Osvaldo 639', 'Otis 697', 'Owen 453', 'Pablo 357', 'Paige 79', 'Pamela 237', 'Paola 665', 'Paris 542', 'Paris 659', 'Parker 342', 'Patrice 471', 'Patricia 97', 'Patrick 36', 'Paul 49', 'Paula 296', 'Paulina 571', 'Pauline 756', 'Payton 895', 'Pedro 197', 'Peggy 1000', 'Perla 636', 'Perry 455', 'Pete 782', 'Peter 74', 'Peyton 947', 'Philip 111', 'Phillip 81', 'Phoebe 872', 'Phylicia 787', 'Pierce 891', 'Pierre 495', 'Porsha 736', 'Portia 844', 'Precious 452', 'Preston 198', 'Prince 917', 'Princess 760', 'Priscilla 167', 'Quentin 338', 'Quincy 502', 'Quinn 517', 'Quinten 861', 'Quintin 504', 'Quinton 297', 'Rachael 111', 'Racheal 637', 'Rachel 16', 'Rachelle 332', 'Rafael 202', 'Raheem 771', 'Rakeem 942', 'Ralph 385', 'Ramiro 478', 'Ramon 250', 'Randal 722', 'Randall 192', 'Randi 338', 'Randolph 672', 'Randy 131', 'Raphael 465', 'Raquel 239', 'Rashaad 918', 'Rashad 355', 'Rashawn 724', 'Rasheed 933', 'Raul 210', 'Raven 166', 'Ray 328', 'Raymond 92', 'Raymundo 826', 'Rebeca 725', 'Rebecca 21', 'Rebekah 149', 'Reece 791', 'Reed 655', 'Reese 896', 'Reggie 943', 'Regina 281', 'Reginald 230', 'Reid 544', 'Remington 927', 'Renae 988', 'Rene 303', 'Renee 184', 'Reuben 583', 'Rex 663', 'Reyna 726', 'Reynaldo 536', 'Rhett 842', 'Rhiannon 672', 'Rhonda 605', 'Ricardo 121', 'Richard 35', 'Richelle 898', 'Rick 510', 'Rickey 503', 'Ricky 176', 'Rico 584', 'Rigoberto 640', 'Rikki 824', 'Riley 311', 'Riley 827', 'Rita 547', 'Robbie 751', 'Robert 13', 'Roberta 939', 'Roberto 150', 'Robin 201', 'Robin 595', 'Robyn 309', 'Rocco 870', 'Rochelle 377', 'Rocio 548', 'Rocky 657', 'Roderick 387', 'Rodney 180', 'Rodolfo 401', 'Rodrick 827', 'Rodrigo 511', 'Rogelio 439', 'Roger 209', 'Roland 505', 'Rolando 497', 'Roman 374', 'Ron 738', 'Ronald 97', 'Ronnie 262', 'Ronny 976', 'Roosevelt 856', 'Rory 513', 'Rosa 242', 'Rose 307', 'Rosemary 509', 'Ross 190', 'Roxana 686', 'Roxanna 899', 'Roxanne 336', 'Roy 236', 'Royce 703', 'Ruben 177', 'Rubi 734', 'Ruby 291', 'Rudolph 848', 'Rudy 388', 'Russell 142', 'Rusty 607', 'Ruth 306', 'Ryan 11', 'Ryan 525', 'Ryne 624', 'Sabrina 118', 'Sade 569', 'Sadie 455', 'Sally 449', 'Salvador 293', 'Salvatore 567', 'Sam 395', 'Samantha 5', 'Samatha 880', 'Samir 948', 'Sammy 586', 'Samson 919', 'Samuel 45', 'Sandra 134', 'Sandy 379', 'Santiago 563', 'Santos 748', 'Sara 34', 'Sarah 6', 'Sarai 881', 'Sasha 198', 'Saul 409', 'Savanna 599', 'Savannah 204', 'Scott 53', 'Scotty 727', 'Sean 37', 'Sebastian 320', 'Selena 780', 'Selina 765', 'Serena 505', 'Sergio 161', 'Seth 102', 'Shaina 408', 'Shakira 888', 'Shameka 989', 'Shamika 978', 'Shana 349', 'Shanae 690', 'Shane 73', 'Shanell 920', 'Shanice 727', 'Shanika 728', 'Shaniqua 327', 'Shanna 430', 'Shannon 429', 'Shannon 68', 'Shante 612', 'Shantel 499', 'Shantell 991', 'Shari 943', 'Sharon 274', 'Shaun 224', 'Shauna 364', 'Shawn 69', 'Shawna 249', 'Shay 960', 'Shayla 337', 'Shayna 412', 'Shayne 484', 'Shea 683', 'Shea 856', 'Sheena 470', 'Sheila 413', 'Shelbi 883', 'Shelby 100', 'Shelby 525', 'Sheldon 441', 'Shelley 703', 'Shelly 565', 'Shelton 814', 'Sherman 793', 'Sherri 921', 'Sherry 581', 'Shirley 510', 'Sidney 515', 'Sidney 922', 'Sierra 141', 'Silas 968', 'Silvia 613', 'Simon 379', 'Simone 346', 'Skye 689', 'Skylar 466', 'Skylar 563', 'Skyler 301', 'Skyler 738', 'Sofia 645', 'Solomon 689', 'Sonia 315', 'Sonja 828', 'Sonny 651', 'Sonya 512', 'Sophia 250', 'Sophie 606', 'Spencer 105', 'Spenser 686', 'Stacey 168', 'Stacey 875', 'Staci 439', 'Stacie 420', 'Stacy 173', 'Stacy 822', 'Stanley 313', 'Stefan 367', 'Stefani 741', 'Stefanie 289', 'Stephan 406', 'Stephanie 7', 'Stephany 442', 'Stephen 39', 'Stephon 591', 'Sterling 463', 'Steve 267', 'Steven 25', 'Stevie 652', 'Stevie 802', 'Stewart 593', 'Stuart 344', 'Summer 271', 'Susan 172', 'Susana 555', 'Susanna 857', 'Suzanne 370', 'Sydney 150', 'Sylvester 713', 'Sylvia 333', 'Symone 822', 'Tabatha 416', 'Tabitha 164', 'Talia 607', 'Talon 929', 'Tamara 209', 'Tameka 842', 'Tamika 572', 'Tammy 450', 'Tanesha 809', 'Tania 489', 'Tanisha 385', 'Tanner 220', 'Tanya 252', 'Tara 85', 'Tarah 995', 'Taryn 335', 'Tasha 246', 'Tate 1000', 'Tatiana 283', 'Tavon 985', 'Tayler 708', 'Taylor 46', 'Taylor 64', 'Ted 642', 'Teddy 794', 'Tera 891', 'Terence 452', 'Teresa 180', 'Teri 838', 'Terra 630', 'Terrance 235', 'Terrell 282', 'Terrence 256', 'Terri 554', 'Terry 164', 'Tess 573', 'Tessa 290', 'Tevin 381', 'Thaddeus 581', 'Theodore 233', 'Theresa 196', 'Thomas 26', 'Tia 303', 'Tiana 424', 'Tianna 712', 'Tiara 245', 'Tiera 769', 'Tierra 352', 'Tiffani 456', 'Tiffanie 691', 'Tiffany 23', 'Timmy 871', 'Timothy 30', 'Tina 240', 'Titus 879', 'Tobias 725', 'Toby 577', 'Todd 158', 'Tom 692', 'Tomas 491', 'Tommie 892', 'Tommy 270', 'Toni 275', 'Tony 146', 'Tonya 365', 'Torey 991', 'Tori 466', 'Torrey 977', 'Tory 666', 'Tosha 979', 'Trace 978', 'Tracey 492', 'Traci 475', 'Tracie 927', 'Tracy 224', 'Tracy 516', 'Travis 42', 'Travon 853', 'Tremaine 954', 'Trent 253', 'Trenton 266', 'Trever 752', 'Trevon 843', 'Trevor 76', 'Trey 345', 'Tricia 496', 'Trina 917', 'Trisha 305', 'Trista 745', 'Tristan 330', 'Troy 128', 'Tucker 475', 'Ty 437', 'Tyesha 834', 'Tyler 21', 'Tyler 537', 'Tylor 546', 'Tyree 564', 'Tyrel 961', 'Tyrell 450', 'Tyron 716', 'Tyrone 260', 'Tyson 407', 'Ulises 798', 'Ulysses 753', 'Unknown 741', 'Uriel 690', 'Valencia 815', 'Valentin 902', 'Valeria 681', 'Valerie 129', 'Van 880', 'Vance 646', 'Vanessa 56', 'Vaughn 754', 'Vernon 489', 'Veronica 96', 'Vicente 587', 'Vicky 945', 'Victor 82', 'Victoria 33', 'Vince 888', 'Vincent 78', 'Virgil 810', 'Virginia 215', 'Vivian 448', 'Viviana 667', 'Wade 323', 'Walker 845', 'Wallace 905', 'Walter 191', 'Wanda 981', 'Warren 340', 'Waylon 995', 'Wayne 242', 'Wendell 680', 'Wendy 205', 'Wesley 107', 'Westley 734', 'Weston 398', 'Whitley 549', 'Whitney 60', 'Wilbert 944', 'Wilfredo 759', 'Will 589', 'William 16', 'Willie 222', 'Willis 815', 'Wilson 480', 'Winston 596', 'Wyatt 408', 'Xavier 186', 'Yadira 635', 'Yasmin 680', 'Yesenia 156', 'Yessenia 663', 'Yolanda 391', 'Yvette 361', 'Yvonne 371', 'Zachariah 327', 'Zachary 22', 'Zachery 234', 'Zackary 333', 'Zackery 419', 'Zakary 884', 'Zane 434', 'Zechariah 816', 'Zoe 504']\n",
      "-----------------------------------------\n",
      "./baby1998.html\n",
      "['1998', 'Aaliyah 222', 'Aaron 37', 'Abbey 408', 'Abbie 603', 'Abbigail 612', 'Abby 194', 'Abdul 970', 'Abdullah 897', 'Abel 378', 'Abigail 18', 'Abigayle 899', 'Abraham 211', 'Abram 942', 'Abril 957', 'Adam 45', 'Adan 533', 'Addison 403', 'Addison 548', 'Adolfo 604', 'Adonis 790', 'Adrian 71', 'Adrian 862', 'Adriana 133', 'Adrianna 190', 'Adrienne 440', 'Agustin 634', 'Ahmad 401', 'Ahmed 594', 'Aidan 196', 'Aiden 545', 'Aileen 485', 'Aimee 475', 'Aisha 604', 'Alaina 399', 'Alan 161', 'Alana 254', 'Alanna 507', 'Alayna 568', 'Albert 259', 'Alberto 247', 'Alden 783', 'Aldo 653', 'Aleah 677', 'Alec 112', 'Alejandra 157', 'Alejandro 95', 'Alena 768', 'Alessandra 753', 'Alessandro 871', 'Alex 56', 'Alex 771', 'Alexa 92', 'Alexander 22', 'Alexandra 27', 'Alexandre 921', 'Alexandrea 668', 'Alexandria 81', 'Alexandro 855', 'Alexia 229', 'Alexis 148', 'Alexis 6', 'Alexus 184', 'Alexys 991', 'Alfonso 465', 'Alfred 538', 'Alfredo 296', 'Ali 393', 'Ali 795', 'Alia 931', 'Alice 439', 'Alicia 98', 'Alina 494', 'Alisa 579', 'Alisha 341', 'Alison 188', 'Alissa 250', 'Alivia 659', 'Aliyah 335', 'Alize 713', 'Allan 452', 'Allen 239', 'Allie 312', 'Allison 38', 'Ally 416', 'Allyson 186', 'Allyssa 662', 'Alma 486', 'Alondra 203', 'Alonso 736', 'Alonzo 525', 'Alton 887', 'Alvaro 568', 'Alvin 445', 'Alycia 921', 'Alysa 774', 'Alysha 791', 'Alysia 884', 'Alyson 409', 'Alyssa 11', 'Alyssia 952', 'Amanda 19', 'Amani 733', 'Amari 513', 'Amari 680', 'Amber 37', 'Amelia 217', 'America 912', 'Amir 442', 'Amira 915', 'Amos 987', 'Amy 96', 'Ana 141', 'Anahi 515', 'Anastasia 265', 'Anderson 872', 'Andre 193', 'Andrea 61', 'Andreas 898', 'Andres 157', 'Andrew 9', 'Andy 223', 'Angel 138', 'Angel 81', 'Angela 100', 'Angelica 109', 'Angelina 268', 'Angelique 469', 'Angelo 302', 'Angie 597', 'Anika 731', 'Anissa 669', 'Anita 657', 'Ann 467', 'Anna 31', 'Annabelle 641', 'Anne 274', 'Annette 769', 'Annie 324', 'Annika 472', 'Ansley 750', 'Anthony 19', 'Antoine 553', 'Antoinette 757', 'Anton 672', 'Antonia 539', 'Antonio 79', 'Antony 832', 'Antwan 720', 'Anya 845', 'April 182', 'Araceli 595', 'Ari 873', 'Ariana 137', 'Arianna 167', 'Aric 837', 'Ariel 147', 'Ariel 475', 'Arielle 434', 'Arlene 725', 'Armando 224', 'Armani 658', 'Armani 926', 'Arnold 713', 'Aron 602', 'Arron 863', 'Arthur 290', 'Arturo 291', 'Asa 793', 'Asha 853', 'Ashanti 831', 'Asher 686', 'Ashlee 267', 'Ashleigh 288', 'Ashley 4', 'Ashlie 894', 'Ashly 866', 'Ashlyn 202', 'Ashlynn 448', 'Ashton 278', 'Ashton 318', 'Asia 206', 'Aspen 590', 'Athena 549', 'Aubree 854', 'Aubrey 243', 'Aubrey 827', 'Audra 974', 'Audrey 145', 'August 598', 'Augustus 924', 'Aurora 504', 'Austen 532', 'Austin 10', 'Auston 879', 'Austyn 656', 'Autumn 77', 'Ava 350', 'Avery 246', 'Avery 246', 'Axel 794', 'Ayana 724', 'Ayanna 447', 'Ayla 909', 'Aylin 737', 'Baby 731', 'Baby 900', 'Babyboy 977', 'Bailee 414', 'Bailey 153', 'Bailey 60', 'Barbara 463', 'Barrett 993', 'Barry 610', 'Baylee 316', 'Beatrice 935', 'Beatriz 643', 'Beau 450', 'Ben 562', 'Benito 874', 'Benjamin 30', 'Bennett 485', 'Benny 852', 'Berenice 761', 'Bernard 616', 'Bernardo 791', 'Bethany 132', 'Beverly 936', 'Bianca 156', 'Billy 332', 'Bishop 961', 'Blaine 498', 'Blair 826', 'Blaise 899', 'Blake 85', 'Blanca 581', 'Bo 833', 'Bobbi 981', 'Bobby 324', 'Bonnie 717', 'Brad 581', 'Braden 250', 'Bradford 834', 'Bradley 101', 'Bradly 777', 'Brady 163', 'Braeden 635', 'Brandan 757', 'Branden 309', 'Brandi 256', 'Brandon 7', 'Brandy 284', 'Brandyn 792', 'Brannon 909', 'Branson 931', 'Brant 880', 'Braxton 323', 'Brayan 688', 'Brayden 283', 'Braydon 629', 'Breana 459', 'Breann 953', 'Breanna 76', 'Breanne 788', 'Brenda 149', 'Brendan 99', 'Brenden 245', 'Brendon 318', 'Brenna 287', 'Brennan 274', 'Brennen 534', 'Brennon 896', 'Brent 249', 'Brenton 676', 'Breonna 933', 'Bret 605', 'Brett 133', 'Bria 531', 'Brian 41', 'Briana 79', 'Brianna 17', 'Brianne 506', 'Brice 527', 'Bridget 237', 'Bridgette 670', 'Brielle 676', 'Brionna 947', 'Britney 451', 'Brittani 728', 'Brittany 25', 'Brittney 143', 'Brock 279', 'Broderick 971', 'Brody 350', 'Bronson 875', 'Brook 675', 'Brooke 46', 'Brooklyn 200', 'Brooklynn 542', 'Brooks 729', 'Bruce 383', 'Bryan 74', 'Bryana 809', 'Bryanna 293', 'Bryant 312', 'Bryce 94', 'Brycen 957', 'Brynn 721', 'Bryson 321', 'Byron 422', 'Cade 335', 'Caden 464', 'Caitlin 78', 'Caitlyn 115', 'Caitlynn 735', 'Cale 856', 'Caleb 42', 'Caleigh 954', 'Cali 895', 'Calista 696', 'Callie 300', 'Calvin 203', 'Camden 522', 'Cameron 198', 'Cameron 35', 'Camila 814', 'Camille 283', 'Camron 461', 'Camryn 366', 'Candace 479', 'Candice 593', 'Cara 357', 'Carina 552', 'Carissa 400', 'Carl 260', 'Carla 406', 'Carlee 613', 'Carley 389', 'Carli 649', 'Carlie 468', 'Carlo 994', 'Carlos 69', 'Carlton 687', 'Carly 140', 'Carmen 277', 'Carol 658', 'Carolina 299', 'Caroline 74', 'Carolyn 327', 'Carrie 420', 'Carson 218', 'Carson 732', 'Carter 189', 'Casandra 599', 'Casey 150', 'Casey 170', 'Cassandra 85', 'Cassidy 113', 'Cassie 309', 'Catalina 939', 'Catherine 102', 'Cayla 558', 'Cecelia 806', 'Cecilia 285', 'Cedric 419', 'Celeste 252', 'Celia 619', 'Celina 663', 'Celine 456', 'Cesar 168', 'Chad 187', 'Chaim 801', 'Chance 208', 'Chandler 173', 'Chandler 588', 'Chanel 694', 'Chantel 682', 'Charity 529', 'Charlene 855', 'Charles 48', 'Charlie 454', 'Charlotte 305', 'Chase 67', 'Chase 955', 'Chasity 454', 'Chauncey 947', 'Chaya 970', 'Chaz 705', 'Chelsea 94', 'Chelsey 348', 'Chelsie 650', 'Cheyanne 329', 'Cheyenne 72', 'Chloe 87', 'Chris 406', 'Christa 637', 'Christian 26', 'Christian 483', 'Christiana 729', 'Christina 69', 'Christine 176', 'Christion 988', 'Christopher 5', 'Christy 614', 'Chyna 598', 'Ciara 251', 'Ciera 508', 'Cierra 181', 'Cindy 236', 'Claire 91', 'Clara 375', 'Clare 499', 'Clarence 563', 'Clarissa 302', 'Clark 733', 'Claudia 179', 'Clay 394', 'Clayton 150', 'Clifford 655', 'Clifton 696', 'Clint 778', 'Clinton 589', 'Clyde 925', 'Coby 575', 'Cody 43', 'Colby 220', 'Cole 77', 'Coleman 528', 'Colin 122', 'Colleen 344', 'Collin 130', 'Colt 758', 'Colten 493', 'Colton 105', 'Conner 192', 'Connie 867', 'Connor 47', 'Conor 333', 'Conrad 613', 'Constance 937', 'Cooper 254', 'Cora 536', 'Corbin 322', 'Cordell 531', 'Corey 115', 'Cori 983', 'Corina 945', 'Corinne 600', 'Cornelius 702', 'Cortez 760', 'Cortney 646', 'Cory 164', 'Courtney 39', 'Courtney 709', 'Craig 315', 'Cristal 522', 'Cristian 144', 'Cristina 315', 'Cristopher 715', 'Cruz 659', 'Crystal 110', 'Cullen 535', 'Curtis 226', 'Cydney 920', 'Cynthia 126', 'Cyrus 554', 'Daija 846', 'Daisha 877', 'Daisy 136', 'Dakota 247', 'Dakota 72', 'Dakotah 841', 'Dale 467', 'Dalia 786', 'Dallas 285', 'Dallas 756', 'Dallin 745', 'Dalton 88', 'Damaris 704', 'Damian 207', 'Damien 300', 'Damion 435', 'Damon 272', 'Dan 951', 'Dana 214', 'Dandre 582', 'Dane 482', 'Dangelo 623', 'Daniel 12', 'Daniela 195', 'Daniella 395', 'Danielle 41', 'Danny 270', 'Dante 201', 'Daphne 760', 'Daquan 517', 'Darby 686', 'Daria 741', 'Darian 387', 'Darian 543', 'Darien 572', 'Darin 780', 'Dario 910', 'Darion 614', 'Darius 162', 'Darlene 832', 'Darnell 555', 'Darrell 432', 'Darren 280', 'Darrian 934', 'Darrien 980', 'Darrin 739', 'Darrion 842', 'Darrius 633', 'Darryl 509', 'Daryl 693', 'Dashawn 573', 'Dasia 765', 'David 13', 'Davin 835', 'Davion 569', 'Davis 375', 'Davon 481', 'Davonte 689', 'Dawn 807', 'Dawson 175', 'Dayton 558', 'Dean 346', 'Deandre 287', 'Deangelo 636', 'Deanna 245', 'Deasia 958', 'Deborah 466', 'Debra 984', 'Declan 710', 'Deion 810', 'Deja 244', 'Dejah 784', 'Dejuan 967', 'Delaney 220', 'Delia 863', 'Delilah 878', 'Demarco 787', 'Demarcus 579', 'Demetrius 377', 'Demi 841', 'Denise 303', 'Dennis 238', 'Denver 784', 'Denzel 620', 'Deon 615', 'Deondre 734', 'Deontae 972', 'Deonte 539', 'Dequan 772', 'Derek 110', 'Derick 567', 'Derrick 194', 'Deshaun 807', 'Deshawn 428', 'Desirae 615', 'Desiree 159', 'Desmond 352', 'Destany 950', 'Destin 802', 'Destinee 307', 'Destiney 559', 'Destini 594', 'Destiny 34', 'Devan 409', 'Devante 571', 'Deven 491', 'Devin 461', 'Devin 62', 'Devon 119', 'Devon 505', 'Devonta 926', 'Devonte 440', 'Devyn 617', 'Devyn 751', 'Dewayne 866', 'Dexter 618', 'Diamond 164', 'Diana 83', 'Diane 644', 'Dianna 847', 'Diego 186', 'Dillan 596', 'Dillion 843', 'Dillon 134', 'Dimitri 673', 'Dion 665', 'Domenic 935', 'Dominic 120', 'Dominick 264', 'Dominik 867', 'Dominique 146', 'Dominique 479', 'Don 765', 'Donald 180', 'Donavan 690', 'Donna 567', 'Donnie 812', 'Donovan 209', 'Dontae 823', 'Donte 470', 'Dorian 506', 'Dorothy 710', 'Douglas 227', 'Drake 269', 'Draven 894', 'Drew 188', 'Drew 778', 'Duane 769', 'Dulce 692', 'Duncan 386', 'Dustin 108', 'Dwayne 510', 'Dwight 669', 'Dylan 25', 'Dylon 711', 'Earl 601', 'Easton 670', 'Eboni 992', 'Ebony 432', 'Eddie 339', 'Eden 565', 'Edgar 167', 'Edith 591', 'Eduardo 145', 'Edward 106', 'Edwin 197', 'Efrain 541', 'Efren 824', 'Eileen 554', 'Elaina 651', 'Elaine 523', 'Eleanor 386', 'Elena 273', 'Eli 288', 'Eliana 708', 'Elias 261', 'Elijah 66', 'Elisa 473', 'Elisabeth 381', 'Elise 294', 'Elisha 674', 'Elisha 946', 'Elissa 714', 'Eliza 449', 'Elizabeth 10', 'Ella 413', 'Ellen 426', 'Ellie 437', 'Elliot 468', 'Elliott 501', 'Ellis 817', 'Elmer 763', 'Elsa 998', 'Elvis 703', 'Elyse 762', 'Elyssa 803', 'Emanuel 364', 'Emely 586', 'Emerald 810', 'Emerson 868', 'Emilee 353', 'Emilia 856', 'Emilie 518', 'Emilio 340', 'Emily 1', 'Emma 22', 'Emmanuel 213', 'Emmett 847', 'Enrique 237', 'Eric 39', 'Erica 93', 'Erick 206', 'Ericka 547', 'Erik 140', 'Erika 124', 'Erin 57', 'Ernest 486', 'Ernesto 336', 'Erykah 779', 'Eryn 922', 'Esmeralda 134', 'Esperanza 700', 'Essence 457', 'Esteban 362', 'Estevan 684', 'Esther 323', 'Estrella 664', 'Ethan 38', 'Eugene 462', 'Eva 345', 'Evan 63', 'Eve 932', 'Evelyn 178', 'Everett 583', 'Ezekiel 453', 'Ezequiel 590', 'Ezra 492', 'Fabian 317', 'Fabiola 772', 'Faith 106', 'Fatima 497', 'Felicia 377', 'Felicity 818', 'Felipe 455', 'Felix 388', 'Fernanda 963', 'Fernando 166', 'Fidel 892', 'Fiona 520', 'Floyd 981', 'Forrest 619', 'Frances 471', 'Francesca 372', 'Francesco 989', 'Francis 410', 'Francisco 138', 'Frank 178', 'Frankie 681', 'Franklin 389', 'Fred 746', 'Freddie 830', 'Freddy 639', 'Frederick 361', 'Fredrick 621', 'Gabriel 54', 'Gabriel 827', 'Gabriela 129', 'Gabriella 116', 'Gabrielle 47', 'Gage 169', 'Garett 876', 'Garret 477', 'Garrett 80', 'Garrison 650', 'Gary 234', 'Gavin 116', 'Genaro 982', 'Genesis 260', 'Genevieve 535', 'Geoffrey 546', 'George 126', 'Georgia 429', 'Gerald 376', 'Gerard 838', 'Gerardo 217', 'German 759', 'Giancarlo 913', 'Gianna 266', 'Gianni 560', 'Gilbert 507', 'Gilberto 451', 'Gillian 330', 'Gina 298', 'Gino 795', 'Giovanna 758', 'Giovanni 225', 'Giovanny 936', 'Giselle 242', 'Gisselle 632', 'Glen 740', 'Glenn 496', 'Gloria 334', 'Gonzalo 900', 'Gordon 640', 'Grace 53', 'Gracie 620', 'Graciela 574', 'Grady 825', 'Graham 407', 'Grant 127', 'Grayson 359', 'Gregorio 927', 'Gregory 109', 'Gretchen 746', 'Greyson 796', 'Griffin 215', 'Guadalupe 223', 'Guadalupe 708', 'Guillermo 369', 'Gunnar 511', 'Gunner 666', 'Gustavo 311', 'Guy 764', 'Gwendolyn 702', 'Hadley 964', 'Hailee 489', 'Hailey 70', 'Hakeem 788', 'Haleigh 430', 'Haley 35', 'Halie 665', 'Halle 570', 'Hallie 480', 'Hamza 943', 'Hana 738', 'Hanna 165', 'Hannah 2', 'Hans 937', 'Harley 352', 'Harley 431', 'Harmony 938', 'Harold 514', 'Harrison 174', 'Harry 469', 'Hassan 677', 'Haven 923', 'Hayden 160', 'Hayden 836', 'Haylee 358', 'Hayley 151', 'Haylie 828', 'Hazel 940', 'Heath 651', 'Heather 99', 'Heaven 359', 'Hector 185', 'Heidi 342', 'Helen 349', 'Helena 678', 'Henry 136', 'Herbert 797', 'Heriberto 848', 'Herman 938', 'Hernan 922', 'Hillary 868', 'Holden 416', 'Hollie 999', 'Holly 163', 'Hope 160', 'Houston 725', 'Howard 586', 'Hudson 667', 'Hugh 773', 'Hugo 415', 'Humberto 576', 'Hunter 304', 'Hunter 36', 'Ian 73', 'Ibrahim 836', 'Ignacio 638', 'Iliana 888', 'Imani 253', 'India 498', 'Infant 945', 'Ingrid 896', 'Ireland 819', 'Irene 493', 'Iris 453', 'Irvin 642', 'Isaac 65', 'Isabel 118', 'Isabella 84', 'Isabelle 196', 'Isai 962', 'Isaiah 59', 'Isaias 580', 'Ishmael 952', 'Isiah 348', 'Isidro 958', 'Isis 625', 'Ismael 351', 'Israel 243', 'Issac 476', 'Itzel 747', 'Ivan 154', 'Ivana 975', 'Ivy 383', 'Izaiah 853', 'Jabari 916', 'Jace 379', 'Jacey 872', 'Jack 61', 'Jackie 779', 'Jacklyn 775', 'Jackson 100', 'Jaclyn 391', 'Jacob 2', 'Jacoby 761', 'Jacqueline 95', 'Jacquelyn 370', 'Jacques 914', 'Jacquez 864', 'Jada 119', 'Jade 125', 'Jaden 328', 'Jaden 763', 'Jadon 753', 'Jaelyn 901', 'Jaida 874', 'Jailene 544', 'Jaime 240', 'Jaime 566', 'Jairo 737', 'Jake 102', 'Jakob 190', 'Jaleel 818', 'Jalen 204', 'Jalon 918', 'Jamal 372', 'Jamar 657', 'Jamarcus 854', 'Jamari 826', 'Jamel 749', 'James 18', 'Jameson 698', 'Jamie 112', 'Jamie 403', 'Jamil 953', 'Jamison 599', 'Jana 857', 'Janae 481', 'Jane 415', 'Janelle 411', 'Janessa 699', 'Janet 371', 'Janette 965', 'Janice 711', 'Janie 971', 'Jaquan 425', 'Jaqueline 695', 'Jared 51', 'Jaren 858', 'Jaret 556', 'Jarett 742', 'Jarod 275', 'Jaron 591', 'Jarred 426', 'Jarrett 282', 'Jarrod 396', 'Jarvis 691', 'Jasmin 177', 'Jasmine 26', 'Jasmyn 859', 'Jason 40', 'Jasper 611', 'Javier 149', 'Javon 420', 'Javonte 813', 'Jaxon 692', 'Jay 326', 'Jayce 881', 'Jaycee 993', 'Jayda 680', 'Jayde 996', 'Jayden 395', 'Jayden 886', 'Jayla 387', 'Jaylan 901', 'Jaylen 349', 'Jaylin 588', 'Jaylon 489', 'Jayme 976', 'Jayson 360', 'Jazlyn 688', 'Jazmin 207', 'Jazmine 219', 'Jazmyn 634', 'Jazmyne 916', 'Jean 806', 'Jeanette 715', 'Jefferson 722', 'Jeffery 293', 'Jeffrey 91', 'Jelani 932', 'Jena 879', 'Jenifer 773', 'Jenna 65', 'Jennifer 20', 'Jenny 368', 'Jensen 968', 'Jensen 988', 'Jeremiah 114', 'Jeremy 68', 'Jermaine 430', 'Jerod 939', 'Jerome 414', 'Jerrod 911', 'Jerry 228', 'Jesse 70', 'Jesse 792', 'Jessica 8', 'Jessie 379', 'Jessie 385', 'Jessika 960', 'Jesus 76', 'Jewel 516', 'Jill 808', 'Jillian 158', 'Jimmie 882', 'Jimmy 265', 'Joanna 239', 'Joanne 892', 'Joaquin 557', 'Jocelyn 128', 'Jocelyne 885', 'Jodi 910', 'Joe 286', 'Joel 118', 'Joelle 837', 'Joey 519', 'Johan 940', 'Johanna 502', 'John 15', 'Johnathan 143', 'Johnathon 343', 'Johnnie 902', 'Johnny 216', 'Jon 329', 'Jonah 219', 'Jonas 521', 'Jonathan 21', 'Jonathon 195', 'Jordan 27', 'Jordan 42', 'Jorden 697', 'Jordi 903', 'Jordon 429', 'Jordy 803', 'Jordyn 197', 'Jorge 107', 'Jose 33', 'Josef 756', 'Joselyn 776', 'Joseph 11', 'Josephine 347', 'Josh 877', 'Joshua 4', 'Josiah 212', 'Josie 360', 'Josue 256', 'Jovan 646', 'Jovani 963', 'Jovany 964', 'Joy 442', 'Joyce 685', 'Juan 52', 'Juanita 730', 'Judah 995', 'Judith 550', 'Judy 994', 'Julia 32', 'Julian 124', 'Juliana 289', 'Julianna 259', 'Julianne 410', 'Julie 168', 'Julien 782', 'Juliet 605', 'Juliette 671', 'Julio 251', 'Julissa 332', 'Julius 487', 'Junior 751', 'Justice 342', 'Justice 435', 'Justin 20', 'Justina 917', 'Justine 376', 'Justus 719', 'Justyn 706', 'Juwan 523', 'Kacey 647', 'Kaci 766', 'Kacie 495', 'Kade 529', 'Kaden 433', 'Kaela 726', 'Kaelyn 742', 'Kai 549', 'Kaila 464', 'Kailee 511', 'Kailey 279', 'Kailyn 652', 'Kaitlin 120', 'Kaitlyn 36', 'Kaitlynn 355', 'Kale 996', 'Kaleb 156', 'Kaleigh 423', 'Kalen 859', 'Kaley 500', 'Kali 401', 'Kalie 800', 'Kallie 722', 'Kalyn 811', 'Kameron 267', 'Kameron 951', 'Kamron 743', 'Kamryn 553', 'Kane 564', 'Kara 175', 'Kareem 595', 'Karen 152', 'Kari 660', 'Karina 144', 'Karissa 428', 'Karl 483', 'Karla 209', 'Karlee 592', 'Karley 712', 'Karli 596', 'Karlie 601', 'Karly 629', 'Kasandra 697', 'Kasey 301', 'Kasey 628', 'Kassandra 248', 'Kassidy 367', 'Katarina 606', 'Kate 272', 'Katelin 587', 'Katelyn 58', 'Katelynn 210', 'Katerina 824', 'Katharine 548', 'Katherine 33', 'Kathleen 171', 'Kathryn 90', 'Kathy 618', 'Katia 941', 'Katie 88', 'Katlin 716', 'Katlyn 262', 'Katlynn 801', 'Katrina 235', 'Katy 829', 'Kaycee 812', 'Kayla 12', 'Kaylah 815', 'Kaylan 967', 'Kaylee 86', 'Kayleigh 363', 'Kaylen 985', 'Kayley 555', 'Kayli 723', 'Kaylie 405', 'Kaylin 441', 'Kaylyn 562', 'Kaylynn 770', 'Keagan 948', 'Keanu 973', 'Keaton 363', 'Keegan 305', 'Keely 540', 'Keenan 458', 'Keisha 1000', 'Keith 191', 'Kellen 798', 'Kelley 782', 'Kelli 452', 'Kellie 541', 'Kelly 699', 'Kelly 89', 'Kelsea 908', 'Kelsey 56', 'Kelsi 521', 'Kelsie 351', 'Kelton 849', 'Kelvin 367', 'Kendal 880', 'Kendall 187', 'Kendall 368', 'Kendra 154', 'Kendrick 417', 'Kenia 977', 'Kennedi 995', 'Kennedy 183', 'Kennedy 928', 'Kenneth 86', 'Kenny 478', 'Kent 723', 'Kenton 974', 'Kenya 534', 'Kenyon 983', 'Kenzie 705', 'Keon 647', 'Keri 850', 'Kerri 978', 'Kerry 941', 'Keshawn 660', 'Keven 814', 'Kevin 32', 'Kevon 819', 'Keyon 984', 'Keyshawn 799', 'Khalid 808', 'Khalil 399', 'Kia 972', 'Kiana 226', 'Kianna 654', 'Kiara 173', 'Kiera 443', 'Kieran 625', 'Kierra 373', 'Kiersten 458', 'Kiley 537', 'Killian 997', 'Kimberly 54', 'Kinsey 833', 'Kira 275', 'Kirk 718', 'Kirsten 201', 'Kirstin 893', 'Kobe 263', 'Koby 592', 'Kody 334', 'Kolby 550', 'Kole 748', 'Kolton 607', 'Konnor 998', 'Kordell 844', 'Korey 704', 'Kori 754', 'Kortney 942', 'Kory 622', 'Kourtney 576', 'Krista 317', 'Kristen 101', 'Kristi 830', 'Kristian 404', 'Kristin 211', 'Kristina 192', 'Kristine 635', 'Kristofer 815', 'Kristopher 266', 'Kristy 727', 'Krystal 282', 'Kurt 543', 'Kurtis 606', 'Kyla 264', 'Kylan 999', 'Kyle 24', 'Kylee 234', 'Kyleigh 666', 'Kyler 314', 'Kylie 117', 'Kyra 199', 'Kyree 888', 'Lacey 321', 'Lacy 913', 'Ladarius 754', 'Lamar 682', 'Lamont 732', 'Lance 316', 'Landen 839', 'Landon 202', 'Lane 294', 'Lara 825', 'Larissa 396', 'Larry 248', 'Laura 75', 'Laurel 509', 'Lauren 14', 'Lauryn 421', 'Lawrence 277', 'Layla 860', 'Layne 735', 'Lea 636', 'Leah 107', 'Leann 622', 'Leanna 575', 'Leanne 780', 'Lee 402', 'Leeann 982', 'Leila 736', 'Leilani 739', 'Leland 990', 'Lena 527', 'Leo 434', 'Leon 480', 'Leonard 473', 'Leonardo 257', 'Leonel 561', 'Leroy 644', 'Lesley 394', 'Leslie 111', 'Lesly 490', 'Leticia 474', 'Levi 159', 'Lewis 559', 'Lexi 407', 'Lexie 524', 'Lexis 948', 'Lexus 519', 'Lia 968', 'Liam 155', 'Liana 797', 'Lila 929', 'Lilian 804', 'Liliana 343', 'Lillian 174', 'Lillie 875', 'Lilly 584', 'Lily 169', 'Lincoln 883', 'Linda 313', 'Lindsay 161', 'Lindsey 97', 'Lionel 915', 'Lisa 230', 'Lizbeth 419', 'Lizeth 969', 'Lizette 684', 'Lloyd 893', 'Logan 292', 'Logan 44', 'Lonnie 789', 'Loren 706', 'Loren 975', 'Lorena 445', 'Lorenzo 295', 'Lori 718', 'Louis 252', 'Lourdes 889', 'Lucas 93', 'Lucero 869', 'Lucia 630', 'Luciano 959', 'Lucy 392', 'Luis 53', 'Lukas 392', 'Luke 75', 'Luz 501', 'Lydia 153', 'Lyndsey 627', 'Lyric 639', 'Macey 608', 'Maci 914', 'Macie 701', 'Mackenzie 626', 'Mackenzie 64', 'Macy 337', 'Madalyn 402', 'Maddison 460', 'Madeleine 216', 'Madeline 50', 'Madelyn 162', 'Madelynn 631', 'Madilyn 805', 'Madisen 698', 'Madison 752', 'Madison 9', 'Madisyn 578', 'Madyson 628', 'Maegan 648', 'Maeve 881', 'Magdalena 816', 'Maggie 249', 'Maia 538', 'Makala 781', 'Makayla 71', 'Makenna 422', 'Makenzie 269', 'Malachi 413', 'Malcolm 366', 'Malia 653', 'Malik 139', 'Mallory 204', 'Manuel 147', 'Mara 589', 'Maranda 642', 'Marc 242', 'Marcel 661', 'Marcella 897', 'Marcelo 845', 'Marco 181', 'Marcos 236', 'Marcus 96', 'Margaret 114', 'Margarita 609', 'Maria 43', 'Mariah 62', 'Mariam 748', 'Mariana 340', 'Marianna 882', 'Mariano 1000', 'Maribel 577', 'Maricela 918', 'Marie 364', 'Mariela 564', 'Marilyn 491', 'Marina 322', 'Mario 151', 'Marisa 213', 'Marisol 385', 'Marissa 66', 'Maritza 551', 'Mark 64', 'Markel 904', 'Markell 906', 'Markus 631', 'Marlee 943', 'Marlena 944', 'Marlene 573', 'Marley 752', 'Marlon 494', 'Marques 831', 'Marquez 663', 'Marquis 357', 'Marquise 443', 'Marshall 353', 'Martha 374', 'Martin 165', 'Martina 924', 'Marvin 325', 'Mary 45', 'Mason 83', 'Mateo 513', 'Mathew 222', 'Matteo 933', 'Matthew 3', 'Mattie 934', 'Maura 683', 'Maurice 327', 'Mauricio 472', 'Maverick 804', 'Max 158', 'Maximilian 441', 'Maximillian 716', 'Maxwell 135', 'Maya 123', 'Mayra 361', 'Mckayla 369', 'Mckenna 212', 'Mckenzie 142', 'Meagan 263', 'Meaghan 583', 'Megan 13', 'Meghan 121', 'Mekhi 923', 'Melanie 135', 'Melina 793', 'Melinda 585', 'Melisa 961', 'Melissa 59', 'Melody 390', 'Melvin 418', 'Mercedes 224', 'Meredith 280', 'Mia 130', 'Micaela 462', 'Micah 199', 'Micah 582', 'Michael 1', 'Michaela 103', 'Micheal 271', 'Michele 734', 'Michelle 55', 'Miguel 90', 'Miguelangel 965', 'Mikaela 295', 'Mikala 740', 'Mikayla 82', 'Mike 630', 'Mikel 860', 'Miles 253', 'Milton 747', 'Miracle 633', 'Miranda 80', 'Mireya 563', 'Miriam 310', 'Misael 741', 'Misty 719', 'Mitchel 641', 'Mitchell 103', 'Mohamed 502', 'Mohammad 488', 'Mohammed 524', 'Moises 371', 'Mollie 557', 'Molly 108', 'Monica 105', 'Monika 930', 'Monique 258', 'Montana 510', 'Montana 821', 'Morgan 23', 'Morgan 297', 'Moriah 545', 'Moses 508', 'Moshe 654', 'Muhammad 726', 'Mya 238', 'Myah 787', 'Myles 304', 'Myra 919', 'Myranda 822', 'Myron 809', 'Nadia 319', 'Nadine 798', 'Najee 946', 'Nancy 208', 'Naomi 191', 'Nash 770', 'Nasir 884', 'Natalia 270', 'Natalie 40', 'Nataly 745', 'Natasha 205', 'Nathalie 444', 'Nathan 34', 'Nathanael 408', 'Nathanial 544', 'Nathaniel 60', 'Nathen 949', 'Nautica 949', 'Nayeli 796', 'Neal 766', 'Nehemiah 828', 'Neil 463', 'Nelson 400', 'Nestor 727', 'Nia 331', 'Nicholas 6', 'Nichole 427', 'Nick 829', 'Nicklaus 969', 'Nickolas 258', 'Nico 889', 'Nicolas 132', 'Nicole 24', 'Nicolette 580', 'Nigel 537', 'Nikhil 954', 'Nikita 645', 'Nikki 482', 'Niko 950', 'Nikolas 284', 'Nina 231', 'Noah 29', 'Noe 474', 'Noel 456', 'Noel 870', 'Noelle 404', 'Noemi 561', 'Nolan 233', 'Nora 476', 'Norma 720', 'Norman 652', 'Octavia 876', 'Octavio 800', 'Odalis 890', 'Odalys 902', 'Oliver 356', 'Olivia 21', 'Omar 146', 'Omari 850', 'Orion 540', 'Orlando 391', 'Oscar 129', 'Osvaldo 515', 'Owen 179', 'Pablo 310', 'Paige 63', 'Paloma 979', 'Pamela 388', 'Paola 354', 'Paris 455', 'Paris 774', 'Parker 141', 'Patience 848', 'Patricia 180', 'Patrick 57', 'Paul 89', 'Paula 546', 'Paulina 533', 'Paxton 917', 'Payton 227', 'Payton 308', 'Pedro 200', 'Perla 487', 'Perry 624', 'Peter 111', 'Peyton 218', 'Peyton 221', 'Philip 214', 'Phillip 177', 'Phoebe 607', 'Phoenix 907', 'Pierce 597', 'Pierre 805', 'Precious 380', 'Presley 989', 'Preston 176', 'Prince 851', 'Princess 794', 'Priscilla 240', 'Quentin 273', 'Quincy 574', 'Quinn 330', 'Quinn 764', 'Quinten 675', 'Quintin 542', 'Quinton 337', 'Rachael 170', 'Rachel 15', 'Rachelle 689', 'Raegan 759', 'Raekwon 683', 'Rafael 229', 'Raheem 738', 'Rahul 976', 'Raina 997', 'Ralph 584', 'Ramiro 495', 'Ramon 281', 'Randall 382', 'Randi 655', 'Randy 244', 'Raphael 668', 'Raquel 325', 'Rashad 570', 'Rashawn 712', 'Rasheed 966', 'Raul 232', 'Raven 185', 'Raven 861', 'Ray 490', 'Raymond 142', 'Raymundo 816', 'Reagan 333', 'Reagan 929', 'Reanna 789', 'Rebeca 707', 'Rebecca 30', 'Rebekah 155', 'Reece 466', 'Reed 439', 'Reese 547', 'Regan 431', 'Regina 503', 'Reginald 355', 'Reid 423', 'Reilly 623', 'Reilly 908', 'Reina 891', 'Remington 728', 'Rene 397', 'Renee 338', 'Reuben 744', 'Rex 944', 'Reyna 610', 'Reynaldo 721', 'Rhett 637', 'Rhianna 904', 'Rhiannon 465', 'Ricardo 125', 'Richard 55', 'Rick 885', 'Rickey 905', 'Ricky 292', 'Rico 955', 'Rigoberto 648', 'Riley 128', 'Riley 166', 'Rita 865', 'River 499', 'Robert 23', 'Roberto 172', 'Robin 512', 'Robin 912', 'Robyn 484', 'Rochelle 873', 'Rocio 673', 'Rocky 985', 'Roderick 627', 'Rodney 319', 'Rodolfo 411', 'Rodrigo 446', 'Rogelio 484', 'Roger 347', 'Rohan 785', 'Roland 678', 'Rolando 497', 'Roman 338', 'Romeo 603', 'Ronald 182', 'Ronaldo 552', 'Ronnie 436', 'Rory 608', 'Rosa 278', 'Rose 297', 'Rosemary 617', 'Ross 341', 'Roxanne 838', 'Roy 384', 'Royce 919', 'Ruben 205', 'Ruby 257', 'Rudy 526', 'Russell 299', 'Ruth 346', 'Ryan 17', 'Ryan 528', 'Ryann 980', 'Ryder 920', 'Rylan 662', 'Rylee 384', 'Rylie 656', 'Sabrina 68', 'Sade 911', 'Sadie 276', 'Sage 551', 'Sage 611', 'Sally 693', 'Salma 571', 'Salvador 331', 'Salvatore 609', 'Sam 460', 'Samantha 3', 'Samara 990', 'Samir 869', 'Sammy 685', 'Samuel 28', 'Sandra 228', 'Sandy 640', 'Santiago 447', 'Santos 724', 'Sara 48', 'Sarah 5', 'Sarai 616', 'Sarina 820', 'Sasha 433', 'Saul 307', 'Savana 887', 'Savanah 496', 'Savanna 241', 'Savannah 44', 'Savion 730', 'Sawyer 503', 'Scarlett 834', 'Scott 123', 'Seamus 890', 'Sean 50', 'Sebastian 198', 'Selena 139', 'Selina 681', 'Serena 221', 'Serenity 842', 'Sergio 171', 'Serina 959', 'Seth 87', 'Shae 925', 'Shaina 672', 'Shakira 861', 'Shamar 700', 'Shana 839', 'Shane 117', 'Shania 286', 'Shanice 962', 'Shannon 104', 'Shannon 649', 'Shantel 986', 'Sharon 398', 'Shaun 370', 'Shauna 871', 'Shawn 113', 'Shawna 556', 'Shayla 306', 'Shaylee 813', 'Shayna 488', 'Shayne 714', 'Shea 703', 'Sheila 661', 'Shelbi 898', 'Shelbie 777', 'Shelby 49', 'Shelby 886', 'Sheldon 518', 'Shemar 930', 'Shianne 905', 'Shirley 743', 'Shyann 744', 'Shyanne 514', 'Sidney 271', 'Sidney 536', 'Sienna 532', 'Sierra 51', 'Silas 679', 'Silvia 799', 'Simeon 840', 'Simon 301', 'Simone 450', 'Skye 492', 'Skyla 843', 'Skylar 172', 'Skylar 358', 'Skyler 230', 'Skyler 296', 'Sofia 232', 'Solomon 500', 'Sonia 418', 'Sonny 878', 'Sonya 783', 'Sophia 73', 'Sophie 255', 'Spencer 84', 'Stacey 560', 'Stacy 517', 'Stanley 471', 'Star 973', 'Starr 823', 'Stefan 530', 'Stefanie 709', 'Stella 906', 'Stephan 600', 'Stephanie 29', 'Stephany 679', 'Stephen 78', 'Stephon 587', 'Sterling 505', 'Steve 390', 'Steven 46', 'Stevie 903', 'Stewart 991', 'Stone 632', 'Stuart 664', 'Summer 131', 'Susan 382', 'Susana 687', 'Suzanne 844', 'Sydnee 626', 'Sydney 28', 'Sydni 883', 'Sydnie 849', 'Syed 986', 'Sylvia 470', 'Tabitha 281', 'Tahj 771', 'Taj 956', 'Talia 393', 'Talon 707', 'Tamara 336', 'Tamera 821', 'Tamia 378', 'Tammy 840', 'Tania 446', 'Tanisha 858', 'Tanner 82', 'Tanya 602', 'Tara 189', 'Tarik 978', 'Tariq 444', 'Taryn 436', 'Tasia 802', 'Tate 512', 'Tatiana 215', 'Tatianna 817', 'Tatum 397', 'Tatyana 311', 'Tavian 862', 'Taya 638', 'Tayla 987', 'Tayler 424', 'Taylor 104', 'Taylor 7', 'Tea 749', 'Terence 775', 'Teresa 308', 'Terrance 374', 'Terrell 320', 'Terrence 459', 'Terry 303', 'Tess 572', 'Tessa 225', 'Tevin 585', 'Thaddeus 811', 'Thalia 624', 'Theodore 289', 'Theresa 365', 'Thomas 31', 'Tia 314', 'Tiana 291', 'Tianna 477', 'Tiara 328', 'Tierra 425', 'Tiffani 674', 'Tiffany 67', 'Timothy 49', 'Tina 569', 'Titus 786', 'Tobias 593', 'Toby 577', 'Todd 365', 'Tomas 457', 'Tommy 298', 'Toni 417', 'Tony 255', 'Tori 233', 'Trace 437', 'Tracy 667', 'Tracy 781', 'Travis 98', 'Travon 643', 'Tre 645', 'Trent 231', 'Trenton 183', 'Trever 717', 'Trevin 992', 'Trevon 344', 'Trevor 58', 'Trey 210', 'Trinity 526', 'Trisha 790', 'Tristan 851', 'Tristan 92', 'Tristen 276', 'Tristian 671', 'Tristin 421', 'Triston 380', 'Troy 184', 'Trystan 857', 'Tucker 306', 'Turner 820', 'Ty 262', 'Tyler 356', 'Tyler 8', 'Tylor 504', 'Tyquan 846', 'Tyra 320', 'Tyree 405', 'Tyreek 822', 'Tyrek 694', 'Tyrell 449', 'Tyrese 612', 'Tyrik 895', 'Tyriq 776', 'Tyrique 755', 'Tyron 865', 'Tyrone 398', 'Tyshawn 891', 'Tyson 381', 'Ulises 565', 'Ulysses 750', 'Unique 864', 'Uriel 516', 'Valentin 979', 'Valentina 835', 'Valeria 290', 'Valerie 148', 'Vanesa 927', 'Vanessa 52', 'Vaughn 870', 'Vernon 767', 'Veronica 127', 'Vicente 566', 'Victor 97', 'Victoria 16', 'Vincent 121', 'Vincenzo 960', 'Violet 907', 'Virginia 362', 'Vivian 326', 'Viviana 478', 'Wade 448', 'Walker 427', 'Walter 313', 'Warren 424', 'Wayne 438', 'Wendy 339', 'Wesley 152', 'Weston 412', 'Whitney 193', 'Will 578', 'William 14', 'Willie 354', 'Willow 852', 'Wilson 520', 'Winston 762', 'Wyatt 137', 'Xavier 131', 'Yadira 691', 'Yajaira 966', 'Yasmeen 767', 'Yasmin 438', 'Yasmine 412', 'Yazmin 956', 'Yesenia 261', 'Yessenia 785', 'Yolanda 755', 'Yvette 621', 'Yvonne 690', 'Zachariah 373', 'Zachary 16', 'Zachery 241', 'Zackary 235', 'Zackery 345', 'Zakary 768', 'Zane 268', 'Zaria 525', 'Zechariah 701', 'Zion 695', 'Zoe 122', 'Zoey 530', 'Zoie 928']\n",
      "-----------------------------------------\n",
      "./baby2008.html\n",
      "['2008', 'Aaden 343', 'Aaliyah 77', 'Aarav 921', 'Aaron 50', 'Abagail 874', 'Abbey 822', 'Abbie 737', 'Abbigail 508', 'Abby 259', 'Abdiel 984', 'Abdullah 953', 'Abel 360', 'Abigail 8', 'Abigayle 936', 'Abraham 187', 'Abram 548', 'Abril 522', 'Ace 714', 'Ada 598', 'Adalyn 526', 'Adalynn 845', 'Adam 72', 'Adan 299', 'Addison 12', 'Addison 820', 'Addisyn 556', 'Addyson 240', 'Adelaide 551', 'Adeline 361', 'Adelyn 577', 'Aden 254', 'Adison 900', 'Aditya 702', 'Adolfo 731', 'Adonis 854', 'Adrian 56', 'Adriana 124', 'Adrianna 173', 'Adriel 584', 'Adrien 727', 'Adrienne 786', 'Adyson 648', 'Aedan 821', 'Agustin 740', 'Ahmad 559', 'Ahmed 576', 'Aidan 59', 'Aiden 16', 'Aidyn 699', 'Aileen 483', 'Aimee 779', 'Ainsley 441', 'Aisha 764', 'Aiyana 595', 'Akira 705', 'Alaina 223', 'Alan 135', 'Alana 166', 'Alani 913', 'Alanna 461', 'Alannah 938', 'Alayna 285', 'Albert 372', 'Alberto 338', 'Alden 916', 'Aldo 569', 'Aleah 627', 'Alec 390', 'Aleena 664', 'Alejandra 255', 'Alejandro 105', 'Alena 686', 'Alessandra 407', 'Alessandro 624', 'Alex 85', 'Alexa 50', 'Alexander 6', 'Alexandra 61', 'Alexandria 189', 'Alexia 213', 'Alexis 15', 'Alexis 169', 'Alexus 721', 'Alexzander 674', 'Alfonso 585', 'Alfred 787', 'Alfredo 388', 'Ali 398', 'Ali 866', 'Alia 929', 'Aliana 907', 'Alice 326', 'Alicia 178', 'Alijah 469', 'Alina 245', 'Alisa 867', 'Alisha 642', 'Alison 273', 'Alissa 438', 'Alisson 783', 'Alivia 181', 'Aliya 668', 'Aliyah 192', 'Aliza 861', 'Allan 552', 'Allen 294', 'Allie 230', 'Allison 32', 'Allisson 418', 'Ally 766', 'Allyson 266', 'Alma 792', 'Alondra 201', 'Alonso 660', 'Alonzo 542', 'Alvaro 639', 'Alvin 437', 'Alyson 480', 'Alyssa 16', 'Alyvia 970', 'Amanda 138', 'Amani 583', 'Amara 578', 'Amare 677', 'Amari 344', 'Amari 393', 'Amaris 987', 'Amaya 198', 'Amber 165', 'Amelia 68', 'Amelie 781', 'America 503', 'Amiah 963', 'Amina 763', 'Amir 297', 'Amira 436', 'Amirah 765', 'Amiya 660', 'Amiyah 479', 'Amy 132', 'Amya 493', 'Ana 169', 'Anabel 955', 'Anabella 919', 'Anabelle 710', 'Anahi 437', 'Anastasia 360', 'Anaya 439', 'Anderson 326', 'Andre 220', 'Andrea 71', 'Andreas 969', 'Andres 158', 'Andrew 12', 'Andy 211', 'Angel 160', 'Angel 36', 'Angela 133', 'Angelica 257', 'Angelina 69', 'Angeline 784', 'Angelique 687', 'Angelo 284', 'Angie 340', 'Anika 573', 'Aniya 272', 'Aniyah 187', 'Ann 830', 'Anna 26', 'Annabel 801', 'Annabella 589', 'Annabelle 188', 'Annalise 702', 'Anne 499', 'Annie 392', 'Annika 402', 'Ansley 719', 'Anthony 7', 'Antoine 693', 'Anton 832', 'Antonio 102', 'Antony 895', 'Antwan 879', 'Anya 375', 'April 333', 'Arabella 657', 'Araceli 767', 'Aracely 868', 'Areli 848', 'Arely 610', 'Ari 532', 'Aria 575', 'Ariana 81', 'Arianna 66', 'Ariel 217', 'Ariel 570', 'Ariella 923', 'Arielle 619', 'Arjun 755', 'Armando 293', 'Armani 583', 'Armani 755', 'Arnav 974', 'Aron 600', 'Arthur 363', 'Arturo 352', 'Aryan 669', 'Aryana 753', 'Aryanna 613', 'Asa 633', 'Ashanti 930', 'Asher 206', 'Ashlee 535', 'Ashleigh 927', 'Ashley 18', 'Ashly 838', 'Ashlyn 153', 'Ashlynn 282', 'Ashton 121', 'Ashtyn 975', 'Asia 386', 'Aspen 700', 'Athena 455', 'Atticus 689', 'Aubree 276', 'Aubrey 42', 'Aubrie 470', 'Audrey 44', 'Audrina 353', 'August 482', 'Augustus 795', 'Aurora 288', 'Austin 55', 'Autumn 89', 'Ava 5', 'Avah 972', 'Averi 966', 'Averie 768', 'Avery 216', 'Avery 38', 'Axel 272', 'Ayaan 908', 'Ayana 814', 'Ayanna 579', 'Aydan 567', 'Ayden 91', 'Aydin 627', 'Ayla 406', 'Aylin 557', 'Azaria 954', 'Azul 611', 'Bailee 513', 'Bailey 790', 'Bailey 82', 'Barbara 758', 'Baron 991', 'Barrett 609', 'Baylee 419', 'Beatrice 833', 'Beau 397', 'Beckett 480', 'Beckham 893', 'Belen 869', 'Belinda 747', 'Bella 122', 'Ben 611', 'Benjamin 25', 'Bennett 361', 'Bentley 937', 'Bernard 940', 'Bethany 318', 'Bianca 204', 'Billy 564', 'Blaine 614', 'Blake 90', 'Blaze 866', 'Bo 840', 'Bobby 525', 'Boston 563', 'Braden 156', 'Bradley 201', 'Brady 94', 'Bradyn 612', 'Braeden 346', 'Braedon 822', 'Braelyn 563', 'Braiden 494', 'Branden 586', 'Brandon 33', 'Branson 873', 'Braxton 202', 'Brayan 333', 'Brayden 51', 'Braydon 325', 'Braylen 572', 'Braylon 252', 'Breanna 168', 'Brenda 342', 'Brendan 207', 'Brenden 353', 'Brendon 578', 'Brenna 420', 'Brennan 263', 'Brennen 651', 'Brent 558', 'Brenton 975', 'Brett 311', 'Bria 924', 'Brian 87', 'Briana 145', 'Brianna 23', 'Brice 710', 'Bridger 978', 'Bridget 394', 'Brielle 338', 'Briley 819', 'Brisa 787', 'Britney 689', 'Brittany 421', 'Brock 277', 'Broderick 899', 'Brodie 421', 'Brody 70', 'Brogan 833', 'Bronson 987', 'Brooke 52', 'Brooklyn 47', 'Brooklynn 182', 'Brooks 601', 'Bruce 476', 'Bruno 801', 'Bryan 82', 'Bryanna 512', 'Bryant 404', 'Bryce 116', 'Brycen 483', 'Brylee 531', 'Brynlee 895', 'Brynn 323', 'Bryson 178', 'Byron 451', 'Cade 310', 'Caden 95', 'Cadence 212', 'Cael 834', 'Caiden 250', 'Cailyn 738', 'Caitlin 235', 'Caitlyn 227', 'Cale 623', 'Caleb 34', 'Cali 426', 'Callie 233', 'Callum 976', 'Calvin 228', 'Camden 204', 'Cameron 320', 'Cameron 53', 'Camila 83', 'Camilla 634', 'Camille 300', 'Campbell 762', 'Camren 675', 'Camron 445', 'Camryn 244', 'Camryn 900', 'Cannon 631', 'Cara 463', 'Carina 901', 'Carissa 727', 'Carl 490', 'Carla 584', 'Carlee 701', 'Carleigh 996', 'Carley 637', 'Carlie 673', 'Carlo 992', 'Carlos 73', 'Carly 197', 'Carmelo 941', 'Carmen 262', 'Carolina 355', 'Caroline 94', 'Carolyn 678', 'Carsen 993', 'Carson 89', 'Carter 65', 'Case 956', 'Casey 336', 'Casey 466', 'Cash 253', 'Cason 571', 'Cassandra 284', 'Cassidy 228', 'Cassie 908', 'Cassius 945', 'Catalina 707', 'Catherine 149', 'Cayden 173', 'Caylee 519', 'Cecelia 756', 'Cecilia 270', 'Cedric 650', 'Celeste 397', 'Celia 757', 'Cesar 165', 'Chace 655', 'Chad 454', 'Chaim 858', 'Chana 971', 'Chance 255', 'Chandler 457', 'Chanel 775', 'Charity 793', 'Charlee 820', 'Charles 63', 'Charlie 307', 'Charlie 736', 'Charlize 905', 'Charlotte 87', 'Chase 67', 'Chasity 956', 'Chaya 749', 'Chaz 959', 'Chelsea 221', 'Cherish 739', 'Cheyanne 496', 'Cheyenne 159', 'Chloe 10', 'Chris 348', 'Christian 23', 'Christina 200', 'Christine 539', 'Christopher 9', 'Ciara 324', 'Cierra 788', 'Cindy 434', 'Claire 62', 'Clara 206', 'Clare 679', 'Clarence 938', 'Clarissa 560', 'Clark 698', 'Claudia 417', 'Clay 849', 'Clayton 233', 'Clinton 856', 'Cloe 915', 'Coby 835', 'Cody 122', 'Cohen 356', 'Colby 273', 'Cole 84', 'Coleman 741', 'Colin 114', 'Collin 143', 'Colt 533', 'Colten 408', 'Colton 98', 'Conner 163', 'Connor 57', 'Conor 517', 'Conrad 758', 'Cooper 92', 'Cora 322', 'Corbin 262', 'Cordell 784', 'Corey 289', 'Corinne 841', 'Cornelius 988', 'Cortez 990', 'Cory 459', 'Courtney 269', 'Craig 588', 'Cristal 759', 'Cristian 150', 'Cristina 603', 'Cristofer 829', 'Cristopher 492', 'Cruz 367', 'Crystal 252', 'Cullen 781', 'Curtis 380', 'Cynthia 310', 'Cyrus 512', 'Dahlia 745', 'Daisy 161', 'Dakota 226', 'Dakota 267', 'Dale 839', 'Dalia 920', 'Dallas 334', 'Dalton 218', 'Damari 997', 'Damarion 725', 'Damaris 808', 'Damian 133', 'Damien 189', 'Damion 597', 'Damon 472', 'Dana 467', 'Dane 350', 'Dangelo 970', 'Dania 989', 'Danica 336', 'Daniel 5', 'Daniela 121', 'Daniella 303', 'Danielle 144', 'Danika 486', 'Danna 424', 'Danny 330', 'Dante 291', 'Daphne 536', 'Darian 602', 'Darien 843', 'Dario 850', 'Darion 890', 'Darius 318', 'Darnell 730', 'Darrell 634', 'Darren 385', 'Darryl 754', 'Darwin 788', 'Dashawn 810', 'Davian 690', 'David 14', 'Davin 594', 'Davion 440', 'Davis 410', 'Davon 712', 'Dawson 269', 'Dax 766', 'Dayami 750', 'Dayana 410', 'Dayanara 558', 'Dayton 484', 'Deacon 642', 'Dean 345', 'Deandre 460', 'Deangelo 739', 'Deanna 592', 'Deborah 809', 'Declan 347', 'Deegan 980', 'Deja 893', 'Delaney 209', 'Delilah 193', 'Demarcus 708', 'Demarion 905', 'Demetrius 520', 'Denise 364', 'Denisse 959', 'Dennis 370', 'Denzel 942', 'Deon 830', 'Derek 159', 'Dereon 882', 'Derick 733', 'Derrick 286', 'Deshawn 595', 'Desirae 983', 'Desiree 381', 'Desmond 413', 'Destinee 616', 'Destiney 714', 'Destiny 48', 'Devan 746', 'Deven 683', 'Devin 109', 'Devon 243', 'Devyn 847', 'Dexter 715', 'Diamond 449', 'Diana 137', 'Diego 68', 'Dillan 875', 'Dillon 264', 'Dixie 964', 'Diya 995', 'Dominic 93', 'Dominick 240', 'Dominik 577', 'Dominique 763', 'Dominique 785', 'Donald 331', 'Donavan 964', 'Donna 973', 'Donovan 214', 'Donte 782', 'Dorian 442', 'Douglas 424', 'Drake 230', 'Draven 670', 'Drew 244', 'Dulce 302', 'Duncan 717', 'Dustin 303', 'Dwayne 687', 'Dylan 31', 'Dylan 532', 'Ean 869', 'Easton 302', 'Eddie 438', 'Eden 232', 'Eden 896', 'Edgar 193', 'Edith 806', 'Eduardo 141', 'Edward 148', 'Edwin 175', 'Efrain 753', 'Eileen 760', 'Elaina 462', 'Elaine 742', 'Eleanor 256', 'Elena 211', 'Eli 100', 'Elian 817', 'Eliana 203', 'Elianna 1000', 'Elias 157', 'Eliezer 986', 'Elijah 22', 'Elisa 622', 'Elisabeth 525', 'Elise 218', 'Elisha 636', 'Eliza 328', 'Elizabeth 9', 'Ella 19', 'Elle 494', 'Ellen 672', 'Elliana 530', 'Ellie 167', 'Elliot 332', 'Elliott 386', 'Ellis 798', 'Elsa 724', 'Elsie 740', 'Elvis 713', 'Elyse 695', 'Emanuel 260', 'Emelia 960', 'Emely 305', 'Emerson 290', 'Emerson 474', 'Emery 468', 'Emery 744', 'Emilee 459', 'Emilia 401', 'Emiliano 315', 'Emilie 690', 'Emilio 281', 'Emily 3', 'Emma 1', 'Emmalee 743', 'Emmanuel 146', 'Emmett 547', 'Emmy 957', 'Enrique 279', 'Enzo 606', 'Eric 86', 'Erica 293', 'Erick 179', 'Erik 213', 'Erika 331', 'Erin 164', 'Ernest 789', 'Ernesto 412', 'Esmeralda 254', 'Esperanza 967', 'Essence 979', 'Esteban 366', 'Esther 274', 'Estrella 403', 'Ethan 3', 'Ethen 909', 'Eugene 691', 'Eva 114', 'Evan 38', 'Evangeline 450', 'Eve 655', 'Evelin 811', 'Evelyn 54', 'Everett 383', 'Evie 853', 'Ezekiel 241', 'Ezequiel 519', 'Ezra 292', 'Fabian 288', 'Faith 91', 'Fatima 249', 'Felicity 698', 'Felipe 535', 'Felix 354', 'Fernanda 423', 'Fernando 164', 'Finley 665', 'Finley 818', 'Finn 368', 'Finnegan 647', 'Fiona 347', 'Fisher 885', 'Fletcher 994', 'Frances 796', 'Francesca 491', 'Francis 656', 'Francisco 172', 'Franco 826', 'Frank 278', 'Frankie 762', 'Franklin 467', 'Freddy 707', 'Frederick 523', 'Frida 894', 'Gabriel 24', 'Gabriela 131', 'Gabriella 35', 'Gabrielle 79', 'Gael 296', 'Gage 144', 'Gaige 791', 'Garrett 160', 'Gary 426', 'Gauge 736', 'Gaven 918', 'Gavin 30', 'Gavyn 626', 'Gemma 888', 'Genesis 95', 'Genevieve 325', 'George 153', 'Georgia 312', 'Geovanni 934', 'Gerald 603', 'Gerardo 290', 'German 859', 'Gia 722', 'Giada 826', 'Giana 633', 'Giancarlo 635', 'Gianna 86', 'Gianni 543', 'Gideon 534', 'Gilbert 728', 'Gilberto 663', 'Gillian 832', 'Gina 854', 'Giovani 613', 'Giovanna 780', 'Giovanni 140', 'Giovanny 676', 'Giselle 136', 'Gisselle 653', 'Giuliana 875', 'Glenn 864', 'Gloria 431', 'Gordon 946', 'Grace 21', 'Gracelyn 683', 'Gracie 99', 'Grady 283', 'Graham 323', 'Grant 142', 'Grayson 188', 'Gregory 236', 'Greta 694', 'Gretchen 945', 'Greyson 381', 'Griffin 242', 'Guadalupe 296', 'Guillermo 470', 'Gunnar 540', 'Gunner 471', 'Gustavo 342', 'Gwendolyn 586', 'Hadassah 988', 'Hadley 414', 'Haiden 773', 'Hailee 456', 'Hailey 25', 'Hailie 990', 'Haleigh 728', 'Haley 101', 'Halle 506', 'Hallie 510', 'Hamza 760', 'Hana 827', 'Hanna 367', 'Hannah 17', 'Harley 415', 'Harley 592', 'Harmony 314', 'Harold 737', 'Harper 297', 'Harper 860', 'Harrison 219', 'Harry 644', 'Hassan 792', 'Haven 631', 'Hayden 126', 'Hayden 76', 'Haylee 234', 'Hayley 382', 'Haylie 497', 'Hazel 343', 'Heath 716', 'Heather 487', 'Heaven 275', 'Hector 181', 'Heidi 289', 'Heidy 946', 'Helen 371', 'Helena 612', 'Henry 78', 'Hezekiah 929', 'Hillary 715', 'Holden 358', 'Holly 365', 'Hope 225', 'Houston 880', 'Howard 903', 'Hudson 176', 'Hugh 998', 'Hugo 389', 'Humberto 805', 'Hunter 54', 'Ian 80', 'Ibrahim 589', 'Ignacio 814', 'Iliana 703', 'Imani 384', 'Immanuel 904', 'India 815', 'Ingrid 545', 'Ireland 834', 'Irene 636', 'Iris 341', 'Irvin 720', 'Isaac 37', 'Isabel 96', 'Isabela 533', 'Isabell 790', 'Isabella 2', 'Isabelle 93', 'Isai 734', 'Isaiah 42', 'Isaias 496', 'Ishaan 851', 'Isiah 446', 'Isis 607', 'Isla 623', 'Ismael 349', 'Israel 210', 'Issac 377', 'Itzel 383', 'Ivan 132', 'Ivy 298', 'Iyana 997', 'Izabella 231', 'Izabelle 958', 'Izaiah 428', 'Izayah 995', 'Jabari 771', 'Jace 180', 'Jacey 802', 'Jack 39', 'Jackson 32', 'Jacob 1', 'Jacoby 423', 'Jacqueline 152', 'Jacquelyn 794', 'Jada 110', 'Jade 129', 'Jaden 472', 'Jaden 88', 'Jadiel 874', 'Jadon 473', 'Jadyn 396', 'Jadyn 823', 'Jaeden 610', 'Jaelyn 330', 'Jaelynn 517', 'Jagger 954', 'Jaida 518', 'Jaiden 168', 'Jaiden 520', 'Jaidyn 565', 'Jaidyn 802', 'Jaime 321', 'Jair 852', 'Jairo 556', 'Jakayla 675', 'Jake 112', 'Jakob 309', 'Jakobe 930', 'Jalen 317', 'Jaliyah 544', 'Jamal 568', 'Jamar 718', 'Jamarcus 793', 'Jamari 391', 'Jamarion 485', 'James 17', 'Jameson 382', 'Jamie 263', 'Jamie 671', 'Jamir 767', 'Jamison 526', 'Jamiya 991', 'Jamya 746', 'Jan 961', 'Janae 795', 'Jane 390', 'Janelle 372', 'Janessa 571', 'Janet 716', 'Janiah 798', 'Janiya 359', 'Janiyah 356', 'Jaquan 806', 'Jaqueline 614', 'Jared 197', 'Jaron 819', 'Jarrett 894', 'Jase 643', 'Jasiah 752', 'Jaslene 376', 'Jaslyn 887', 'Jasmin 224', 'Jasmine 43', 'Jason 60', 'Jasper 452', 'Javier 166', 'Javion 573', 'Javon 447', 'Jax 692', 'Jaxon 154', 'Jaxson 268', 'Jay 395', 'Jayce 384', 'Jaycee 652', 'Jayda 258', 'Jaydan 886', 'Jayden 11', 'Jayden 176', 'Jaydin 745', 'Jaydon 434', 'Jayla 117', 'Jaylah 804', 'Jaylan 981', 'Jaylee 692', 'Jayleen 608', 'Jaylen 184', 'Jaylen 857', 'Jaylene 644', 'Jaylin 521', 'Jaylin 590', 'Jaylon 598', 'Jaylyn 810', 'Jaylynn 514', 'Jayson 341', 'Jayvion 977', 'Jayvon 950', 'Jazlene 831', 'Jazlyn 378', 'Jazlynn 730', 'Jazmin 205', 'Jazmine 242', 'Jazmyn 741', 'Jean 914', 'Jefferson 599', 'Jeffery 510', 'Jeffrey 198', 'Jenna 107', 'Jennifer 84', 'Jenny 601', 'Jensen 999', 'Jeramiah 876', 'Jeremiah 69', 'Jeremy 129', 'Jerimiah 985', 'Jermaine 501', 'Jerome 616', 'Jerry 320', 'Jesse 110', 'Jessica 59', 'Jessie 541', 'Jessie 626', 'Jesus 79', 'Jett 529', 'Jewel 896', 'Jillian 174', 'Jimena 398', 'Jimmy 355', 'Joanna 283', 'Joaquin 275', 'Jocelyn 67', 'Jocelynn 871', 'Joe 411', 'Joel 113', 'Joey 574', 'Johan 450', 'Johanna 448', 'John 20', 'Johnathan 200', 'Johnathon 657', 'Johnny 246', 'Jolie 564', 'Jon 527', 'Jonah 137', 'Jonas 274', 'Jonathan 26', 'Jonathon 453', 'Jordan 130', 'Jordan 48', 'Jorden 700', 'Jordin 609', 'Jordon 841', 'Jordyn 142', 'Jordyn 747', 'Jorge 138', 'Jose 41', 'Joselyn 306', 'Joseph 13', 'Josephine 208', 'Josh 807', 'Joshua 4', 'Josiah 96', 'Josie 294', 'Joslyn 709', 'Josue 182', 'Journey 594', 'Jovan 891', 'Jovani 783', 'Jovanni 907', 'Jovanny 855', 'Jovany 919', 'Joy 548', 'Joyce 876', 'Juan 66', 'Judah 394', 'Jude 224', 'Judith 713', 'Julia 40', 'Julian 61', 'Juliana 157', 'Julianna 194', 'Julianne 693', 'Julie 335', 'Julien 549', 'Juliet 451', 'Juliette 549', 'Julio 285', 'Julissa 339', 'Julius 306', 'June 863', 'Junior 637', 'Justice 432', 'Justice 542', 'Justin 45', 'Justine 933', 'Justus 803', 'Kade 414', 'Kaden 99', 'Kadence 387', 'Kadin 722', 'Kadyn 922', 'Kaeden 661', 'Kael 853', 'Kaelyn 351', 'Kai 229', 'Kaia 667', 'Kaiden 190', 'Kaila 856', 'Kailee 628', 'Kailey 308', 'Kailyn 446', 'Kaitlin 471', 'Kaitlyn 53', 'Kaitlynn 541', 'Kaiya 776', 'Kale 500', 'Kaleb 115', 'Kaleigh 582', 'Kaley 851', 'Kali 502', 'Kaliyah 629', 'Kallie 697', 'Kamari 539', 'Kamari 925', 'Kamden 662', 'Kameron 270', 'Kamila 574', 'Kamora 941', 'Kamren 927', 'Kamron 759', 'Kamryn 268', 'Kane 439', 'Kara 260', 'Kareem 738', 'Karen 183', 'Karina 237', 'Karissa 803', 'Karla 243', 'Karlee 600', 'Karley 910', 'Karli 902', 'Karlie 800', 'Karly 835', 'Karma 849', 'Karson 487', 'Karsyn 976', 'Karter 665', 'Kasen 785', 'Kasey 684', 'Kasey 808', 'Kash 779', 'Kason 596', 'Kassandra 524', 'Kassidy 488', 'Kate 139', 'Katelyn 80', 'Katelynn 295', 'Katherine 45', 'Kathleen 452', 'Kathryn 190', 'Kathy 992', 'Katie 128', 'Katrina 717', 'Kaya 645', 'Kayden 152', 'Kayden 391', 'Kaydence 286', 'Kayla 28', 'Kaylah 974', 'Kaylee 31', 'Kayleigh 239', 'Kaylen 726', 'Kayley 817', 'Kaylie 319', 'Kaylin 377', 'Kaylyn 720', 'Kaylynn 527', 'Keagan 489', 'Keaton 371', 'Keegan 222', 'Keely 842', 'Keenan 729', 'Keira 123', 'Keith 314', 'Kellen 444', 'Kelly 248', 'Kelsey 195', 'Kelsie 782', 'Kelton 925', 'Kelvin 456', 'Kendal 816', 'Kendall 148', 'Kendall 645', 'Kendra 236', 'Kendrick 522', 'Kenley 998', 'Kenna 839', 'Kennedi 553', 'Kennedy 115', 'Kenneth 136', 'Kenny 536', 'Kenya 537', 'Kenyon 848', 'Kenzie 473', 'Keon 776', 'Keshawn 867', 'Kevin 40', 'Keyla 777', 'Keyon 965', 'Khalil 491', 'Khloe 196', 'Kian 607', 'Kiana 474', 'Kianna 984', 'Kiara 241', 'Kiera 315', 'Kieran 530', 'Kierra 799', 'Kiersten 661', 'Kiley 307', 'Killian 794', 'Kimberly 57', 'Kimora 291', 'King 711', 'Kingston 239', 'Kinley 666', 'Kinsley 566', 'Kira 251', 'Kirsten 567', 'Kobe 403', 'Kody 580', 'Koen 877', 'Kolby 620', 'Kole 668', 'Kolten 996', 'Kolton 478', 'Konner 824', 'Konnor 878', 'Korbin 705', 'Krish 831', 'Krista 897', 'Kristen 492', 'Kristian 504', 'Kristin 883', 'Kristina 495', 'Kristopher 425', 'Krystal 552', 'Kyan 966', 'Kyla 247', 'Kylan 768', 'Kyle 97', 'Kylee 143', 'Kyleigh 316', 'Kyler 271', 'Kylie 51', 'Kymani 836', 'Kyra 238', 'Kyson 957', 'Lacey 405', 'Laci 952', 'Laila 140', 'Lailah 890', 'Lainey 696', 'Lamar 743', 'Lamont 958', 'Lana 432', 'Lance 396', 'Landen 199', 'Landin 971', 'Landon 44', 'Landyn 399', 'Lane 319', 'Laney 568', 'Lara 931', 'Larissa 704', 'Larry 375', 'Laura 215', 'Laurel 985', 'Lauren 30', 'Lauryn 477', 'Lawrence 427', 'Lawson 703', 'Layla 55', 'Laylah 993', 'Layne 619', 'Layton 777', 'Lea 639', 'Leah 41', 'Leandro 910', 'Leanna 733', 'Lee 673', 'Leia 934', 'Leila 226', 'Leilani 278', 'Leland 407', 'Lena 440', 'Lennon 982', 'Leo 227', 'Leon 502', 'Leonard 621', 'Leonardo 170', 'Leonel 486', 'Leonidas 883', 'Leroy 917', 'Leslie 147', 'Lesly 447', 'Leticia 980', 'Levi 117', 'Lewis 640', 'Lexi 299', 'Lexie 504', 'Leyla 772', 'Lia 427', 'Liam 75', 'Liana 599', 'Libby 877', 'Liberty 620', 'Lila 179', 'Lilah 411', 'Lilia 932', 'Lilian 435', 'Liliana 150', 'Lilianna 864', 'Lillian 29', 'Lilliana 412', 'Lillianna 878', 'Lillie 485', 'Lilly 125', 'Lily 24', 'Lilyana 630', 'Lina 917', 'Lincoln 212', 'Linda 509', 'Lindsay 380', 'Lindsey 277', 'Lisa 605', 'Litzy 872', 'Livia 948', 'Lizbeth 373', 'Lizeth 828', 'Logan 19', 'Logan 430', 'Lola 246', 'London 156', 'London 550', 'Londyn 507', 'Lorelai 884', 'Lorelei 680', 'Lorena 729', 'Lorenzo 335', 'Louis 351', 'Luca 304', 'Lucas 46', 'Lucia 304', 'Lucian 811', 'Luciana 744', 'Luciano 666', 'Lucille 615', 'Lucy 112', 'Luis 64', 'Luka 774', 'Lukas 245', 'Luke 43', 'Luna 399', 'Luz 732', 'Lydia 120', 'Lyla 222', 'Lyric 429', 'Lyric 939', 'Macey 640', 'Maci 723', 'Macie 428', 'Mackenzie 65', 'Macy 281', 'Madalyn 292', 'Madalynn 593', 'Madden 615', 'Maddison 327', 'Maddox 208', 'Madeleine 271', 'Madeline 56', 'Madelyn 63', 'Madelynn 385', 'Madilyn 287', 'Madilynn 662', 'Madison 4', 'Madisyn 366', 'Madyson 388', 'Maeve 638', 'Magdalena 903', 'Maggie 214', 'Maia 649', 'Makai 897', 'Makaila 977', 'Makayla 37', 'Makena 873', 'Makenna 229', 'Makenzie 162', 'Makhi 960', 'Malachi 162', 'Malakai 629', 'Malaki 901', 'Malcolm 546', 'Maleah 840', 'Malia 345', 'Malik 282', 'Maliyah 635', 'Mallory 253', 'Manuel 186', 'Mara 812', 'Marc 455', 'Marcel 837', 'Marcelo 775', 'Marco 223', 'Marcos 257', 'Marcus 125', 'Mareli 718', 'Marely 334', 'Maren 965', 'Margaret 180', 'Maria 64', 'Mariah 78', 'Mariam 691', 'Mariana 199', 'Marianna 807', 'Maribel 935', 'Marie 546', 'Mariela 922', 'Marilyn 569', 'Marin 949', 'Marina 538', 'Mario 185', 'Marisa 643', 'Marisol 444', 'Marissa 155', 'Maritza 561', 'Mariyah 748', 'Mark 139', 'Markus 682', 'Marlee 369', 'Marlene 621', 'Marley 146', 'Marley 764', 'Marlie 912', 'Marlon 565', 'Marques 962', 'Marquis 581', 'Marquise 915', 'Marshall 392', 'Martha 617', 'Martin 221', 'Marvin 373', 'Mary 97', 'Maryjane 951', 'Mason 35', 'Mateo 251', 'Mathew 374', 'Mathias 748', 'Matias 812', 'Matilda 829', 'Matteo 554', 'Matthew 10', 'Matthias 772', 'Mattie 885', 'Maurice 405', 'Mauricio 369', 'Maverick 511', 'Max 126', 'Maxim 701', 'Maximilian 300', 'Maximillian 943', 'Maximo 770', 'Maximus 258', 'Maxwell 134', 'Maya 72', 'Mayra 769', 'Mckayla 515', 'Mckenna 220', 'Mckenzie 151', 'Mckinley 891', 'Meadow 859', 'Megan 100', 'Meghan 453', 'Mekhi 431', 'Melanie 85', 'Melany 425', 'Melina 521', 'Melissa 134', 'Melody 280', 'Melvin 479', 'Memphis 688', 'Mercedes 528', 'Meredith 445', 'Messiah 704', 'Mia 14', 'Miah 778', 'Micaela 968', 'Micah 123', 'Micah 892', 'Michael 2', 'Michaela 357', 'Micheal 475', 'Michelle 103', 'Miguel 101', 'Mikaela 540', 'Mikayla 170', 'Mike 756', 'Mila 554', 'Milagros 731', 'Miles 167', 'Miley 127', 'Milo 449', 'Milton 923', 'Mina 909', 'Mira 898', 'Miracle 484', 'Miranda 163', 'Mireya 961', 'Miriam 309', 'Misael 672', 'Mitchell 337', 'Miya 981', 'Mohamed 505', 'Mohammad 684', 'Mohammed 648', 'Moises 376', 'Mollie 711', 'Molly 104', 'Monica 317', 'Monique 926', 'Monserrat 674', 'Morgan 416', 'Morgan 46', 'Moriah 823', 'Moses 495', 'Moshe 685', 'Muhammad 617', 'Mya 102', 'Myah 604', 'Myla 602', 'Mylee 433', 'Myles 266', 'Mylie 836', 'Nadia 219', 'Naima 944', 'Nancy 379', 'Naomi 118', 'Nash 681', 'Nasir 448', 'Natalee 547', 'Natalia 108', 'Natalie 13', 'Nataly 370', 'Natalya 858', 'Natasha 413', 'Nathalia 953', 'Nathalie 588', 'Nathaly 865', 'Nathan 21', 'Nathanael 514', 'Nathanial 931', 'Nathaniel 77', 'Nathen 861', 'Nayeli 349', 'Nehemiah 364', 'Neil 709', 'Nelson 493', 'Nevaeh 34', 'Neveah 986', 'Nia 464', 'Nicholas 29', 'Nick 888', 'Nickolas 402', 'Nico 667', 'Nicolas 151', 'Nicole 106', 'Nigel 815', 'Nikhil 870', 'Niko 827', 'Nikolai 902', 'Nikolas 430', 'Nina 279', 'Noah 15', 'Noe 518', 'Noel 468', 'Noelle 443', 'Noemi 624', 'Nola 918', 'Nolan 131', 'Nora 216', 'Norah 476', 'Nyasia 947', 'Nyla 409', 'Nylah 821', 'Octavio 865', 'Odin 983', 'Olive 813', 'Oliver 118', 'Olivia 6', 'Omar 145', 'Omari 544', 'Orion 538', 'Orlando 419', 'Oscar 119', 'Osvaldo 590', 'Oswaldo 963', 'Owen 58', 'Pablo 328', 'Paige 88', 'Paisley 454', 'Paityn 942', 'Paloma 789', 'Pamela 670', 'Paola 350', 'Paris 465', 'Parker 103', 'Parker 505', 'Patience 771', 'Patricia 498', 'Patrick 127', 'Paul 155', 'Paula 681', 'Paulina 587', 'Paxton 422', 'Payten 943', 'Payton 276', 'Payton 90', 'Pedro 248', 'Penelope 358', 'Perla 478', 'Peter 183', 'Peyton 130', 'Peyton 60', 'Philip 378', 'Phillip 305', 'Phoebe 348', 'Phoenix 401', 'Phoenix 708', 'Pierce 507', 'Pierre 989', 'Piper 172', 'Porter 481', 'Pranav 935', 'Precious 791', 'Presley 337', 'Preston 124', 'Prince 749', 'Princess 939', 'Priscilla 416', 'Quentin 379', 'Quincy 513', 'Quinn 280', 'Quinn 516', 'Quinten 887', 'Quintin 686', 'Quinton 464', 'Rachael 481', 'Rachel 75', 'Raegan 395', 'Raelynn 906', 'Rafael 238', 'Raiden 780', 'Raina 921', 'Ralph 868', 'Ramiro 649', 'Ramon 417', 'Randall 695', 'Randy 301', 'Raphael 630', 'Raquel 572', 'Rashad 646', 'Raul 287', 'Raven 625', 'Ray 664', 'Rayan 871', 'Raymond 215', 'Rayna 761', 'Rayne 860', 'Reagan 141', 'Reagan 972', 'Rebecca 119', 'Rebekah 354', 'Reece 415', 'Reed 409', 'Reese 154', 'Reese 462', 'Regan 685', 'Regina 688', 'Reginald 557', 'Reid 359', 'Reilly 951', 'Reina 928', 'Remington 721', 'Rene 561', 'Renee 734', 'Reuben 947', 'Rex 799', 'Rey 857', 'Reyna 676', 'Reynaldo 944', 'Rhett 678', 'Rhianna 751', 'Rhys 679', 'Ricardo 149', 'Richard 107', 'Ricky 365', 'Rigoberto 862', 'Rihanna 311', 'Riley 106', 'Riley 39', 'Rishi 932', 'River 461', 'Riya 994', 'Robert 49', 'Roberto 234', 'Rocco 418', 'Roderick 936', 'Rodney 503', 'Rodolfo 680', 'Rodrigo 327', 'Rogelio 575', 'Roger 463', 'Rohan 528', 'Roland 757', 'Rolando 604', 'Roman 205', 'Romeo 466', 'Ronald 308', 'Ronan 506', 'Ronin 804', 'Ronnie 618', 'Rory 786', 'Rory 982', 'Rosa 457', 'Rose 344', 'Roselyn 855', 'Rosemary 754', 'Ross 845', 'Rowan 340', 'Rowan 469', 'Roy 497', 'Royce 911', 'Ruben 259', 'Rubi 576', 'Ruby 113', 'Rudy 632', 'Russell 406', 'Ruth 362', 'Ryan 18', 'Ryan 534', 'Ryann 846', 'Ryder 203', 'Ryker 420', 'Rylan 217', 'Ryland 608', 'Rylee 116', 'Rylee 735', 'Ryleigh 264', 'Rylie 313', 'Sabrina 185', 'Sadie 109', 'Sage 460', 'Sage 750', 'Saige 824', 'Salma 847', 'Salvador 435', 'Salvatore 892', 'Sam 458', 'Samantha 11', 'Samara 500', 'Samir 842', 'Sammy 979', 'Samson 948', 'Samuel 28', 'Sanaa 770', 'Sanai 916', 'Sandra 442', 'Saniya 511', 'Saniyah 543', 'Santiago 171', 'Santino 652', 'Santos 761', 'Sara 92', 'Sarah 20', 'Sarahi 881', 'Sarai 404', 'Sariah 659', 'Sasha 363', 'Saul 329', 'Savanah 825', 'Savanna 301', 'Savannah 33', 'Savion 828', 'Sawyer 225', 'Scarlet 646', 'Scarlett 210', 'Scott 322', 'Seamus 751', 'Sean 83', 'Sebastian 74', 'Selah 773', 'Selena 352', 'Selina 969', 'Semaj 696', 'Serena 374', 'Serenity 111', 'Sergio 209', 'Seth 128', 'Shamar 933', 'Shane 174', 'Shania 663', 'Shaniya 735', 'Shannon 482', 'Sharon 641', 'Shaun 436', 'Shawn 195', 'Shayla 346', 'Shaylee 950', 'Shayna 978', 'Shea 962', 'Shelby 158', 'Sheldon 952', 'Sherlyn 658', 'Shiloh 650', 'Shirley 911', 'Shyann 850', 'Shyanne 656', 'Shyla 797', 'Sidney 523', 'Sidney 813', 'Siena 647', 'Sienna 177', 'Sierra 175', 'Silas 313', 'Simeon 967', 'Simon 261', 'Simone 550', 'Sincere 719', 'Skye 501', 'Skyla 596', 'Skylar 191', 'Skylar 515', 'Skyler 265', 'Skyler 422', 'Slade 928', 'Sloane 999', 'Sofia 36', 'Solomon 429', 'Sonia 706', 'Sonny 863', 'Sophia 7', 'Sophie 74', 'Soren 723', 'Spencer 191', 'Stacy 725', 'Stanley 653', 'Stella 186', 'Stephanie 105', 'Stephany 904', 'Stephen 192', 'Sterling 872', 'Steve 593', 'Steven 104', 'Sullivan 706', 'Summer 171', 'Susan 712', 'Sydnee 940', 'Sydney 49', 'Sylvia 559', 'Tabitha 591', 'Talan 726', 'Talia 389', 'Taliyah 669', 'Talon 465', 'Tamara 818', 'Tamia 555', 'Tania 606', 'Taniya 886', 'Taniyah 914', 'Tanner 161', 'Tanya 843', 'Tara 632', 'Taryn 489', 'Tate 433', 'Tatiana 329', 'Tatum 368', 'Taylor 22', 'Taylor 256', 'Teagan 321', 'Teagan 658', 'Teresa 580', 'Terrance 524', 'Terrell 553', 'Terrence 605', 'Terry 477', 'Tess 870', 'Tessa 202', 'Thaddeus 955', 'Thalia 879', 'Theodore 295', 'Theresa 852', 'Thomas 52', 'Tia 880', 'Tiana 651', 'Tianna 844', 'Tiara 937', 'Tiffany 250', 'Timothy 108', 'Titus 443', 'Tobias 531', 'Toby 579', 'Todd 769', 'Tomas 551', 'Tommy 516', 'Tony 357', 'Tori 490', 'Trace 508', 'Travis 177', 'Trent 312', 'Trenton 196', 'Trevin 796', 'Trevon 566', 'Trevor 147', 'Trey 316', 'Trinity 70', 'Tripp 926', 'Tristan 81', 'Tristen 339', 'Tristian 732', 'Tristin 555', 'Triston 498', 'Troy 231', 'Trystan 968', 'Tucker 237', 'Turner 973', 'Ty 247', 'Tyler 27', 'Tyree 724', 'Tyrell 778', 'Tyrese 881', 'Tyrone 654', 'Tyshawn 920', 'Tyson 249', 'Ulises 582', 'Uriah 697', 'Uriel 387', 'Urijah 889', 'Valentin 641', 'Valentina 265', 'Valentino 906', 'Valeria 73', 'Valerie 135', 'Valery 889', 'Van 816', 'Vance 765', 'Vanessa 76', 'Vaughn 846', 'Veronica 261', 'Vicente 622', 'Victor 111', 'Victoria 27', 'Vincent 120', 'Violet 184', 'Virginia 562', 'Vivian 207', 'Viviana 475', 'Wade 591', 'Walker 499', 'Walter 393', 'Warren 509', 'Waylon 545', 'Wayne 694', 'Wendy 458', 'Wesley 194', 'Weston 324', 'Whitney 570', 'Will 587', 'William 8', 'Willie 562', 'Willow 408', 'Wilson 537', 'Winston 809', 'Wyatt 62', 'Xander 267', 'Xavier 71', 'Ximena 332', 'Xiomara 805', 'Xzavier 628', 'Yadiel 949', 'Yadira 752', 'Yael 912', 'Yahir 400', 'Yair 838', 'Yamilet 899', 'Yandel 560', 'Yareli 585', 'Yaretzi 597', 'Yaritza 677', 'Yasmin 400', 'Yasmine 837', 'Yazmin 654', 'Yesenia 529', 'Yosef 913', 'Yoselin 671', 'Yuliana 862', 'Yurem 1000', 'Yusuf 800', 'Zachariah 441', 'Zachary 47', 'Zachery 625', 'Zack 884', 'Zackary 362', 'Zackery 638', 'Zaid 924', 'Zaiden 898', 'Zain 797', 'Zaire 844', 'Zander 298', 'Zane 235', 'Zaniyah 882', 'Zara 774', 'Zaria 682', 'Zariah 581', 'Zavier 742', 'Zayden 488', 'Zayne 825', 'Zechariah 659', 'Zion 232', 'Zion 699', 'Zoe 58', 'Zoey 98', 'Zoie 618']\n",
      "-----------------------------------------\n"
     ]
    }
   ],
   "source": [
    "!python babynames.py ./baby1990.html ./baby1998.html ./baby2008.html"
   ]
  },
  {
   "cell_type": "code",
   "execution_count": null,
   "id": "7ea52b63-e210-43a1-b2d3-1dd8816e0db6",
   "metadata": {},
   "outputs": [],
   "source": []
  }
 ],
 "metadata": {
  "kernelspec": {
   "display_name": "Python 3 (ipykernel)",
   "language": "python",
   "name": "python3"
  },
  "language_info": {
   "codemirror_mode": {
    "name": "ipython",
    "version": 3
   },
   "file_extension": ".py",
   "mimetype": "text/x-python",
   "name": "python",
   "nbconvert_exporter": "python",
   "pygments_lexer": "ipython3",
   "version": "3.9.13"
  }
 },
 "nbformat": 4,
 "nbformat_minor": 5
}
