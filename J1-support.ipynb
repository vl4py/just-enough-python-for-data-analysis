{
 "cells": [
  {
   "cell_type": "markdown",
   "id": "2e9f3af2-ebd3-419b-a54c-b1a4022ef91b",
   "metadata": {
    "tags": []
   },
   "source": [
    "# Juste assez de python pour l'analyse de données"
   ]
  },
  {
   "cell_type": "markdown",
   "id": "3456754b-39b6-46e2-890f-5d131d86fd02",
   "metadata": {
    "jp-MarkdownHeadingCollapsed": true,
    "jupyter": {
     "source_hidden": true
    },
    "tags": []
   },
   "source": [
    "# Bonjour à tous ! 😀🖐\n",
    "\n",
    "Bienvenue sur ce notebook qui servira de support d'exercices pour notre formation PYDATA dispensé par [SFEIR Institute](https://institute.sfeir.com/formations/data-analytics-and-ai/python-pour-la-science-des-donnees/)\n",
    "\n",
    "Il servira à vous guider à travers les différentes étapes de notre formation.\n",
    "\n",
    "## À propos de votre formateur\n",
    "\n",
    "Bonjour à tous, moi c'est Vianney. Je suis développeur spécialisée dans l'analyse de données depuis 7 ans et développe en python depuis 6.\n",
    "\n",
    "Quelques points pertinents sur ma vie professionnelle:\n",
    "- Depuis 2016, je suis passionné par les systèmes distribués et les problèmes qui les accompagnent. J'ai fait mon mémoire de fin d'études sur le traitement des données au fil de l'eau.\n",
    "- D'Août 2017 à Décembre 2018, j'ai travaillé comme [Data engineer](https://www.splunk.com/fr_fr/data-insider/what-are-distributed-systems.html) pour Carrefour ;\n",
    "- De juin 2018 à décembre 2019, j'ai été formateur sur [Apache Spark](https://datascientest.com/apache-spark) v2.X - Certifié par Databricks ;\n",
    "- De Janvier 2019 à Août 2021, j'ai occupé le poste de Machine Learning engineer pour [Tinyclues](https://www.tinyclues.com/), une startup qui développe une solution SaaS de gestion de campagne marketing et d'assistance au ciblage à base ML ;\n",
    "- D'Août 2021 à ce jour, je travaille pour SFEIR appris à faire tout ce que je faisais déjà, mais à l'aide de [GCP](https://cloud.google.com/). Le cloud de Google.\n",
    "\n",
    "Et sur ma vie personnelle:\n",
    "- Réunionnais, amoureux de la mer et la montagne, je peux vous donner de bonnes recettes de rhum arrangé.\n",
    "- J'escalade des falaises dès que j'ai l'occasion à travers la France et entraîne des para-athlètes.\n",
    "- J'adore cuisiner. Partageons nos bonnes recettes. Les moins bonnes aussi.\n",
    "\n",
    "## Pourquoi est-ce que je vous donne cette formation ?\n",
    "\n",
    "Tout simplement car j'aime partager et vulgariser ce que j'ai pû apprendre. En somme, j'aime enseigner. D'après mes expériences, répondre aux questions que d'autres se posent et l'une des meilleures occasions d'apprendre soi-même.\n",
    "Apprenons les uns des autres durant ces 3 jours."
   ]
  },
  {
   "cell_type": "markdown",
   "id": "cfa42d41-0b17-4a8c-9b69-80111f994886",
   "metadata": {
    "tags": []
   },
   "source": [
    "# Quel est le contrat entre nous ?"
   ]
  },
  {
   "cell_type": "markdown",
   "id": "602676bc-b448-4e6f-a1dc-83b330cebc67",
   "metadata": {
    "jupyter": {
     "source_hidden": true
    },
    "tags": []
   },
   "source": [
    "3 jours pour apprendre un langage de programmation c’est peu. Très peu.  Aussi simple puisse-t-il être.  \n",
    "\n",
    "Vous allez découvrir des concepts que vous ne connaissiez peut-être pas ; peut-être en redécouvrir certains sous d’autres noms. Ce que nous allons aborder ensemble est ce qui a été sélectionné comme **porte d’entrée pour l'usage du python dans votre contexte de travail.**\n",
    "\n",
    "## Quelle sera votre contribution ?\n",
    "- Je sais que vous êtes très demandé mais autant que faire ce peu pas d’e-mails en dehors des pauses.\n",
    "- Posez-moi des questions **jusqu'à ce que je n’aie plus la réponse**. Ma question préférée est **Pourquoi?** 🤔\n",
    "- Tout a été prévu pour être interactif. Parfois, vous devrez partager votre écran pour les exercices. \n",
    "\n",
    "## Quels sont mes engagements ?\n",
    "- Rendre ce que je vous présente le plus intéressant possible.\n",
    "- Répondre à vos questions. Si je n'ai pas la réponse dans l'instant je la trouvererai.\n",
    "- Je reste disponible durant les pause-cafés sauf contr-indication, et 30 min avant la reprise du déjeuner pour répondre à des questions spécifiques.\n",
    "\n",
    "## Comment allons-nous travailler ?\n",
    "\n",
    "- Des labs au format de noteobok ;\n",
    "- Des quizzs .\n",
    "\n",
    "## Comment allons-nous communiquer ?\n",
    "\n",
    "À l'aide de Slack. Voilà le [slack](https://join.slack.com/t/vl4pytrainer/shared_invite/zt-1nvb9p2gx-1pJw0Qzuknck6JRrbqHycQ). Canal: # 202301-python\n",
    "\n",
    "J'y partegerai tout le contenu.\n",
    "\n",
    "Vous pourrez aussi l'utiliser pour noter vos questions."
   ]
  },
  {
   "cell_type": "markdown",
   "id": "f157696e-40af-4e39-bcaa-69470c786caf",
   "metadata": {
    "jupyter": {
     "source_hidden": true
    },
    "tags": []
   },
   "source": [
    "# Avant toutes choses, qu'attendez-vous de cette formation ?\n",
    "\n",
    "Les raisons qui vous amènent ici aujourd'hui peuvent être variées:\n",
    "\n",
    "- Vous avez le sentiment que le Python va devenir essentiel à votre travail d'analyste ;\n",
    "- Votre société a décidé que le Python devait devenir votre principal outil de manipulation de données ;\n",
    "- Vous êtes naturellement curieux.\n",
    "\n",
    "Je vous invite à me partager vos motivations précises ici: https://vl4pytrainer.slack.com/archives/C04LNM73FB2/p1674487989642809\n",
    "\n",
    "Dans tout les cas, il n'est jamais une mauvaise chose d'en apprendre de nouvelles. Le python tout particulièrement ! Je vais essayer de vous en convaincre.\n",
    "\n"
   ]
  },
  {
   "cell_type": "markdown",
   "id": "f1a7ce2b-9f24-4f3f-a7fd-e1a22d0b8451",
   "metadata": {
    "tags": []
   },
   "source": [
    "# Qu'allon-nous couvrir ensemble ?"
   ]
  },
  {
   "cell_type": "markdown",
   "id": "96d4b59c-386a-45f0-84a0-5257f72efab8",
   "metadata": {
    "tags": []
   },
   "source": [
    "Ce cours s'intitule \"Juste assez de python pour l'analyse de données\". Son but n'est donc pas de faire de vous les meilleurs développeurs python du marché.\n",
    "\n",
    "Plutôt, il a vocation à vous mettre le pieds à l'étrier. C'est à dire:\n",
    "\n",
    "- Pour celles et ceux qui ne développerait pas ou plus, faire tomber la barrière psychologique que vous auriez à programmer ;\n",
    "- Vous donnez les connaissances nécéssaires en python pour oser lire du code écrit par d'autres ;\n",
    "- Vous faire naviguer à travers l'écosystème pyhton et sa communauté pour trouver les resources qui vous seront utiles"
   ]
  },
  {
   "cell_type": "markdown",
   "id": "1add342a-ccc3-4bd7-a860-d531b3f096ab",
   "metadata": {
    "tags": []
   },
   "source": [
    "## Agenda\n",
    "**Jour 1: Le langage Python et ses applications**\n",
    "- **Matin**\n",
    "    1. Les environnements de travail\n",
    "    2. Les bases de python\n",
    "- **Après-midi**\n",
    "    3. La programation orientée objet (POO) en python\n",
    "    4. Les modules\n",
    "\n",
    "**Jour 2: Maniplation de données et visualisation**\n",
    "- **Matin**\n",
    "    1. Les bases de Numpy\n",
    "    2. Pandas, votre nouveau meilleur ami\n",
    "- **Après-midi**\n",
    "    2. Pandas, votre nouveau meilleur ami\n",
    "\n",
    "**Jour 3: Analyse exploratoire, pipeline de données et apprentissage**\n",
    "- **Matin**\n",
    "    1. Analyse exploratoire à l'aide de Pandas\n",
    "    2. Visualition de données\n",
    "- **Après-midi**\n",
    "    3. Pandas avancé\n",
    "    4. Pipelines de données  \n",
    "        4.1. Ingestion  \n",
    "        4.2. Stockage et traitement  \n",
    "        4.3. Applications  "
   ]
  },
  {
   "cell_type": "markdown",
   "id": "37ef5e81-1d81-4739-9ab7-a0d96b0301fe",
   "metadata": {
    "tags": []
   },
   "source": [
    "# Ce que nous n'allons pas couvrir\n",
    "\n",
    "- La gestion de dépendances hors du contexte d’un notebook\n",
    "- Intéragir avec des APIs\n",
    "- Les détails du machine learning et ses frameworks (Tensorflow, Pytorch, Keras) \n",
    "\n",
    "Et tout ce qui n'est pas mentionné dans ce que nous allons apprendre ensemble. "
   ]
  },
  {
   "cell_type": "markdown",
   "id": "8fbc30da-05d6-483c-a4b8-c2baa76d2512",
   "metadata": {},
   "source": [
    "---"
   ]
  },
  {
   "cell_type": "markdown",
   "id": "fd0abd14-9c76-4c20-8959-ffcb9759a9e7",
   "metadata": {
    "tags": []
   },
   "source": [
    "# JOUR 1: Le langage Python et ses applications"
   ]
  },
  {
   "cell_type": "markdown",
   "id": "661eb172-053e-4838-8ff0-87875bb94297",
   "metadata": {
    "tags": []
   },
   "source": [
    "## Introduction"
   ]
  },
  {
   "cell_type": "markdown",
   "id": "d240c62d-cd1c-4b89-94c9-4474b97e7d88",
   "metadata": {
    "jupyter": {
     "source_hidden": true
    },
    "tags": []
   },
   "source": [
    "### Pourquoi apprenons-nous le Python aujourd'hui ?\n",
    "\n",
    "- Un langage haut niveau: facile à interpréter par un homme sans connaissance approfondie sur le fonctionnement de l’automate qui l’exécute ;\n",
    "- Un langage interprété, et \"non fortement typé\" ;\n",
    "- Une communauté énorme de développement à travers le monde avec une multitude de cas d'usages ce qui engendre une [multitude de librairies disponibles][gh-awesome-python] particulièrement pour la manipulation de données et le machine learning.\n",
    "\n",
    "Cette liste est non exhaustive. Il y aurait encore de nombreux points clés que nous pourrions mentionnés.\n",
    "\n",
    "[gh-awesome-python]: https://github.com/vinta/awesome-python\n",
    "\n",
    "### Besoin d'autres arguments ?\n",
    "\n",
    "Le Python couvre des usages comme:\n",
    "- Créer des applications Web ;\n",
    "- Créer des workflows et les orchestrer ;\n",
    "- Interagir avec des bases de données (même en SQL) ;\n",
    "- Gérer de gros volumes de données ainsi que de réaliser des opérations mathématiques complexes ;\n",
    "\n",
    "Vous pourrez l'utiliser autant pour écrire du code d'expérimentation, des prototypes de produits et que code adéquat pour un usage en production.\n",
    "\n",
    "Le python a detrôné des langages bien installés comme le Java et attiré de nombreux utilisateurs car il est simple à lire. "
   ]
  },
  {
   "cell_type": "markdown",
   "id": "7b55ab5f-68b0-4171-8786-984a557bfa2b",
   "metadata": {
    "jp-MarkdownHeadingCollapsed": true,
    "jupyter": {
     "source_hidden": true
    },
    "tags": []
   },
   "source": [
    "![](https://149351115.v2.pressablecdn.com/wp-content/uploads/2017/09/growth_major_languages-1-1024x878.png)\n",
    "\n",
    "À sa création Python n'avait pas le vent en poupe mais il a tourné et avec lui de nouvelles librairies ont aidé Python à prendre son envol.\n",
    "\n",
    "![python-google-trend.jpg](data:image/jpeg;base64,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)"
   ]
  },
  {
   "cell_type": "markdown",
   "id": "9e6e0b03-e235-4a15-8c41-7ff0de118b6b",
   "metadata": {
    "jupyter": {
     "source_hidden": true
    },
    "tags": []
   },
   "source": [
    "C'est encore plus vrai aujourd'hui : https://survey.stackoverflow.co/2022/#most-loved-dreaded-and-wanted-language-love-dread"
   ]
  },
  {
   "cell_type": "markdown",
   "id": "65fd8353-1484-4699-adfc-10cc4253ea5d",
   "metadata": {
    "jp-MarkdownHeadingCollapsed": true,
    "tags": []
   },
   "source": [
    "# Votre environnement de travail"
   ]
  },
  {
   "cell_type": "markdown",
   "id": "6139b684-11da-4a02-89c3-00f9287adad8",
   "metadata": {
    "jp-MarkdownHeadingCollapsed": true,
    "tags": []
   },
   "source": [
    "## Pouvez-vous installer des programmes sur votre ordinateur ?\n",
    "\n",
    "### Si oui, anaconda & jupyter lab & github\n",
    "\n",
    "- Notre environnement: \n",
    "    1. Télécharger la distribution Anaconda sur https://www.anaconda.com/distribution/.\n",
    "    2. Exécuter le programme d’installation.\n",
    "    3. Une fois l’installation terminée, lancer le programme Anaconda Navigator.\n",
    "    4. Suivre le Getting Started with Anaconda: https://docs.anaconda.com/anaconda/user-guide/getting-started/\n",
    "\n",
    "\n",
    "- Notre IDE: JupyterLab\n",
    "\n",
    "- Notre répertoire à télécharger: https://github.com/vl4py/just-enough-python-for-data-analysis\n",
    "\n",
    "### Si non, google collab & google drive\n",
    "\n",
    "https://colab.research.google.com/\n",
    "\n",
    "## Nos éditeurs\n",
    "\n",
    "Nous trouverons de nombreuses options à travers `Anaconda navigator`. Nous allons voir comment exécuter nos première ligne de python dans différents environnements.\n",
    "\n",
    "### [Pycharm](https://www.jetbrains.com/pycharm/download/#section=windows): Un IDE pour le python\n",
    "\n",
    "1. Télécharger l'IDE\n",
    "2. Exécuter le programme d’installation\n",
    "3. Lancer Pycharm Community Edition\n",
    "4. Créer un fichier `hello.py` contenant `print(‘hello python’)`\n",
    "5. Lancer le à l'aide du button au symbole\"▶\"\n",
    "\n",
    "### [JupyterLab](https://docs.jupyter.org/en/latest/): Le merveilleux monde des notebooks\n",
    "\n",
    "1. Télécharger JupyterLab\n",
    "2. Lancer JupyterLab\n",
    "\n",
    "Un onglet a du apparaître dans votre navigateur web par défaut. (e.g chrome, firefox, etc.)\n",
    "\n",
    "4. Créer une cellule `hello.py` contenant `print(‘hello python’)`\n",
    "5. Lancer la en faisnt `Ctrl + Enter`\n",
    " \n",
    "### [IPython](https://ipython.org/): Le terminal, origine de tout\n",
    "\n",
    "1. Ouvrir un terminal. Pour Windows, utilisons Powershell\n",
    "2. Lancer `ipython`\n",
    "3. Entrer `print('hello world')`\n",
    " \n",
    " \n",
    "## Setup checklist \n",
    "\n",
    "- [ ] J'ai pu ouvrir ce notebook à travers JupyterLab\n",
    "- [ ] J'ai téléchargé le répertoire github"
   ]
  },
  {
   "cell_type": "markdown",
   "id": "f87e28b6-4ae9-4a0c-9e6d-b0743b54fe50",
   "metadata": {
    "jp-MarkdownHeadingCollapsed": true,
    "tags": []
   },
   "source": [
    "## Nos environnements sont maintenant prêts !"
   ]
  },
  {
   "cell_type": "markdown",
   "id": "83f1d671-7bf1-4bb8-b9aa-bd806f47353f",
   "metadata": {
    "id": "yLf6-xX0Abqz",
    "tags": []
   },
   "source": [
    "# Avant toute chose, quelques mots sur notre environnement de travail\n",
    "\n",
    "Nous sommes actuellement dans un notebook Jupyter. Toutes les cellules que vous voyez sont exécutables et interprétées. Certaines comme étant du texte écrit en [Markdown][1] ce qui est le cas de celles que vous lisez à cet instant ainsi que de celles qui la précèdent ; d'autres comme du code.\n",
    "\n",
    "[1]: https://www.markdownguide.org/basic-syntax/"
   ]
  },
  {
   "cell_type": "code",
   "execution_count": 9,
   "id": "429431da-ef2a-4f68-bf19-1941d4e8c8fc",
   "metadata": {
    "colab": {
     "base_uri": "https://localhost:8080/"
    },
    "collapsed": true,
    "id": "B3xUSibSA96b",
    "jupyter": {
     "outputs_hidden": true,
     "source_hidden": true
    },
    "outputId": "44015486-2496-4971-a1e8-b34434734590",
    "tags": []
   },
   "outputs": [
    {
     "name": "stdout",
     "output_type": "stream",
     "text": [
      "Comme celle-ci.\n",
      "\n",
      "Pour l'exécuter vous pouvez soit:\n",
      "\n",
      " - Faire Ctrl + Entrée. La sélection restera sur cette cellule.\n",
      " - Faire Ctrl + Shift. La sélection passera à la cellule suivante. (Particulièrement utile si vous voulez exécuter des cellules les unes après les autres.)\n",
      "\n"
     ]
    }
   ],
   "source": [
    "print('Comme celle-ci.') \n",
    "print(\"\"\"\n",
    "Pour l'exécuter vous pouvez soit:\n",
    "\n",
    " - Faire Ctrl + Entrée. La sélection restera sur cette cellule.\n",
    " - Faire Ctrl + Shift. La sélection passera à la cellule suivante. (Particulièrement utile si vous voulez exécuter des cellules les unes après les autres.)\n",
    "\"\"\")"
   ]
  },
  {
   "cell_type": "markdown",
   "id": "3591de15-6b87-4658-9ed6-d1ca5c439662",
   "metadata": {
    "id": "npOo6TeACvjf",
    "tags": []
   },
   "source": [
    "Bravo, vous venez d'exécuter votre première cellule de code python. La première d'une longue série."
   ]
  },
  {
   "cell_type": "markdown",
   "id": "359a4d43-2fdf-4525-a566-11d8fe539534",
   "metadata": {
    "id": "4GlkmK2yDBUq",
    "tags": []
   },
   "source": [
    "Les notebooks offrent la possibilité de structurer son code dans des cellules, d'ajouter du texte, des images, des graphes. De s'organiser afin de faciliter le partage de connaissances et plein d'autres choses.\n",
    "\n",
    "Pour nous faciliter la vie, plein de raccourci l'accompagne. [En voilà quelques uns](https://gist.github.com/discdiver/9e00618756d120a8c9fa344ac1c375ac) \n",
    "\n"
   ]
  },
  {
   "cell_type": "markdown",
   "id": "02737f81-badc-4bd3-996f-7c8a48e7a5fe",
   "metadata": {
    "id": "4GlkmK2yDBUq",
    "jupyter": {
     "source_hidden": true
    },
    "tags": []
   },
   "source": [
    "Elle embarque aussi des commandes \"magiques\":\n",
    "\n",
    "|Command|Description|\n",
    "|---|---|\n",
    "|%quickref|Display the IPython Quick Reference Card|\n",
    "|%magic|Display detailed documentation for all of the available magic commands|\n",
    "|%debug | Enter the interactive debugger at the bottom of the last exceptiontraceback|\n",
    "|%hist | Print command input (and optionally output) history|\n",
    "|%pdb |Automatically enter debugger after any exception|\n",
    "|%paste | Execute preformatted Python code from clipboard|\n",
    "|%cpaste | Open a special prompt for manually pasting Python code to be executed|\n",
    "|%reset | Delete all variables/names defined in interactive namespace|\n",
    "|%page OBJECT | Pretty-print the object and display it through a pager|\n",
    "|%run script.py | Run a Python script inside IPython|\n",
    "|%prun statement | Execute statement with cProfile and report the profiler output|\n",
    "|%time | statement Report the execution time of a single statement|\n",
    "|%timeit | statement Run a statement multiple times to compute an ensemble average execution time; useful for timing code with very short execution time|\n",
    "|%who, %who_ls, %whos | Display variables defined in interactive namespace, with varying levels of information verbosity |\n",
    "|%xdel | variable Delete a variable and attempt to clear any references to the object in the IPython internals|"
   ]
  },
  {
   "cell_type": "markdown",
   "id": "e1ef26dc-871f-40a7-a943-fbb62a347a0d",
   "metadata": {
    "jp-MarkdownHeadingCollapsed": true,
    "tags": []
   },
   "source": [
    "#### Faisons un peu de magie ! Jouons avec le temps."
   ]
  },
  {
   "cell_type": "code",
   "execution_count": null,
   "id": "f37c169b-aa7f-47de-89ac-08e8244d5de5",
   "metadata": {
    "id": "niLXtBADO65Z"
   },
   "outputs": [],
   "source": [
    "import time"
   ]
  },
  {
   "cell_type": "code",
   "execution_count": null,
   "id": "127a14f2-3612-4796-8be2-fb345f5623eb",
   "metadata": {
    "id": "cJe0nyl0NZUz"
   },
   "outputs": [],
   "source": [
    "%time time.sleep(2)"
   ]
  },
  {
   "cell_type": "code",
   "execution_count": null,
   "id": "fa3c59ab-a33a-4af1-bb3b-70d419b201dc",
   "metadata": {
    "id": "4B5zJBkDO4Ls"
   },
   "outputs": [],
   "source": [
    "%%time\n",
    "time.sleep(2)"
   ]
  },
  {
   "cell_type": "code",
   "execution_count": null,
   "id": "83229dfb-9c24-48dc-9a69-e86bb627f72b",
   "metadata": {
    "id": "UITrIltFPZdh"
   },
   "outputs": [],
   "source": [
    "%%timeit\n",
    "print(\"Stop me !\")"
   ]
  },
  {
   "cell_type": "markdown",
   "id": "d33d5166-0ffe-43a4-8688-8fd99263c696",
   "metadata": {
    "id": "Sh-t1WsEPl-C"
   },
   "source": [
    "Mais que fait `timeit` ? Serait-il en train de répéter l'opération pour obtenir un temps moyen? Qu'en dit la documentation ?  "
   ]
  },
  {
   "cell_type": "code",
   "execution_count": null,
   "id": "21a0653e-228e-4100-8bd8-85c62fe4b567",
   "metadata": {
    "id": "SEhPxGTdPxXm"
   },
   "outputs": [],
   "source": [
    "%%timeit?"
   ]
  },
  {
   "cell_type": "markdown",
   "id": "f4c7ed6a-a4a6-4cb2-9882-650bb5adc7da",
   "metadata": {
    "id": "wejr-SrbRMMW"
   },
   "source": [
    "La documentation est apparu comme un nouveau panneau à droite grâce au `?` (c'est un alias de la fonction built-in `help()`) Merveilleux ! D'ailleurs, nous pouvons même découvrir le code source avec `??`"
   ]
  },
  {
   "cell_type": "code",
   "execution_count": null,
   "id": "0a91692f-205a-4414-a7b3-7ff50b55cb1d",
   "metadata": {
    "id": "pv0NknlcS9L_"
   },
   "outputs": [],
   "source": [
    "%%timeit??"
   ]
  },
  {
   "cell_type": "markdown",
   "id": "6c810cbb-9e05-4985-99db-344ea72c6006",
   "metadata": {
    "id": "802q9qdmSAH7"
   },
   "source": [
    "Pour éviter que ça ne continue trop longtemps, voyons s'il n'y a pas un moyen de limiter le nombre d'occurences.\n"
   ]
  },
  {
   "cell_type": "code",
   "execution_count": null,
   "id": "ea5705d5-de0f-42f8-b7c9-f46d4e233cf6",
   "metadata": {
    "id": "5M0DpPXbO_CO"
   },
   "outputs": [],
   "source": [
    "%%timeit -n 5 -r 2\n",
    "print(\"again and\")"
   ]
  },
  {
   "cell_type": "markdown",
   "id": "13871b01-a8d8-4f50-b324-9f984e657cc7",
   "metadata": {},
   "source": [
    "La morale de cette histoire  tient en une phrase:\n",
    "    \n",
    "> #### Ask for `--help`\n",
    "    \n",
    "L'idée est simple chercher à trouver la documentation. Quand elle existe, elle est précieuse."
   ]
  },
  {
   "cell_type": "markdown",
   "id": "d526c18f-d4c6-42c3-b45f-ace455d3c515",
   "metadata": {
    "jp-MarkdownHeadingCollapsed": true,
    "tags": []
   },
   "source": [
    "# Pause café: [10 min](https://www.google.com/search?q=timer+10+minutes&rlz=1C1GCEU_frFR978FR978&oq=timer+10&aqs=chrome.0.0i512j69i57j0i20i263i512j0i512l7.1365j0j7&sourceid=chrome&ie=UTF-8)\n",
    "\n",
    "![](https://media.giphy.com/media/qESFbPpn6qPNo5yCQs/giphy.gif)"
   ]
  },
  {
   "cell_type": "markdown",
   "id": "afd1e25e-5535-4fcf-8fe9-cf0dc2d3e5ea",
   "metadata": {
    "tags": []
   },
   "source": [
    "# Les bases du langage Python"
   ]
  },
  {
   "cell_type": "markdown",
   "id": "cc01a468-16b1-4c20-bccc-6bbd76e7d068",
   "metadata": {},
   "source": [
    "## Prérequis pour les exercices"
   ]
  },
  {
   "cell_type": "code",
   "execution_count": null,
   "id": "473f6e0d-549f-4f50-8ce9-3ed579547ef7",
   "metadata": {
    "scrolled": true,
    "tags": []
   },
   "outputs": [],
   "source": [
    "!pip install ipytest"
   ]
  },
  {
   "cell_type": "markdown",
   "id": "5f5c5964-5a99-40f7-bda4-ba2b63c77d28",
   "metadata": {},
   "source": [
    "Maintenant veuillez relancre votre kernel via le panneau en haut de cette page."
   ]
  },
  {
   "cell_type": "code",
   "execution_count": 141,
   "id": "938d1b23-da70-4cd8-a71a-8b7d5f19bfbb",
   "metadata": {},
   "outputs": [],
   "source": [
    "import ipytest\n",
    "ipytest.autoconfig()"
   ]
  },
  {
   "cell_type": "markdown",
   "id": "549ccad6-778c-4998-b2ac-ee34e38e2c6d",
   "metadata": {},
   "source": [
    "## La sémantique du Python\n",
    "\n",
    "> Le Python se démarque car il a été conçu de façon à être simple à lire, à comprendre et clair dans ce qu'il fait. Certains vont jusqu'à le qualifier de \"psuedocode exécutable\"  \n",
    "> _Wes Mckinney, notamment le créateur de Pandas._\n",
    "\n",
    "Donc cela voudrait dire que si je ne vous donne que les règles de bases, vous pouvez lire du code python de production, n'est-ce pas?"
   ]
  },
  {
   "cell_type": "markdown",
   "id": "a0bedf86-9d82-458a-b29a-b737f78d804e",
   "metadata": {},
   "source": [
    "### PEP 8 — the Style Guide for Python Code"
   ]
  },
  {
   "cell_type": "markdown",
   "id": "0c86cdc3-738f-4078-a717-cb522e361f7a",
   "metadata": {},
   "source": [
    "Il s'agit d'un ensemble de convention sur comment le python doit être écrit afin que chacu puisse le lire. Voilà ce que dit la documentation\n",
    "\n",
    "> One of Guido’s key insights is that code is read much more often than it is written. The guidelines provided here are intended to improve the readability of code and make it consistent across the wide spectrum of Python code.\n",
    "\n",
    "[En savoir plus.](https://pep8.org/#pep-8-%E2%80%94-the-style-guide-for-python-code)\n"
   ]
  },
  {
   "cell_type": "markdown",
   "id": "e7c1d3b1-5cc1-4f28-a51f-fc3208e048b4",
   "metadata": {
    "id": "YEtzRTh0ciaZ"
   },
   "source": [
    "### L'indentation"
   ]
  },
  {
   "cell_type": "code",
   "execution_count": null,
   "id": "aceb537c-c1e4-4632-8a8d-d56ec2d3cbee",
   "metadata": {
    "colab": {
     "base_uri": "https://localhost:8080/",
     "height": 131
    },
    "id": "K8sYST48bZg8",
    "outputId": "a50106d6-3ae4-46e7-defc-10d7ceb61360"
   },
   "outputs": [
    {
     "ename": "IndentationError",
     "evalue": "ignored",
     "output_type": "error",
     "traceback": [
      "\u001b[0;36m  File \u001b[0;32m\"<ipython-input-66-a314491c53bb>\"\u001b[0;36m, line \u001b[0;32m2\u001b[0m\n\u001b[0;31m    print(\"Five is greater than two!\")\u001b[0m\n\u001b[0m        ^\u001b[0m\n\u001b[0;31mIndentationError\u001b[0m\u001b[0;31m:\u001b[0m expected an indented block\n"
     ]
    }
   ],
   "source": [
    "if 5 > 2:\n",
    "print(\"Five is greater than two!\")"
   ]
  },
  {
   "cell_type": "markdown",
   "id": "11bb8ca3-03c6-407b-bab2-7e976c905737",
   "metadata": {
    "id": "O1lngayMc7Xu",
    "tags": []
   },
   "source": [
    "### Les commentaires\n",
    "\n",
    "C'est pour une question de lisibilité mais pas que. Par exemple, au dessus nous avions du code pour plus tard en commentaires."
   ]
  },
  {
   "cell_type": "code",
   "execution_count": null,
   "id": "de09924a-282a-42fe-92d8-4df19caf60bf",
   "metadata": {
    "id": "dvbsm0p2gZOR"
   },
   "outputs": [],
   "source": [
    "# Rien que des commentaires. Rien ne se passe si je l'exécute."
   ]
  },
  {
   "cell_type": "markdown",
   "id": "7748be11-d54a-4b45-a953-772c68d12384",
   "metadata": {
    "id": "EaVHhYeeejG_"
   },
   "source": [
    "### Les fonctions"
   ]
  },
  {
   "cell_type": "code",
   "execution_count": 100,
   "id": "dd0a2fc4-9387-4203-86af-b42714dffb4d",
   "metadata": {
    "id": "3UZnA5sIgzny"
   },
   "outputs": [],
   "source": [
    "def meilleurs_voeux(prenom):\n",
    "  print(f\"Tout mes vœux {prenom} !\")"
   ]
  },
  {
   "cell_type": "code",
   "execution_count": 101,
   "id": "baf1483d-26e1-487d-a8be-281b74182aae",
   "metadata": {
    "colab": {
     "base_uri": "https://localhost:8080/"
    },
    "collapsed": true,
    "id": "zfjcaqvoitXF",
    "jupyter": {
     "outputs_hidden": true
    },
    "outputId": "dbf44d50-3fc9-4939-f180-663b8876a76e",
    "tags": []
   },
   "outputs": [
    {
     "name": "stdout",
     "output_type": "stream",
     "text": [
      "Tout mes vœux Aliénor !\n",
      "Tout mes vœux Christian !\n",
      "Tout mes vœux Mathieu !\n",
      "Tout mes vœux Nicolas !\n",
      "Tout mes vœux Sandrine !\n",
      "Tout mes vœux Yassine !\n"
     ]
    }
   ],
   "source": [
    "for p in participants:\n",
    "  meilleurs_voeux(p)"
   ]
  },
  {
   "cell_type": "markdown",
   "id": "4d03393c-dbd9-4179-9f89-4a31538eac8e",
   "metadata": {
    "id": "ZiCBmHDCuZOh"
   },
   "source": [
    "### Les imports\n",
    "\n",
    "Importer sert à charger du code source qui provient d' un autre module. Qu'il s'agisse d'un module interne ou externe la méthode ne change pas. Le module doit toutefois être disponib le pour l'interpreteur à partir de là où il est exécuté."
   ]
  },
  {
   "cell_type": "code",
   "execution_count": 106,
   "id": "b419c101-8025-4308-b6bc-480bfa8d5253",
   "metadata": {
    "id": "dv5ti97yug45"
   },
   "outputs": [],
   "source": [
    "import pandas as pd # renommer à l'import dans le cadre de cette session\n",
    "from datetime import datetime # importer qu'une partie de la librairie\n",
    "from functools import * # import un ensemble d'élément"
   ]
  },
  {
   "cell_type": "markdown",
   "id": "5286efc7-0e16-4a19-a1fd-d763f29153d9",
   "metadata": {
    "id": "QQ-BBZRygq_c"
   },
   "source": [
    "### Les variables et types\n",
    "\n",
    "Les noms des variables sont sensible à la casse c.a.d `a != A`"
   ]
  },
  {
   "cell_type": "markdown",
   "id": "1e3280c8-30d6-4560-a7e1-27770b979f6f",
   "metadata": {
    "id": "QQ-BBZRygq_c"
   },
   "source": [
    "Il n'y a pas de déclaration de type pour les variables ni pour les paramètres, fonctions, méthodes, etc.  \n",
    "Il n'y aura pas de vérification du code à la compilation, car il n'y a pas de compilation"
   ]
  },
  {
   "cell_type": "markdown",
   "id": "45c0ccf7-8744-4005-aa27-9e99fac76383",
   "metadata": {
    "id": "QQ-BBZRygq_c"
   },
   "source": [
    "Les variables sont typées dynamiquement, c.a.d que suivant la valeur affectée à une variable son type changera."
   ]
  },
  {
   "cell_type": "code",
   "execution_count": 67,
   "id": "22456b45-fcd3-4869-95c5-a9ee43aac10e",
   "metadata": {
    "id": "Gesy_MIdmqLn"
   },
   "outputs": [],
   "source": [
    "integer_variable = 5\n",
    "string_variable = 'John'\n",
    "\n",
    "assert integer_variable == 5\n",
    "assert string_variable == 'John'\n",
    "\n",
    "# Now I assign a different type\n",
    "integer_variable = 'John'\n",
    "\n",
    "assert type(integer_variable) == type(str())"
   ]
  },
  {
   "cell_type": "markdown",
   "id": "bcb56779-bca9-4c6e-9641-a564f7c5dd35",
   "metadata": {},
   "source": [
    "Jouons un peu plus"
   ]
  },
  {
   "cell_type": "code",
   "execution_count": 86,
   "id": "050f0e49-5a4d-478d-900b-0bdb4228c05b",
   "metadata": {},
   "outputs": [
    {
     "data": {
      "text/plain": [
       "6"
      ]
     },
     "execution_count": 86,
     "metadata": {},
     "output_type": "execute_result"
    }
   ],
   "source": [
    "a = 6       ## set a variable in this interpreter session\n",
    "a           ## entering an expression prints its value"
   ]
  },
  {
   "cell_type": "code",
   "execution_count": 87,
   "id": "0d7d8bdb-be2f-4c73-bb2f-76cbe8a474dc",
   "metadata": {},
   "outputs": [
    {
     "data": {
      "text/plain": [
       "'Good'"
      ]
     },
     "execution_count": 87,
     "metadata": {},
     "output_type": "execute_result"
    }
   ],
   "source": [
    "a = 'Good'    ## 'a' can hold a string just as well a'\n",
    "a"
   ]
  },
  {
   "cell_type": "code",
   "execution_count": 69,
   "id": "ca2d0908-fda2-4a1d-ab7e-2c0052cd8123",
   "metadata": {},
   "outputs": [],
   "source": [
    "vrai = True\n",
    "faux = False"
   ]
  },
  {
   "cell_type": "code",
   "execution_count": 70,
   "id": "9b444baf-68ae-48da-b190-c9055cc3a1e3",
   "metadata": {},
   "outputs": [],
   "source": [
    "grand_entier = 99999999999999999999999999999999999999999999999999999999999999999999999999999999999999999999999999"
   ]
  },
  {
   "cell_type": "code",
   "execution_count": 83,
   "id": "07e0867a-343c-468f-8016-3d88d7c611ba",
   "metadata": {},
   "outputs": [
    {
     "data": {
      "text/plain": [
       "\"99999999999999999999999999999999999999999999999999999999999999999999999999999999999999999999999999 est toujours un <class 'int'>\""
      ]
     },
     "execution_count": 83,
     "metadata": {},
     "output_type": "execute_result"
    }
   ],
   "source": [
    "f'{grand_entier} est toujours un {type(grand_entier)}'"
   ]
  },
  {
   "cell_type": "code",
   "execution_count": 118,
   "id": "b2cba068-e470-4bb8-8272-39d7a0187c79",
   "metadata": {},
   "outputs": [
    {
     "data": {
      "text/plain": [
       "6"
      ]
     },
     "execution_count": 118,
     "metadata": {},
     "output_type": "execute_result"
    }
   ],
   "source": [
    "a = 6       ## set a variable in this interpreter session\n",
    "a           ## entering an expression prints its value"
   ]
  },
  {
   "cell_type": "code",
   "execution_count": 119,
   "id": "7b7868ae-2cf0-465f-a368-71777dbb7605",
   "metadata": {},
   "outputs": [
    {
     "data": {
      "text/plain": [
       "8"
      ]
     },
     "execution_count": 119,
     "metadata": {},
     "output_type": "execute_result"
    }
   ],
   "source": [
    "a + 2"
   ]
  },
  {
   "cell_type": "code",
   "execution_count": 120,
   "id": "e729a9f1-05ae-48e2-8dff-266bc025f49b",
   "metadata": {},
   "outputs": [
    {
     "data": {
      "text/plain": [
       "False"
      ]
     },
     "execution_count": 120,
     "metadata": {},
     "output_type": "execute_result"
    }
   ],
   "source": [
    "a < 5"
   ]
  },
  {
   "cell_type": "code",
   "execution_count": 122,
   "id": "204e0724-e14b-400c-9e57-0b506515c12d",
   "metadata": {},
   "outputs": [
    {
     "data": {
      "text/plain": [
       "36"
      ]
     },
     "execution_count": 122,
     "metadata": {},
     "output_type": "execute_result"
    }
   ],
   "source": [
    "a ** 2"
   ]
  },
  {
   "cell_type": "code",
   "execution_count": 123,
   "id": "2a96b37e-a5d7-4115-997a-3455855ba573",
   "metadata": {},
   "outputs": [
    {
     "data": {
      "text/plain": [
       "True"
      ]
     },
     "execution_count": 123,
     "metadata": {},
     "output_type": "execute_result"
    }
   ],
   "source": [
    "a == 6"
   ]
  },
  {
   "cell_type": "code",
   "execution_count": 124,
   "id": "700c6a07-5bee-4604-bb81-ac6c7529c9fc",
   "metadata": {},
   "outputs": [
    {
     "name": "stderr",
     "output_type": "stream",
     "text": [
      "<>:1: SyntaxWarning: \"is\" with a literal. Did you mean \"==\"?\n",
      "<>:1: SyntaxWarning: \"is\" with a literal. Did you mean \"==\"?\n",
      "C:\\Users\\lapouble.v\\AppData\\Local\\Temp\\ipykernel_23964\\206559916.py:1: SyntaxWarning: \"is\" with a literal. Did you mean \"==\"?\n",
      "  a is 6\n"
     ]
    },
    {
     "data": {
      "text/plain": [
       "True"
      ]
     },
     "execution_count": 124,
     "metadata": {},
     "output_type": "execute_result"
    }
   ],
   "source": [
    "a is 6"
   ]
  },
  {
   "cell_type": "code",
   "execution_count": 126,
   "id": "109b624e-5cab-4323-88bd-34969592b8e6",
   "metadata": {},
   "outputs": [
    {
     "data": {
      "text/plain": [
       "False"
      ]
     },
     "execution_count": 126,
     "metadata": {},
     "output_type": "execute_result"
    }
   ],
   "source": [
    "a is False"
   ]
  },
  {
   "cell_type": "code",
   "execution_count": 125,
   "id": "44e6e10c-16e6-46ab-8447-0eccf43e1f29",
   "metadata": {},
   "outputs": [
    {
     "data": {
      "text/plain": [
       "'Good'"
      ]
     },
     "execution_count": 125,
     "metadata": {},
     "output_type": "execute_result"
    }
   ],
   "source": [
    "a = 'Good'    ## 'a' can hold a string just as well a'\n",
    "a"
   ]
  },
  {
   "cell_type": "code",
   "execution_count": 127,
   "id": "6549e8a0-a495-4c2f-a0da-d9e3816b306c",
   "metadata": {},
   "outputs": [
    {
     "data": {
      "text/plain": [
       "4"
      ]
     },
     "execution_count": 127,
     "metadata": {},
     "output_type": "execute_result"
    }
   ],
   "source": [
    "len(a)      ## call the len() function on a string"
   ]
  },
  {
   "cell_type": "markdown",
   "id": "28bd1589-af49-4ca0-9bb5-6340536ffef8",
   "metadata": {
    "id": "QQ-BBZRygq_c"
   },
   "source": [
    "Les erreurs seront remontées à l’exécution de vo\n",
    "- `NameError` si utilisation d’une variable non définie (pas de valeur assignée)\n",
    "- `TypeError` si erreur de type lors de l’exécution"
   ]
  },
  {
   "cell_type": "code",
   "execution_count": 128,
   "id": "02c06e26-56c5-45aa-aeee-3d5b3d44a225",
   "metadata": {},
   "outputs": [
    {
     "ename": "TypeError",
     "evalue": "can only concatenate str (not \"int\") to str",
     "output_type": "error",
     "traceback": [
      "\u001b[1;31m---------------------------------------------------------------------------\u001b[0m",
      "\u001b[1;31mTypeError\u001b[0m                                 Traceback (most recent call last)",
      "\u001b[1;32m~\\AppData\\Local\\Temp\\ipykernel_23964\\3150897485.py\u001b[0m in \u001b[0;36m<module>\u001b[1;34m\u001b[0m\n\u001b[1;32m----> 1\u001b[1;33m \u001b[0ma\u001b[0m \u001b[1;33m+\u001b[0m \u001b[0mlen\u001b[0m\u001b[1;33m(\u001b[0m\u001b[0ma\u001b[0m\u001b[1;33m)\u001b[0m  \u001b[1;31m## try something that doesn't work\u001b[0m\u001b[1;33m\u001b[0m\u001b[1;33m\u001b[0m\u001b[0m\n\u001b[0m",
      "\u001b[1;31mTypeError\u001b[0m: can only concatenate str (not \"int\") to str"
     ]
    }
   ],
   "source": [
    "a + len(a)  ## try something that doesn't work"
   ]
  },
  {
   "cell_type": "code",
   "execution_count": 129,
   "id": "54469e93-696f-4b44-a833-726942722283",
   "metadata": {},
   "outputs": [
    {
     "data": {
      "text/plain": [
       "'Good4'"
      ]
     },
     "execution_count": 129,
     "metadata": {},
     "output_type": "execute_result"
    }
   ],
   "source": [
    "a + str(len(a))  ## probably what you really wanted"
   ]
  },
  {
   "cell_type": "code",
   "execution_count": 130,
   "id": "116f0047-bfff-4242-9fdb-5bc6f212e87f",
   "metadata": {},
   "outputs": [
    {
     "data": {
      "text/plain": [
       "'Good4You'"
      ]
     },
     "execution_count": 130,
     "metadata": {},
     "output_type": "execute_result"
    }
   ],
   "source": [
    "a + str(len(a)) + u"
   ]
  },
  {
   "cell_type": "code",
   "execution_count": 131,
   "id": "934e9332-26d5-4242-b97a-407b24112948",
   "metadata": {},
   "outputs": [
    {
     "data": {
      "text/plain": [
       "'Good4You'"
      ]
     },
     "execution_count": 131,
     "metadata": {},
     "output_type": "execute_result"
    }
   ],
   "source": [
    "# Let's fix it\n",
    "u = 'You'\n",
    "a + str(len(a)) + u"
   ]
  },
  {
   "cell_type": "markdown",
   "id": "46e1fdfa-b31e-400d-96f1-71f60c62bd83",
   "metadata": {
    "tags": []
   },
   "source": [
    "### Encore une fois, le code n'est vérifié qu'au runtime, mais qu'est-ce que ça veut dire ?"
   ]
  },
  {
   "cell_type": "code",
   "execution_count": 48,
   "id": "ac32c893-22f0-4c8b-b1de-0754b9469e26",
   "metadata": {},
   "outputs": [],
   "source": [
    "# Defines a \"repeat\" function that takes 2 arguments.\n",
    "def repeat(s, exclaim=True):\n",
    "    \"\"\"\n",
    "    Returns the string 's' repeated 3 times.\n",
    "    If exclaim is true, add exclamation marks.\n",
    "    \"\"\"\n",
    "\n",
    "    result = s + s + s # can also use \"s * 3\" which is faster (Why?)\n",
    "    if exclaim:\n",
    "        result = result + '!!!'\n",
    "    return result"
   ]
  },
  {
   "cell_type": "code",
   "execution_count": 72,
   "id": "f3402af0-d37b-4b51-8048-ed095c5c0240",
   "metadata": {},
   "outputs": [],
   "source": [
    "def joe_dassin(parole):\n",
    "    if parole == \"Elle n'est jamais venu\":\n",
    "        return repeeeet(parole) + '!!!'\n",
    "    else:\n",
    "        return (repeat(parole))"
   ]
  },
  {
   "cell_type": "code",
   "execution_count": 73,
   "id": "977aa8d9-a454-4142-849e-97927fce975c",
   "metadata": {},
   "outputs": [
    {
     "data": {
      "text/plain": [
       "'Zaiiii Zaiiii Zaiiii !!!'"
      ]
     },
     "execution_count": 73,
     "metadata": {},
     "output_type": "execute_result"
    }
   ],
   "source": [
    "joe_dassin('Zaiiii ')"
   ]
  },
  {
   "cell_type": "code",
   "execution_count": 74,
   "id": "046ac950-a62d-4113-9499-92c12d37b784",
   "metadata": {},
   "outputs": [
    {
     "data": {
      "text/plain": [
       "'Zaiiii Zaiiii Zaiiii !!!Zaiiii Zaiiii Zaiiii !!!Zaiiii Zaiiii Zaiiii !!!!!!'"
      ]
     },
     "execution_count": 74,
     "metadata": {},
     "output_type": "execute_result"
    }
   ],
   "source": [
    "joe_dassin(joe_dassin('Zaiiii '))"
   ]
  },
  {
   "cell_type": "code",
   "execution_count": 76,
   "id": "6af07caa-c8fc-4e7f-957c-0043f928e777",
   "metadata": {},
   "outputs": [
    {
     "ename": "NameError",
     "evalue": "name 'repeeeet' is not defined",
     "output_type": "error",
     "traceback": [
      "\u001b[1;31m---------------------------------------------------------------------------\u001b[0m",
      "\u001b[1;31mNameError\u001b[0m                                 Traceback (most recent call last)",
      "\u001b[1;32m~\\AppData\\Local\\Temp\\ipykernel_36372\\240905053.py\u001b[0m in \u001b[0;36m<module>\u001b[1;34m\u001b[0m\n\u001b[1;32m----> 1\u001b[1;33m \u001b[0mjoe_dassin\u001b[0m\u001b[1;33m(\u001b[0m\u001b[1;34m\"Elle n'est jamais venu\"\u001b[0m\u001b[1;33m)\u001b[0m\u001b[1;33m\u001b[0m\u001b[1;33m\u001b[0m\u001b[0m\n\u001b[0m",
      "\u001b[1;32m~\\AppData\\Local\\Temp\\ipykernel_36372\\3266513265.py\u001b[0m in \u001b[0;36mjoe_dassin\u001b[1;34m(parole)\u001b[0m\n\u001b[0;32m      1\u001b[0m \u001b[1;32mdef\u001b[0m \u001b[0mjoe_dassin\u001b[0m\u001b[1;33m(\u001b[0m\u001b[0mparole\u001b[0m\u001b[1;33m)\u001b[0m\u001b[1;33m:\u001b[0m\u001b[1;33m\u001b[0m\u001b[1;33m\u001b[0m\u001b[0m\n\u001b[0;32m      2\u001b[0m     \u001b[1;32mif\u001b[0m \u001b[0mparole\u001b[0m \u001b[1;33m==\u001b[0m \u001b[1;34m\"Elle n'est jamais venu\"\u001b[0m\u001b[1;33m:\u001b[0m\u001b[1;33m\u001b[0m\u001b[1;33m\u001b[0m\u001b[0m\n\u001b[1;32m----> 3\u001b[1;33m         \u001b[1;32mreturn\u001b[0m \u001b[0mrepeeeet\u001b[0m\u001b[1;33m(\u001b[0m\u001b[0mparole\u001b[0m\u001b[1;33m)\u001b[0m \u001b[1;33m+\u001b[0m \u001b[1;34m'!!!'\u001b[0m\u001b[1;33m\u001b[0m\u001b[1;33m\u001b[0m\u001b[0m\n\u001b[0m\u001b[0;32m      4\u001b[0m     \u001b[1;32melse\u001b[0m\u001b[1;33m:\u001b[0m\u001b[1;33m\u001b[0m\u001b[1;33m\u001b[0m\u001b[0m\n\u001b[0;32m      5\u001b[0m         \u001b[1;32mreturn\u001b[0m \u001b[1;33m(\u001b[0m\u001b[0mrepeat\u001b[0m\u001b[1;33m(\u001b[0m\u001b[0mparole\u001b[0m\u001b[1;33m)\u001b[0m\u001b[1;33m)\u001b[0m\u001b[1;33m\u001b[0m\u001b[1;33m\u001b[0m\u001b[0m\n",
      "\u001b[1;31mNameError\u001b[0m: name 'repeeeet' is not defined"
     ]
    }
   ],
   "source": [
    "joe_dassin(\"Elle n'est jamais venu\")"
   ]
  },
  {
   "cell_type": "code",
   "execution_count": null,
   "id": "a9ccaac0-1ac2-45ab-82d1-691da2be46c6",
   "metadata": {},
   "outputs": [],
   "source": []
  },
  {
   "cell_type": "markdown",
   "id": "a57fc4b0-4b19-4571-b2ae-c9685b326411",
   "metadata": {
    "id": "6iG35umBgrMO",
    "tags": []
   },
   "source": [
    "## Est-ce que ça nous suffit à lire du python de production ?\n",
    "\n",
    "Essayons de lire ce code ensemble"
   ]
  },
  {
   "cell_type": "code",
   "execution_count": 206,
   "id": "5434a7ce-54ae-4e61-90e9-35a5ebdfe043",
   "metadata": {},
   "outputs": [
    {
     "ename": "ModuleNotFoundError",
     "evalue": "No module named 'praw'",
     "output_type": "error",
     "traceback": [
      "\u001b[1;31m---------------------------------------------------------------------------\u001b[0m",
      "\u001b[1;31mModuleNotFoundError\u001b[0m                       Traceback (most recent call last)",
      "\u001b[1;32m~\\AppData\\Local\\Temp\\ipykernel_23964\\4227180696.py\u001b[0m in \u001b[0;36m<module>\u001b[1;34m\u001b[0m\n\u001b[1;32m----> 1\u001b[1;33m \u001b[1;32mimport\u001b[0m \u001b[0mpraw\u001b[0m\u001b[1;33m\u001b[0m\u001b[1;33m\u001b[0m\u001b[0m\n\u001b[0m\u001b[0;32m      2\u001b[0m \u001b[1;32mimport\u001b[0m \u001b[0menchant\u001b[0m\u001b[1;33m\u001b[0m\u001b[1;33m\u001b[0m\u001b[0m\n\u001b[0;32m      3\u001b[0m \u001b[1;33m\u001b[0m\u001b[0m\n\u001b[0;32m      4\u001b[0m \u001b[1;33m\u001b[0m\u001b[0m\n\u001b[0;32m      5\u001b[0m \u001b[1;32mdef\u001b[0m \u001b[0mreddit_bot\u001b[0m\u001b[1;33m(\u001b[0m\u001b[0msub\u001b[0m\u001b[1;33m,\u001b[0m \u001b[0mtrigger_phrase\u001b[0m\u001b[1;33m)\u001b[0m\u001b[1;33m:\u001b[0m\u001b[1;33m\u001b[0m\u001b[1;33m\u001b[0m\u001b[0m\n",
      "\u001b[1;31mModuleNotFoundError\u001b[0m: No module named 'praw'"
     ]
    }
   ],
   "source": [
    "import praw\n",
    "import enchant\n",
    "\n",
    "\n",
    "def reddit_bot(sub, trigger_phrase):\n",
    "   reddit = praw.Reddit(\n",
    "       client_id='your_client_id',\n",
    "       client_secret='your_client_secret',\n",
    "       username='your_username',\n",
    "       password='your_pw',\n",
    "       user_agent='your_user_agent'\n",
    "   )\n",
    "\n",
    "   subreddit = reddit.subreddit(sub)\n",
    "   dict_suggest = enchant.Dict('en_US')\n",
    "\n",
    "   for comment in subreddit.stream.comments():\n",
    "       if trigger_phrase in comment.body.lower():\n",
    "           word = comment.body.replace(trigger_phrase, '')\n",
    "           reply_text = ''\n",
    "           similar_words = dict_suggest.suggest(word)\n",
    "           for similar in similar_words:\n",
    "               reply_text += (similar + ' ')\n",
    "           comment.reply(reply_text)\n",
    "\n",
    "\n",
    "if __name__ == '__main__':\n",
    "   reddit_bot(sub='Python', trigger_phrase='useful bot')"
   ]
  },
  {
   "cell_type": "markdown",
   "id": "f01c9f83-d387-4982-87eb-2ed42304be69",
   "metadata": {
    "id": "DTBcT2-k_3Ny",
    "tags": []
   },
   "source": [
    "## Nous avons encore besoins de quelques bases pour vraiment comprendre ce que fait ce code"
   ]
  },
  {
   "cell_type": "markdown",
   "id": "e90d58e6-e8f7-43f9-84ca-e9c3f8f8849f",
   "metadata": {
    "id": "_ghV-FT0AN_H"
   },
   "source": [
    "# Les opérateurs"
   ]
  },
  {
   "cell_type": "code",
   "execution_count": null,
   "id": "b7338f79-7947-43c5-b698-b14ea62d355f",
   "metadata": {
    "id": "HBWAW1cJARdo"
   },
   "outputs": [],
   "source": [
    "\"\"\"Arithmetic operators\n",
    "\n",
    "@see: https://www.w3schools.com/python/python_operators.asp\n",
    "\n",
    "Arithmetic operators are used with numeric values to perform common mathematical operations\n",
    "\"\"\"\n",
    "\n",
    "\n",
    "def test_arithmetic_operators():\n",
    "    \"\"\"Arithmetic operators\"\"\"\n",
    "\n",
    "    # Addition.\n",
    "    assert 5 + 3 == 8\n",
    "\n",
    "    # Subtraction.\n",
    "    assert 5 - 3 == 2\n",
    "\n",
    "    # Multiplication.\n",
    "    assert 5 * 3 == 15\n",
    "    assert isinstance(5 * 3, int)\n",
    "\n",
    "    # Division.\n",
    "    # Result of division is float number.\n",
    "    assert 5 / 3 == 1.6666666666666667\n",
    "    assert 8 / 4 == 2\n",
    "    assert isinstance(5 / 3, float)\n",
    "    assert isinstance(8 / 4, float)\n",
    "\n",
    "    # Modulus.\n",
    "    assert 5 % 3 == 2\n",
    "\n",
    "    # Exponentiation.\n",
    "    assert 5 ** 3 == 125\n",
    "    assert 2 ** 3 == 8\n",
    "    assert 2 ** 4 == 16\n",
    "    assert 2 ** 5 == 32\n",
    "    assert isinstance(5 ** 3, int)\n",
    "\n",
    "    # Floor division.\n",
    "    assert 5 // 3 == 1\n",
    "    assert 6 // 3 == 2\n",
    "    assert 7 // 3 == 2\n",
    "    assert 9 // 3 == 3\n",
    "    assert isinstance(5 // 3, int)"
   ]
  },
  {
   "cell_type": "code",
   "execution_count": null,
   "id": "82e33ce4-a60e-4453-b2bd-2ee1fe649d64",
   "metadata": {
    "id": "HnBpwyhnIcR3"
   },
   "outputs": [],
   "source": [
    "\"\"\"Comparison operators\n",
    "\n",
    "@see: https://www.w3schools.com/python/python_operators.asp\n",
    "\n",
    "Comparison operators are used to compare two values.\n",
    "\"\"\"\n",
    "\n",
    "\n",
    "def test_comparison_operators():\n",
    "    \"\"\"Comparison operators\"\"\"\n",
    "\n",
    "    # Equal.\n",
    "    number = 5\n",
    "    assert number == 5\n",
    "\n",
    "    # Not equal.\n",
    "    number = 5\n",
    "    assert number != 3\n",
    "\n",
    "    # Greater than.\n",
    "    number = 5\n",
    "    assert number > 3\n",
    "\n",
    "    # Less than.\n",
    "    number = 5\n",
    "    assert number < 8\n",
    "\n",
    "    # Greater than or equal to\n",
    "    number = 5\n",
    "    assert number >= 5\n",
    "    assert number >= 4\n",
    "\n",
    "    # Less than or equal to\n",
    "    number = 5\n",
    "    assert number <= 5\n",
    "    assert number <= 6"
   ]
  },
  {
   "cell_type": "code",
   "execution_count": null,
   "id": "c4f364e6-2cba-448a-980a-dbca9dcf0648",
   "metadata": {
    "id": "TL2zlWm-Hn4n",
    "tags": []
   },
   "outputs": [],
   "source": [
    "\"\"\"Logical operators\n",
    "\n",
    "@see: https://www.w3schools.com/python/python_operators.asp\n",
    "\n",
    "Logical operators are used to combine conditional statements.\n",
    "\"\"\"\n",
    "\n",
    "\n",
    "def test_logical_operators():\n",
    "    \"\"\"Logical operators\"\"\"\n",
    "\n",
    "    # Let's work with these number to illustrate logic operators.\n",
    "    first_number = 5\n",
    "    second_number = 10\n",
    "\n",
    "    # and\n",
    "    # Returns True if both statements are true.\n",
    "    assert first_number > 0 and second_number < 20\n",
    "\n",
    "    # or\n",
    "    # Returns True if one of the statements is true\n",
    "    assert first_number > 5 or second_number < 20\n",
    "\n",
    "    # not\n",
    "    # Reverse the result, returns False if the result is true.\n",
    "    # pylint: disable=unneeded-not\n",
    "    assert not first_number == second_number\n",
    "    assert first_number != second_number"
   ]
  },
  {
   "cell_type": "code",
   "execution_count": null,
   "id": "518507f4-4d30-4703-8cea-031cf7fec903",
   "metadata": {
    "id": "cVkcbJGRIog-"
   },
   "outputs": [],
   "source": [
    "\"\"\"Identity operators\n",
    "\n",
    "@see: https://www.w3schools.com/python/python_operators.asp\n",
    "\n",
    "Identity operators are used to compare the objects, not if they are equal, but if they are actually\n",
    "the same object, with the same memory location.\n",
    "\"\"\"\n",
    "\n",
    "\n",
    "def test_identity_operators():\n",
    "    \"\"\"Identity operators\"\"\"\n",
    "\n",
    "    # Let's illustrate identity operators based on the following lists.\n",
    "    first_fruits_list = [\"apple\", \"banana\"]\n",
    "    second_fruits_list = [\"apple\", \"banana\"]\n",
    "    third_fruits_list = first_fruits_list\n",
    "\n",
    "    # is\n",
    "    # Returns true if both variables are the same object.\n",
    "\n",
    "    # Example:\n",
    "    # first_fruits_list and third_fruits_list are the same objects.\n",
    "    assert first_fruits_list is third_fruits_list\n",
    "\n",
    "    # is not\n",
    "    # Returns true if both variables are not the same object.\n",
    "\n",
    "    # Example:\n",
    "    # first_fruits_list and second_fruits_list are not the same objects, even if they have\n",
    "    # the same content\n",
    "    assert first_fruits_list is not second_fruits_list\n",
    "\n",
    "    # To demonstrate the difference between \"is\" and \"==\": this comparison returns True because\n",
    "    # first_fruits_list is equal to second_fruits_list.\n",
    "    assert first_fruits_list == second_fruits_list"
   ]
  },
  {
   "cell_type": "code",
   "execution_count": null,
   "id": "5ea3378c-91ad-43e8-bf8c-9958d7c60b9d",
   "metadata": {
    "id": "MX-qL0QyI2rD"
   },
   "outputs": [],
   "source": [
    "\"\"\"Membership operators\n",
    "\n",
    "@see: https://www.w3schools.com/python/python_operators.asp\n",
    "\n",
    "Membership operators are used to test if a sequence is presented in an object.\n",
    "\"\"\"\n",
    "\n",
    "\n",
    "def test_membership_operators():\n",
    "    \"\"\"Membership operators\"\"\"\n",
    "\n",
    "    # Let's use the following fruit list to illustrate membership concept.\n",
    "    fruit_list = [\"apple\", \"banana\"]\n",
    "\n",
    "    # in\n",
    "    # Returns True if a sequence with the specified value is present in the object.\n",
    "\n",
    "    # Returns True because a sequence with the value \"banana\" is in the list\n",
    "    assert \"banana\" in fruit_list\n",
    "\n",
    "    # not in\n",
    "    # Returns True if a sequence with the specified value is not present in the object\n",
    "\n",
    "    # Returns True because a sequence with the value \"pineapple\" is not in the list.\n",
    "    assert \"pineapple\" not in fruit_list"
   ]
  },
  {
   "cell_type": "markdown",
   "id": "8b66b697-49c7-4211-83f4-4047838aceac",
   "metadata": {},
   "source": [
    "### Exercices"
   ]
  },
  {
   "cell_type": "markdown",
   "id": "76898cd1-555b-4cf9-98d3-1cd88d4e1ff8",
   "metadata": {},
   "source": [
    "Beaucoup des exercises de ce cours sont empruntés à des plateformes de pratique de codes publiques. Ils sont alimentés par la communauté python"
   ]
  },
  {
   "cell_type": "markdown",
   "id": "48e840f7-b20c-4150-bc39-02a990013253",
   "metadata": {
    "tags": []
   },
   "source": [
    "### Exercice 0: Rechercher un maximum dans une liste de façon naïve"
   ]
  },
  {
   "cell_type": "markdown",
   "id": "bf704baf-c238-4fc9-8ba9-2001fb6b57dc",
   "metadata": {},
   "source": [
    "**Description**: Trouver la valeur maximum au sein d'une liste"
   ]
  },
  {
   "cell_type": "code",
   "execution_count": 207,
   "id": "d7a08f1e-c664-4914-908f-ab64bd4c9a9a",
   "metadata": {
    "id": "tAzM_2L6VgQl"
   },
   "outputs": [],
   "source": [
    "def naive_max(items):\n",
    "    \"\"\" \n",
    "    Parcourir la liste et conserver l'item \n",
    "    qui sera le plus grand au fur et à mesure du \n",
    "    parcours\n",
    "    \"\"\"\n",
    "\n",
    "    pass"
   ]
  },
  {
   "cell_type": "code",
   "execution_count": 199,
   "id": "730ef236-c18e-4148-8bac-3290e152eae6",
   "metadata": {
    "id": "-ck8dQQGcElz",
    "tags": []
   },
   "outputs": [
    {
     "name": "stdout",
     "output_type": "stream",
     "text": [
      "\u001b[1m======================================= test session starts =======================================\u001b[0m\n",
      "platform win32 -- Python 3.9.13, pytest-7.1.2, pluggy-1.0.0\n",
      "rootdir: C:\\Users\\lapouble.v\\Workspace\\SFEIR\\Institute\\just-enough-python-for-data-analysis\n",
      "plugins: anyio-3.5.0\n",
      "collected 1 item\n",
      "\n",
      "t_74cf31965f0e4d5f933477bcd78b4328.py \u001b[32m.\u001b[0m\u001b[32m                                                      [100%]\u001b[0m\n",
      "\n",
      "\u001b[32m======================================== \u001b[32m\u001b[1m1 passed\u001b[0m\u001b[32m in 0.01s\u001b[0m\u001b[32m ========================================\u001b[0m\n"
     ]
    }
   ],
   "source": [
    "%%ipytest -v\n",
    "\n",
    "def test_naive_max():\n",
    "    fix1 = [random.randint(0,2) for _ in range(0,9)]\n",
    "    fix2 = [random.randint(0,6) for _ in range(0,9)]\n",
    "    fix3 = [random.randint(0,10) for _ in range(0,9)]\n",
    "\n",
    "    assert naive_max(fix1) == max(fix1)\n",
    "    assert naive_max(fix2) == max(fix2)\n",
    "    assert naive_max(fix3) == max(fix3)"
   ]
  },
  {
   "cell_type": "markdown",
   "id": "4ce48674-d5de-4d0e-8988-c108eec955c7",
   "metadata": {
    "jp-MarkdownHeadingCollapsed": true,
    "tags": []
   },
   "source": [
    "### Exercice 1: Unfinished Loop - Bug Fixing #1"
   ]
  },
  {
   "cell_type": "markdown",
   "id": "115602c0-bb33-43c7-91d3-ec6d63d0245f",
   "metadata": {},
   "source": [
    "**Description:** Oh no, Timmy's created an infinite loop! Help Timmy find and fix the bug in his unfinished for loop!  \n",
    "**Credit:** https://www.codewars.com/kata/55c28f7304e3eaebef0000da/solutions/python"
   ]
  },
  {
   "cell_type": "code",
   "execution_count": 90,
   "id": "889602e2-3c3f-4161-baad-330091fd48c1",
   "metadata": {},
   "outputs": [],
   "source": [
    "def create_array(n):\n",
    "    res=[]\n",
    "    i=1\n",
    "    while i<=n: res+=[i]\n",
    "    return res"
   ]
  },
  {
   "cell_type": "code",
   "execution_count": 91,
   "id": "ea58a0d5-e4b7-4509-892e-d402c46e4ef9",
   "metadata": {},
   "outputs": [
    {
     "name": "stderr",
     "output_type": "stream",
     "text": [
      "UsageError: Cell magic `%%ipytest` not found.\n"
     ]
    }
   ],
   "source": [
    "%%ipytest -v\n",
    "\n",
    "def test_create_array():\n",
    "    assert create_array(1) == [1]\n",
    "    assert create_array(2) == [1,2]\n",
    "    assert create_array(3) == [1,2,3]\n",
    "    assert create_array(4) == [1,2,3,4]\n",
    "    assert create_array(5) == [1,2,3,4,5]\n",
    "    assert create_array(6) == [1,2,3,4,5,6]\n",
    "    assert create_array(7) == [1,2,3,4,5,6,7]\n",
    "    assert create_array(8) == [1,2,3,4,5,6,7,8]\n",
    "    assert create_array(9) == [1,2,3,4,5,6,7,8,9]\n",
    "    assert create_array(10) == [1,2,3,4,5,6,7,8,9,10]"
   ]
  },
  {
   "cell_type": "markdown",
   "id": "400027f1-d961-4de2-82b0-b328ff772427",
   "metadata": {
    "tags": []
   },
   "source": [
    "# [Lab 1 - Jouons avec Python](./lab-1-play-with-pure-python/README.md)\n"
   ]
  },
  {
   "cell_type": "markdown",
   "id": "34cee540-8fae-4931-99d5-12bec5558314",
   "metadata": {
    "tags": []
   },
   "source": [
    "# Pause déjeuner: [1h30](https://www.google.com/search?q=1+hour+and+30+minutes+timer&rlz=1C1GCEU_frFR978FR978&sxsrf=AJOqlzXSHPBK8rz9YpWIdY-hAmOULbJBhA%3A1674320582619&ei=xhrMY_2yJfGDkdUPhLK8oA8&oq=timer+1h00&gs_lcp=Cgxnd3Mtd2l6LXNlcnAQARgBMgoIABBHENYEELADMgoIABBHENYEELADMgoIABBHENYEELADMgoIABBHENYEELADMgoIABBHENYEELADMgoIABBHENYEELADMgoIABBHENYEELADMgoIABBHENYEELADSgQIQRgASgQIRhgAUABYAGCWEGgBcAF4AIABAIgBAJIBAJgBAMgBCMABAQ&sclient=gws-wiz-serp)\n",
    "\n",
    "![](https://media.giphy.com/media/gpa7OEK6GoKqcDnxm1/giphy-downsized-large.gif)"
   ]
  },
  {
   "cell_type": "markdown",
   "id": "86798a23-25c5-42dd-83cf-9e231293c10d",
   "metadata": {
    "tags": []
   },
   "source": [
    "# Quizz : Les bases du langage Python !\n",
    "\n",
    "KAHOOT\n"
   ]
  },
  {
   "cell_type": "markdown",
   "id": "f23dd251-b0e1-4f96-8892-89068ffdf35e",
   "metadata": {
    "id": "Ok92FUawM4_t"
   },
   "source": [
    "# Les types de données"
   ]
  },
  {
   "cell_type": "markdown",
   "id": "279945c9-9923-4494-b539-dc3b33c540e4",
   "metadata": {
    "id": "vDwhMkfePPE0"
   },
   "source": [
    "## Les numériques"
   ]
  },
  {
   "cell_type": "code",
   "execution_count": null,
   "id": "4c81c902-44d4-4230-8db4-a3af82111777",
   "metadata": {
    "id": "0-tFVjAHPTdR",
    "jupyter": {
     "source_hidden": true
    },
    "tags": []
   },
   "outputs": [],
   "source": [
    "def test_integer_numbers():\n",
    "    \"\"\"Integer type\n",
    "\n",
    "    Int, or integer, is a whole number, positive or negative,\n",
    "    without decimals, of unlimited length.\n",
    "    \"\"\"\n",
    "\n",
    "    positive_integer = 1\n",
    "    negative_integer = -3255522\n",
    "    big_integer = 35656222554887711\n",
    "\n",
    "    assert isinstance(positive_integer, int)\n",
    "    assert isinstance(negative_integer, int)\n",
    "    assert isinstance(big_integer, int)\n",
    "\n",
    "\n",
    "def test_booleans():\n",
    "    \"\"\"Boolean\n",
    "\n",
    "    Booleans represent the truth values False and True. The two objects representing the values\n",
    "    False and True are the only Boolean objects. The Boolean type is a subtype of the integer type,\n",
    "    and Boolean values behave like the values 0 and 1, respectively, in almost all contexts, the\n",
    "    exception being that when converted to a string, the strings \"False\" or \"True\" are returned,\n",
    "    respectively.\n",
    "    \"\"\"\n",
    "\n",
    "    true_boolean = True\n",
    "    false_boolean = False\n",
    "\n",
    "    assert true_boolean\n",
    "    assert not false_boolean\n",
    "\n",
    "    assert isinstance(true_boolean, bool)\n",
    "    assert isinstance(false_boolean, bool)\n",
    "\n",
    "    # Let's try to cast boolean to string.\n",
    "    assert str(true_boolean) == \"True\"\n",
    "    assert str(false_boolean) == \"False\"\n",
    "\n",
    "\n",
    "def test_float_numbers():\n",
    "    \"\"\"Float type\n",
    "\n",
    "    Float, or \"floating point number\" is a number, positive or negative,\n",
    "    containing one or more decimals.\n",
    "    \"\"\"\n",
    "\n",
    "    float_number = 7.0\n",
    "    # Another way of declaring float is using float() function.\n",
    "    float_number_via_function = float(7)\n",
    "    float_negative = -35.59\n",
    "\n",
    "    assert float_number == float_number_via_function\n",
    "    assert isinstance(float_number, float)\n",
    "    assert isinstance(float_number_via_function, float)\n",
    "    assert isinstance(float_negative, float)\n",
    "\n",
    "    # Float can also be scientific numbers with an \"e\" to indicate\n",
    "    # the power of 10.\n",
    "    float_with_small_e = 35e3\n",
    "    float_with_big_e = 12E4\n",
    "\n",
    "    assert float_with_small_e == 35000\n",
    "    assert float_with_big_e == 120000\n",
    "    assert isinstance(12E4, float)\n",
    "    assert isinstance(-87.7e100, float)"
   ]
  },
  {
   "cell_type": "markdown",
   "id": "0306fdaf-570a-4b0b-ab78-32e8684d8ca4",
   "metadata": {
    "id": "jBt7qUFWCdqd"
   },
   "source": [
    "## Les manipulations de chaînes de caractères"
   ]
  },
  {
   "cell_type": "markdown",
   "id": "cf2458d5-da96-48ab-89eb-17d4e387ad8a",
   "metadata": {
    "id": "KJy1P5uEEsHJ"
   },
   "source": [
    "Les chaînes peuvent être définies littéralement via:\n",
    "- `Single quotes`: 'allows embedded \"double\" quotes'\n",
    "- `Double quotes`: \"allows embedded 'single' quotes\"\n",
    "- `Triple quoted`: '''Three single quotes''', \"\"\"Three double quotes\"\"\""
   ]
  },
  {
   "cell_type": "markdown",
   "id": "c3617fb0-e760-4e83-a000-b015280b76be",
   "metadata": {
    "id": "4JTywgEPDvhC"
   },
   "source": [
    "Les `\"\"\"` definissent des `docstrings` qui permettent d'écrire de façon naturelle sans avoir à mettre de delimiteur. Par exemple, de retour chariot pour revenir à la ligne "
   ]
  },
  {
   "cell_type": "code",
   "execution_count": null,
   "id": "6d40f133-9f69-4ca2-a331-644679322db3",
   "metadata": {
    "id": "hAerfCH6DYcb"
   },
   "outputs": [],
   "source": [
    "# Here's some new strange stuff, remember type it exactly.\n",
    "\n",
    "days = \"Mon Tue Wed Thu Fri Sat Sun\"\n",
    "months = \"Jan\\nFeb\\nMar\\nApr\\nMay\\nJun\\nJul\\nAug\"\n",
    "\n",
    "print(\"Here are the days:\", days)\n",
    "print(\"Here are the months: \", months)\n",
    "\n",
    "print(\"\"\"\n",
    "There's something going on here.\n",
    "With the three double-quotes.\n",
    "We'll be able to type as much as we like.\n",
    "Even 4 lines if we want, or 5, or 6.\n",
    "\"\"\")"
   ]
  },
  {
   "cell_type": "markdown",
   "id": "09716617-8f05-417a-8a08-39bfdd0f3ac2",
   "metadata": {
    "id": "xEjtWN_6GXt8"
   },
   "source": [
    "\n",
    "#### Leurs opérateurs \n",
    "- `+` permet de concaténer des chaînes de caractères\n",
    "- `*` permet de répéter des chaînes de caractères\n",
    "\n",
    "#### Les fonctions disponibles\n",
    "- `len()` retourne la longueur d’une chaîne de caractères\n",
    "- `print()` génère une sortie lisible d’une chaîne de caractères\n",
    "- `str()` constructeur, peut également convertir des valeurs en chaîne de caractères\n"
   ]
  },
  {
   "cell_type": "markdown",
   "id": "74a72f88-9b68-4b1c-8c77-0721d15da753",
   "metadata": {
    "id": "UkMAUqyhchw_"
   },
   "source": [
    "#### Les méthodes disponibles\n",
    "\n",
    "| méthode | description |\n",
    "|---|---|\n",
    "| s.lower(), s.upper() | version lowercase ou uppercase de la string|\n",
    "| s.strip() | suppression des espaces de début et de fin |\n",
    "| s.isalpha(), s.isdigit(), s.isspace(),... | teste si les caractères appartiennent à une classe de caractère particulière|\n",
    "| s.startswith('other'), s.endswith('other') | teste si la chaîne de caractères commence ou termine par une chaîne donnée |\n",
    "| s.find('other') | cherche une chaîne de caractères dans une chaîne de caractères\n",
    "|s.replace('old', 'new') |retourne une chaîne de caractère contenant les occurrences remplacées\n",
    "|s.split('delim') |retourne une liste de sous chaînes de caractères, séparées par le délimiteur\n",
    "|s.join(list) |retourne une chaîne de caractères qui join les éléments donnés d’une liste\n",
    "\n"
   ]
  },
  {
   "cell_type": "markdown",
   "id": "b5a69dd4-c85a-4aa8-a26c-859d03e97f8f",
   "metadata": {
    "id": "XFKb3cuMJXfu"
   },
   "source": [
    "#### Les combinaisons des chaînes"
   ]
  },
  {
   "cell_type": "markdown",
   "id": "ac4d5340-613f-4e7b-add1-71bf2b92fcfe",
   "metadata": {
    "id": "yB8SEPhhDanW"
   },
   "source": [
    " Les `f-strings` comment par un `f` avant d'ouvrir les `\"`. Elles permettent de faire de l'interpolation de chaines de caractère."
   ]
  },
  {
   "cell_type": "code",
   "execution_count": 111,
   "id": "ad431640-2a24-4c7a-9c5e-e7f51803eb78",
   "metadata": {
    "colab": {
     "base_uri": "https://localhost:8080/"
    },
    "id": "OKtYCsF9CkPA",
    "outputId": "7e182aaa-f0c4-47b6-b0a3-87b31501b2f5"
   },
   "outputs": [
    {
     "name": "stdout",
     "output_type": "stream",
     "text": [
      "There are 10 types of people.\n",
      "Those who know binary and those who don't.\n",
      "I said: There are 10 types of people.\n",
      "I also said: 'Those who know binary and those who don't.'\n",
      "Isn't that joke so funny?! False\n",
      "This is the left side of...a string with a right side.\n"
     ]
    }
   ],
   "source": [
    "types_of_people = 10\n",
    "x = f\"There are {types_of_people} types of people.\"\n",
    "\n",
    "binary = \"binary\"\n",
    "do_not = \"don't\"\n",
    "y = f\"Those who know {binary} and those who {do_not}.\"\n",
    "\n",
    "print(x)\n",
    "print(y)\n",
    "\n",
    "print(f\"I said: {x}\")\n",
    "print(f\"I also said: '{y}'\")\n",
    "\n",
    "## Deux façons de faire\n",
    "\n",
    "hilarious = False\n",
    "joke_evaluation = \"Isn't that joke so funny?! {}\"\n",
    "\n",
    "print(joke_evaluation.format(hilarious))\n",
    "\n",
    "w = \"This is the left side of...\"\n",
    "e = \"a string with a right side.\"\n",
    "\n",
    "print(w + e)"
   ]
  },
  {
   "cell_type": "markdown",
   "id": "6b86231a-1bcf-47b0-bae0-78af20e38993",
   "metadata": {
    "id": "xCk7fpy2JopT"
   },
   "source": [
    "#### Considération supplémentaires"
   ]
  },
  {
   "cell_type": "markdown",
   "id": "ae0f9077-541e-457a-b9b5-aa96f1199ced",
   "metadata": {
    "id": "YwAfjF-kGNT9"
   },
   "source": [
    "\n",
    "⚠ Les chaînes de caractères sont des séquences immutables de code points Unicode."
   ]
  },
  {
   "cell_type": "code",
   "execution_count": 110,
   "id": "b3af9b85-6615-49fc-afd5-76ad6d7caf3f",
   "metadata": {
    "colab": {
     "base_uri": "https://localhost:8080/",
     "height": 210
    },
    "id": "xTu4Q7McGgXO",
    "outputId": "ab204125-6b5e-470d-da62-465b468df413"
   },
   "outputs": [
    {
     "ename": "TypeError",
     "evalue": "ignored",
     "output_type": "error",
     "traceback": [
      "\u001b[0;31m---------------------------------------------------------------------------\u001b[0m",
      "\u001b[0;31mTypeError\u001b[0m                                 Traceback (most recent call last)",
      "\u001b[0;32m<ipython-input-110-29c7a5bcbff2>\u001b[0m in \u001b[0;36m<module>\u001b[0;34m()\u001b[0m\n\u001b[1;32m      1\u001b[0m \u001b[0mI_cannot_change\u001b[0m \u001b[0;34m=\u001b[0m \u001b[0;34m\"I am whole\"\u001b[0m\u001b[0;34m\u001b[0m\u001b[0;34m\u001b[0m\u001b[0m\n\u001b[1;32m      2\u001b[0m \u001b[0;34m\u001b[0m\u001b[0m\n\u001b[0;32m----> 3\u001b[0;31m \u001b[0mI_cannot_change\u001b[0m\u001b[0;34m[\u001b[0m\u001b[0;36m2\u001b[0m\u001b[0;34m]\u001b[0m \u001b[0;34m=\u001b[0m \u001b[0;34m\"2\"\u001b[0m\u001b[0;34m\u001b[0m\u001b[0;34m\u001b[0m\u001b[0m\n\u001b[0m",
      "\u001b[0;31mTypeError\u001b[0m: 'str' object does not support item assignment"
     ]
    }
   ],
   "source": [
    "I_cannot_change = \"I am whole\"\n",
    "\n",
    "I_cannot_change[2] = \"2\""
   ]
  },
  {
   "cell_type": "markdown",
   "id": "d457954f-b713-42fb-992a-ceba0cddf510",
   "metadata": {
    "id": "G5E9-AH2L_8-"
   },
   "source": [
    "## Les séquences\n",
    "\n",
    "Prenons l'exemple de notre bon vieux système solaire. Voici une liste des planètes ordonnées par rapport au soleil."
   ]
  },
  {
   "cell_type": "code",
   "execution_count": 116,
   "id": "5641c48b-b524-414b-9474-75c7bcb43615",
   "metadata": {
    "id": "q2tiDMZiMJ7i"
   },
   "outputs": [],
   "source": [
    "planets = ['Mercury', 'Venus', 'Earth', 'Mars', 'Jupiter', 'Saturn', 'Uranus', 'Neptune']"
   ]
  },
  {
   "cell_type": "markdown",
   "id": "59da1902-26b8-4bcf-994b-daea7300714c",
   "metadata": {
    "id": "r7V9qpw5S-Vl"
   },
   "source": [
    "### L'indexation d'une séquence (Indexing)\n",
    "\n",
    "\n",
    "Nous pouvons accéder au différnet éléments à l'aide de crochets `[]`"
   ]
  },
  {
   "cell_type": "markdown",
   "id": "0c9f2c83-505a-4e17-b2ff-7bd9fe3eebe6",
   "metadata": {
    "id": "e9RoRnVDSFAg"
   },
   "source": [
    "#### Quelle la planète la plus proche du soleil ?"
   ]
  },
  {
   "cell_type": "code",
   "execution_count": 117,
   "id": "31bf815d-6942-430e-b882-2e6b5a3c3c9f",
   "metadata": {
    "colab": {
     "base_uri": "https://localhost:8080/",
     "height": 36
    },
    "id": "DySgAP_LSGHX",
    "outputId": "9d1205eb-5fa7-43f6-ca45-01b95b2cbe8f"
   },
   "outputs": [
    {
     "data": {
      "application/vnd.google.colaboratory.intrinsic+json": {
       "type": "string"
      },
      "text/plain": [
       "'Mercury'"
      ]
     },
     "execution_count": 117,
     "metadata": {},
     "output_type": "execute_result"
    }
   ],
   "source": [
    "planets[0]"
   ]
  },
  {
   "cell_type": "markdown",
   "id": "e8fed822-22b0-4ca6-8754-c29a74ae93cd",
   "metadata": {
    "id": "-jg0eCiWSUkq"
   },
   "source": [
    "#### La seconde ?"
   ]
  },
  {
   "cell_type": "code",
   "execution_count": 118,
   "id": "3b83106d-36a1-4d6d-8557-43eb45b9589e",
   "metadata": {
    "colab": {
     "base_uri": "https://localhost:8080/",
     "height": 36
    },
    "id": "6XSQcVy4SUks",
    "outputId": "88af99cd-75d8-4d0e-b6ea-61bd07a08074"
   },
   "outputs": [
    {
     "data": {
      "application/vnd.google.colaboratory.intrinsic+json": {
       "type": "string"
      },
      "text/plain": [
       "'Venus'"
      ]
     },
     "execution_count": 118,
     "metadata": {},
     "output_type": "execute_result"
    }
   ],
   "source": [
    "planets[1]"
   ]
  },
  {
   "cell_type": "markdown",
   "id": "8d8d9180-8409-48a0-969a-4e9f3d25b286",
   "metadata": {
    "id": "fieqnbUhSUxB"
   },
   "source": [
    "#### La plus éloignée ?"
   ]
  },
  {
   "cell_type": "code",
   "execution_count": 119,
   "id": "7d0eaff2-54a3-4e99-afa9-a327851a884d",
   "metadata": {
    "colab": {
     "base_uri": "https://localhost:8080/",
     "height": 36
    },
    "id": "4Ms4u-hkSUxB",
    "outputId": "cca82fd3-c44d-4147-842d-04d3cdf90343"
   },
   "outputs": [
    {
     "data": {
      "application/vnd.google.colaboratory.intrinsic+json": {
       "type": "string"
      },
      "text/plain": [
       "'Neptune'"
      ]
     },
     "execution_count": 119,
     "metadata": {},
     "output_type": "execute_result"
    }
   ],
   "source": [
    "planets[-1]"
   ]
  },
  {
   "cell_type": "markdown",
   "id": "5861f144-1edf-473b-ae3c-5badb110aa7a",
   "metadata": {
    "id": "ZY7LBN7bSqWZ"
   },
   "source": [
    "Et oui nous avons là un index inversé !"
   ]
  },
  {
   "cell_type": "markdown",
   "id": "b12344c6-b455-4830-9358-b311407c0e62",
   "metadata": {
    "id": "_XCEajuTT1HD"
   },
   "source": [
    "### Le découpage (Slicing)"
   ]
  },
  {
   "cell_type": "markdown",
   "id": "607c5a3c-5aae-458b-a088-6487271b5876",
   "metadata": {
    "id": "9IZKW8MVUHS9"
   },
   "source": [
    "#### Quelles sont les trois planètes les plus proches du soleil ?"
   ]
  },
  {
   "cell_type": "code",
   "execution_count": 122,
   "id": "083615d3-b1c2-4d8c-9b05-de01fe1f06eb",
   "metadata": {
    "colab": {
     "base_uri": "https://localhost:8080/"
    },
    "id": "Q3LUgs3ET1HL",
    "outputId": "ba380cfe-6fb4-44b1-ba38-b531775a678f"
   },
   "outputs": [
    {
     "data": {
      "text/plain": [
       "['Mercury', 'Venus', 'Earth']"
      ]
     },
     "execution_count": 122,
     "metadata": {},
     "output_type": "execute_result"
    }
   ],
   "source": [
    "planets[0:3]"
   ]
  },
  {
   "cell_type": "markdown",
   "id": "143236c2-add1-4854-aedb-b8bdb018ea91",
   "metadata": {
    "id": "eK1HIvvoURRA"
   },
   "source": [
    "qui équivaut à "
   ]
  },
  {
   "cell_type": "code",
   "execution_count": 121,
   "id": "984c470e-d961-4e4e-a85b-508aa3ac69fa",
   "metadata": {
    "colab": {
     "base_uri": "https://localhost:8080/"
    },
    "id": "joCdFv__Uct2",
    "outputId": "b5dbfada-4a16-4c65-ed37-0436f9bdd9e1"
   },
   "outputs": [
    {
     "data": {
      "text/plain": [
       "['Mercury', 'Venus', 'Earth']"
      ]
     },
     "execution_count": 121,
     "metadata": {},
     "output_type": "execute_result"
    }
   ],
   "source": [
    "planets[:3]"
   ]
  },
  {
   "cell_type": "markdown",
   "id": "1a566d79-e684-4569-a4e2-326f2cd6f122",
   "metadata": {
    "id": "mwFq9Bl3UrX5"
   },
   "source": [
    "Nous pouvons aussi sélectionner toutes les planètes sauf la plus proche et la plus éloignée"
   ]
  },
  {
   "cell_type": "code",
   "execution_count": 124,
   "id": "28bb573a-07b1-4c80-aced-901676de4df7",
   "metadata": {
    "colab": {
     "base_uri": "https://localhost:8080/"
    },
    "id": "GTIP9UxZUx7k",
    "outputId": "ed17fcd7-425d-4b27-ac82-96d56b17e62e"
   },
   "outputs": [
    {
     "data": {
      "text/plain": [
       "['Venus', 'Earth', 'Mars', 'Jupiter', 'Saturn', 'Uranus']"
      ]
     },
     "execution_count": 124,
     "metadata": {},
     "output_type": "execute_result"
    }
   ],
   "source": [
    "planets[1:-1]"
   ]
  },
  {
   "cell_type": "markdown",
   "id": "dd27b5d4-14b8-4be9-a5ed-f8beac0ed5a2",
   "metadata": {
    "id": "ujOZap1GVEWZ"
   },
   "source": [
    "Ou encore uniquement les trois plus éloignées"
   ]
  },
  {
   "cell_type": "code",
   "execution_count": 125,
   "id": "608acb16-7453-4ac2-b3ca-018932e231df",
   "metadata": {
    "colab": {
     "base_uri": "https://localhost:8080/"
    },
    "id": "-Qah3beIVF7G",
    "outputId": "963612ea-9a73-4952-cee5-39a23358a682"
   },
   "outputs": [
    {
     "data": {
      "text/plain": [
       "['Saturn', 'Uranus', 'Neptune']"
      ]
     },
     "execution_count": 125,
     "metadata": {},
     "output_type": "execute_result"
    }
   ],
   "source": [
    "planets[-3:]"
   ]
  },
  {
   "cell_type": "markdown",
   "id": "fc29b065-4cbe-47a0-8ff6-325505d2486d",
   "metadata": {
    "id": "Q9boNMVYVbX_"
   },
   "source": [
    "### Changer des valeurs\n",
    "Nous pouvons aussi réattribuer des valeurs au sein de la liste"
   ]
  },
  {
   "cell_type": "code",
   "execution_count": 127,
   "id": "868c3001-3301-4159-9250-d4c7835aa0a8",
   "metadata": {
    "colab": {
     "base_uri": "https://localhost:8080/"
    },
    "id": "9FUuX0czV8Xg",
    "outputId": "dbc46a26-4d65-4b6c-8862-1cd9adca5feb"
   },
   "outputs": [
    {
     "data": {
      "text/plain": [
       "['Mercury',\n",
       " 'Venus',\n",
       " 'Earth',\n",
       " 'Malacandra',\n",
       " 'Jupiter',\n",
       " 'Saturn',\n",
       " 'Uranus',\n",
       " 'Neptune']"
      ]
     },
     "execution_count": 127,
     "metadata": {},
     "output_type": "execute_result"
    }
   ],
   "source": [
    "planets[3] = 'Malacandra'\n",
    "planets"
   ]
  },
  {
   "cell_type": "code",
   "execution_count": 129,
   "id": "16d18546-9d33-4d8b-9637-a7798d39797e",
   "metadata": {
    "colab": {
     "base_uri": "https://localhost:8080/"
    },
    "id": "J3wEq0XAV4LA",
    "outputId": "40aa6d7e-3d0a-4423-a6db-b80ac50d858b"
   },
   "outputs": [
    {
     "data": {
      "text/plain": [
       "['Mur', 'Vee', 'Ur', 'Mars', 'Jupiter', 'Saturn', 'Uranus', 'Neptune']"
      ]
     },
     "execution_count": 129,
     "metadata": {},
     "output_type": "execute_result"
    }
   ],
   "source": [
    "planets[:3] = ['Mur', 'Vee', 'Ur']\n",
    "planets"
   ]
  },
  {
   "cell_type": "code",
   "execution_count": 130,
   "id": "dcaff98f-2b20-4ecf-8951-06a18ff43a4e",
   "metadata": {
    "colab": {
     "base_uri": "https://localhost:8080/"
    },
    "id": "FWdjRtKeWaOQ",
    "outputId": "d0ae02e7-87da-4b68-f23c-e04fcd446c81"
   },
   "outputs": [
    {
     "data": {
      "text/plain": [
       "['Mercury', 'Venus', 'Earth', 'Mars', 'Jupiter', 'Saturn', 'Uranus', 'Neptune']"
      ]
     },
     "execution_count": 130,
     "metadata": {},
     "output_type": "execute_result"
    }
   ],
   "source": [
    "# That was silly. Let's give them back their old names\n",
    "planets[:4] = ['Mercury', 'Venus', 'Earth', 'Mars',]\n",
    "planets"
   ]
  },
  {
   "cell_type": "markdown",
   "id": "c99d63ce-7eae-4ea0-ba9d-d29e6eced16a",
   "metadata": {
    "id": "vzDA23dplBBj"
   },
   "source": [
    "### Itérer sur des séquences avec des boucles\n"
   ]
  },
  {
   "cell_type": "markdown",
   "id": "b2cb33e8-adfe-4c58-b40c-935b05d5a377",
   "metadata": {
    "id": "NXe-vuU8lJhQ"
   },
   "source": [
    "#### for"
   ]
  },
  {
   "cell_type": "code",
   "execution_count": 172,
   "id": "35e704a0-f80a-4195-9c2f-116bd6a2bf9b",
   "metadata": {
    "colab": {
     "base_uri": "https://localhost:8080/"
    },
    "id": "lxqt8mMRlIy3",
    "outputId": "8febae05-b56d-46f3-9e6b-f41ec2295bca"
   },
   "outputs": [
    {
     "name": "stdout",
     "output_type": "stream",
     "text": [
      "Mercury Venus Earth Mars Jupiter Saturn Uranus Neptune "
     ]
    }
   ],
   "source": [
    "planets = ['Mercury', 'Venus', 'Earth', 'Mars', 'Jupiter', 'Saturn', 'Uranus', 'Neptune']\n",
    "for planet in planets:\n",
    "    print(planet, end=' ') # print all on same line"
   ]
  },
  {
   "cell_type": "markdown",
   "id": "4bb419b3-a286-4e7f-b1cb-f082d1a5f536",
   "metadata": {
    "id": "INBcSwh_lUd8"
   },
   "source": [
    "#### range()"
   ]
  },
  {
   "cell_type": "code",
   "execution_count": null,
   "id": "9a49af83-d770-4f40-a401-646eece448a7",
   "metadata": {
    "id": "rYYqlAeelg89"
   },
   "outputs": [],
   "source": [
    "for i in range(5):\n",
    "    print(\"Doing important work. i =\", i)"
   ]
  },
  {
   "cell_type": "markdown",
   "id": "6c57756c-1965-4223-9eae-939f828b35d1",
   "metadata": {
    "id": "HkP7778Nlh3n"
   },
   "source": [
    "#### while"
   ]
  },
  {
   "cell_type": "code",
   "execution_count": 188,
   "id": "d51e5352-4f91-4f50-97b4-367c3927ee7b",
   "metadata": {
    "colab": {
     "base_uri": "https://localhost:8080/"
    },
    "id": "HXmSoRlLlnLV",
    "outputId": "9a3eb5cd-8822-44e1-fa5e-cbc6d58f16e2"
   },
   "outputs": [
    {
     "name": "stdout",
     "output_type": "stream",
     "text": [
      "['Mercury', 'Venus', 'Earth', 'Mars', 'Jupiter', 'Saturn', 'Uranus', 'Neptune']\n",
      "['Mercury', 'Venus', 'Earth', 'Mars', 'Jupiter', 'Saturn', 'Uranus']\n",
      "['Mercury', 'Venus', 'Earth', 'Mars', 'Jupiter', 'Saturn']\n",
      "['Mercury', 'Venus', 'Earth', 'Mars', 'Jupiter']\n",
      "['Mercury', 'Venus', 'Earth', 'Mars']\n",
      "['Mercury', 'Venus', 'Earth']\n",
      "['Mercury', 'Venus']\n",
      "['Mercury']\n"
     ]
    }
   ],
   "source": [
    "i = 0\n",
    "while i < len(planets):\n",
    "  print(planets[:len(planets)-i:1])\n",
    "  i += 1"
   ]
  },
  {
   "cell_type": "code",
   "execution_count": null,
   "id": "c3a97994-3db0-4ac2-86b8-81ef94211c27",
   "metadata": {
    "id": "x3p3qzpZn3fJ"
   },
   "outputs": [],
   "source": [
    "x = 256\n",
    "total = 0\n",
    "while x > 0:\n",
    "  if total > 500:\n",
    "    break\n",
    "  total += x\n",
    "  x = x // 2\n",
    "  print(x)"
   ]
  },
  {
   "cell_type": "markdown",
   "id": "08fae88f-ec63-45e7-afaf-7f40bb5c5e56",
   "metadata": {
    "id": "KY96VsXEpONx"
   },
   "source": [
    "#### Gare à la boucle infini"
   ]
  },
  {
   "cell_type": "code",
   "execution_count": null,
   "id": "148c8a59-5652-4d69-87f3-ff3ff5de828d",
   "metadata": {
    "id": "_3rU1CbYooyw"
   },
   "outputs": [],
   "source": [
    "x = 256\n",
    "while x >= 0:\n",
    "  x = x // 2\n",
    "  print(x)"
   ]
  },
  {
   "cell_type": "markdown",
   "id": "77264e6b-2c5b-44e1-8c51-b42512bcfe38",
   "metadata": {
    "id": "BQwg6JjBWrkE"
   },
   "source": [
    "### Quelques fonctions natives"
   ]
  },
  {
   "cell_type": "code",
   "execution_count": null,
   "id": "dc3f73c7-6597-4568-954f-bf7315cda416",
   "metadata": {
    "id": "Ma3bQZIfWwaF"
   },
   "outputs": [],
   "source": [
    "# How many planets are there?\n",
    "len(planets)"
   ]
  },
  {
   "cell_type": "code",
   "execution_count": null,
   "id": "92e30f9e-0035-42eb-8748-6f5a0b88801c",
   "metadata": {
    "id": "ADMG81l7WxwC"
   },
   "outputs": [],
   "source": [
    "# The planets sorted in alphabetical order\n",
    "sorted(planets)"
   ]
  },
  {
   "cell_type": "code",
   "execution_count": null,
   "id": "a4cc16d9-f8bf-47eb-ae64-449b80362278",
   "metadata": {
    "id": "CsfQWXk4W1c6"
   },
   "outputs": [],
   "source": [
    "primes = [2, 3, 5, 7]\n",
    "sum(primes)"
   ]
  },
  {
   "cell_type": "code",
   "execution_count": null,
   "id": "e8254415-3c31-42f9-8087-811210fc10ec",
   "metadata": {
    "id": "QZp2SAgeW6hO"
   },
   "outputs": [],
   "source": [
    "max(primes)"
   ]
  },
  {
   "cell_type": "markdown",
   "id": "aaf3f38f-8b7b-4dfc-93cc-bce6f15515aa",
   "metadata": {
    "id": "9qE-Qg_xbrvL"
   },
   "source": [
    "![Screenshot 2022-01-05 at 23.50.17.png](data:image/png;base64,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)"
   ]
  },
  {
   "cell_type": "markdown",
   "id": "80fe6766-717f-4868-b82b-245a3f784618",
   "metadata": {
    "id": "JTLR_C2UX0Ns"
   },
   "source": [
    "### Interlude: Everything is an object\n",
    "\n",
    "En Python tout est objet. Qu'est§ce que cela veut dire que tout ce que vous manipuler trimbale avec lui plein de chose.\n",
    "\n",
    "Des attributs comme par exemple son type, sa valeur, etc. Des fonctions qui lui sont applicables qu'on appelle méthodes.\n",
    "\n",
    "Prenons l'exemple de nos planètes."
   ]
  },
  {
   "cell_type": "code",
   "execution_count": 139,
   "id": "3ca8539f-73b5-49df-9051-21dfefb3e89f",
   "metadata": {
    "id": "jCBDZOgeX0sy"
   },
   "outputs": [],
   "source": [
    "planets = ['Mercury', 'Venus', 'Earth', 'Mars', 'Jupiter', 'Saturn', 'Uranus', 'Neptune']"
   ]
  },
  {
   "cell_type": "code",
   "execution_count": 137,
   "id": "1ed242bb-7d0a-4877-b7c6-3db2028776e9",
   "metadata": {
    "colab": {
     "base_uri": "https://localhost:8080/"
    },
    "id": "tbEfoGBNYhyc",
    "outputId": "54f46a22-b478-4544-9b62-724755fc7aa2"
   },
   "outputs": [
    {
     "data": {
      "text/plain": [
       "['Earth', 'Jupiter', 'Mars', 'Mercury', 'Neptune', 'Saturn', 'Uranus', 'Venus']"
      ]
     },
     "execution_count": 137,
     "metadata": {},
     "output_type": "execute_result"
    }
   ],
   "source": [
    "sorted(planets) # sorted qui est une fonction built-in nous fournissait \n",
    "                # une copie triée par ordre alphabétique de la liste de nos planètes"
   ]
  },
  {
   "cell_type": "code",
   "execution_count": 138,
   "id": "ba3efd66-695e-4dc2-90e5-45c81554c8c2",
   "metadata": {
    "colab": {
     "base_uri": "https://localhost:8080/"
    },
    "id": "RFON9gM5ZYH8",
    "outputId": "73d3c3de-c16a-4136-cb4f-4070bdf35e31"
   },
   "outputs": [
    {
     "data": {
      "text/plain": [
       "['Mercury', 'Venus', 'Earth', 'Mars', 'Jupiter', 'Saturn', 'Uranus', 'Neptune']"
      ]
     },
     "execution_count": 138,
     "metadata": {},
     "output_type": "execute_result"
    }
   ],
   "source": [
    "planets"
   ]
  },
  {
   "cell_type": "markdown",
   "id": "ff3184fc-db7e-4827-bcc9-41f560e2182d",
   "metadata": {
    "id": "Iozlx4EHZZkA"
   },
   "source": [
    "`planets` pourtant n'a pas changé"
   ]
  },
  {
   "cell_type": "code",
   "execution_count": 135,
   "id": "f7616716-1f62-47ed-9e4f-225157fb2446",
   "metadata": {
    "colab": {
     "base_uri": "https://localhost:8080/"
    },
    "id": "y9YbYWbqY46J",
    "outputId": "678b6bf1-c256-4891-c473-7db343742cba"
   },
   "outputs": [
    {
     "name": "stdout",
     "output_type": "stream",
     "text": [
      "['Earth', 'Jupiter', 'Mars', 'Mercury', 'Neptune', 'Saturn', 'Uranus', 'Venus']\n",
      "['Earth', 'Jupiter', 'Mars', 'Mercury', 'Neptune', 'Saturn', 'Uranus', 'Venus']\n"
     ]
    }
   ],
   "source": [
    "sorted_planets = planets\n",
    "sorted_planets.sort()\n",
    "print(sorted_planets)\n",
    "print(planets)"
   ]
  },
  {
   "cell_type": "markdown",
   "id": "30179b2a-143c-42ce-9abc-df4e93487c9b",
   "metadata": {
    "id": "DDrBFuo6ZkU0"
   },
   "source": [
    "Et là c'est le drame. En python les objets sont passé par référence, c'est ta dire que l'on pointe vers le même objet. Ce n'est donc pas une copie mais le même objet que nous altérons. \n",
    "\n",
    "#### Que faire alors? Crée une copie !"
   ]
  },
  {
   "cell_type": "code",
   "execution_count": 140,
   "id": "6aef5736-94d1-454a-9720-905aaed141ec",
   "metadata": {
    "colab": {
     "base_uri": "https://localhost:8080/"
    },
    "id": "G5UKnXyBZmRM",
    "outputId": "603fc820-55d1-4d45-d970-27c67b16f5ba"
   },
   "outputs": [
    {
     "name": "stdout",
     "output_type": "stream",
     "text": [
      "['Earth', 'Jupiter', 'Mars', 'Mercury', 'Neptune', 'Saturn', 'Uranus', 'Venus']\n",
      "['Mercury', 'Venus', 'Earth', 'Mars', 'Jupiter', 'Saturn', 'Uranus', 'Neptune']\n"
     ]
    }
   ],
   "source": [
    "planets = ['Mercury', 'Venus', 'Earth', 'Mars', 'Jupiter', 'Saturn', 'Uranus', 'Neptune']\n",
    "sorted_planets = planets.copy() # ma copie\n",
    "sorted_planets.sort()\n",
    "print(sorted_planets)\n",
    "print(planets)"
   ]
  },
  {
   "cell_type": "markdown",
   "id": "d1a25a8d-b88d-49ec-9f80-66a48e8b0c6a",
   "metadata": {
    "id": "D9EtfrcZao2t"
   },
   "source": [
    "### Méthodes des listes"
   ]
  },
  {
   "cell_type": "code",
   "execution_count": 142,
   "id": "616f830b-440d-4d30-a2be-6ed136d68051",
   "metadata": {
    "colab": {
     "base_uri": "https://localhost:8080/"
    },
    "id": "zp-lvjqDa4Ob",
    "outputId": "4d1d0b1f-a6cd-4bb1-cd8a-e88274f21d0a"
   },
   "outputs": [
    {
     "data": {
      "text/plain": [
       "['Mercury',\n",
       " 'Venus',\n",
       " 'Earth',\n",
       " 'Mars',\n",
       " 'Jupiter',\n",
       " 'Saturn',\n",
       " 'Uranus',\n",
       " 'Neptune',\n",
       " 'Pluto']"
      ]
     },
     "execution_count": 142,
     "metadata": {},
     "output_type": "execute_result"
    }
   ],
   "source": [
    "# Pluto is a planet darn it!\n",
    "planets.append('Pluto')\n",
    "planets"
   ]
  },
  {
   "cell_type": "code",
   "execution_count": 145,
   "id": "f80a6579-72ad-438d-a92d-06bd0624c8e6",
   "metadata": {
    "colab": {
     "base_uri": "https://localhost:8080/"
    },
    "id": "sgB-afcka7ds",
    "outputId": "4f83c54b-098e-4a1a-bf7b-935910006748"
   },
   "outputs": [
    {
     "data": {
      "text/plain": [
       "0"
      ]
     },
     "execution_count": 145,
     "metadata": {},
     "output_type": "execute_result"
    }
   ],
   "source": [
    "planets.count('Tatooine') "
   ]
  },
  {
   "cell_type": "markdown",
   "id": "5c324569-411a-4d63-afd0-8ceddafead87",
   "metadata": {
    "id": "_9k9fCDNdvue"
   },
   "source": [
    "Vraiment ? 😱"
   ]
  },
  {
   "cell_type": "code",
   "execution_count": 147,
   "id": "e469a876-e747-4530-9cb2-e33234c3ea3d",
   "metadata": {
    "colab": {
     "base_uri": "https://localhost:8080/"
    },
    "id": "0HZJmpxPdrJH",
    "outputId": "9993d47b-3d16-48c7-d40a-9a813defa52e"
   },
   "outputs": [
    {
     "data": {
      "text/plain": [
       "False"
      ]
     },
     "execution_count": 147,
     "metadata": {},
     "output_type": "execute_result"
    }
   ],
   "source": [
    "'Tatooine' in planets"
   ]
  },
  {
   "cell_type": "code",
   "execution_count": 146,
   "id": "8629e18b-8461-45c6-9390-49adea5df7c3",
   "metadata": {
    "colab": {
     "base_uri": "https://localhost:8080/"
    },
    "id": "n3_uty8WbGO4",
    "outputId": "2f2f7d61-c16f-41a9-8b80-5598e66f7fb4"
   },
   "outputs": [
    {
     "data": {
      "text/plain": [
       "5"
      ]
     },
     "execution_count": 146,
     "metadata": {},
     "output_type": "execute_result"
    }
   ],
   "source": [
    "planets.index('Saturn')"
   ]
  },
  {
   "cell_type": "markdown",
   "id": "f8e2ffd1-f5d5-47f7-825b-4ee0df7517e5",
   "metadata": {
    "id": "KpiWLCr1ecc3"
   },
   "source": [
    "Attendez! Les tuple sont aussi des séquences!"
   ]
  },
  {
   "cell_type": "code",
   "execution_count": 149,
   "id": "2576751f-886c-4a7a-a150-bc3759d941d5",
   "metadata": {
    "colab": {
     "base_uri": "https://localhost:8080/"
    },
    "id": "9RB1gdPFejmn",
    "outputId": "0d1a918d-607b-4bc9-f407-095b6add788b"
   },
   "outputs": [
    {
     "data": {
      "text/plain": [
       "(1, 2, 3)"
      ]
     },
     "execution_count": 149,
     "metadata": {},
     "output_type": "execute_result"
    }
   ],
   "source": [
    "x = 1,2,3\n",
    "x"
   ]
  },
  {
   "cell_type": "markdown",
   "id": "e316dc63-3463-42c9-a4db-6cda40dcf14a",
   "metadata": {
    "id": "siZUSJIufAC-"
   },
   "source": [
    "On peut réaliser les mêmes opérations que sur n'importe quelle autre séquence"
   ]
  },
  {
   "cell_type": "code",
   "execution_count": 150,
   "id": "c83c8611-ec15-47b0-aeee-638c16114310",
   "metadata": {
    "colab": {
     "base_uri": "https://localhost:8080/"
    },
    "id": "QPo6c7uverx7",
    "outputId": "71207a4f-6fae-448e-e90b-c129b5b28458"
   },
   "outputs": [
    {
     "data": {
      "text/plain": [
       "3"
      ]
     },
     "execution_count": 150,
     "metadata": {},
     "output_type": "execute_result"
    }
   ],
   "source": [
    "x[2]"
   ]
  },
  {
   "cell_type": "markdown",
   "id": "291a0018-f4a7-4fa2-b158-1e296b77c46d",
   "metadata": {
    "id": "mBnCeuBdfHUx"
   },
   "source": [
    "### Nouvel outil qu'on introduit sur les séquences: L'unpacking\n",
    "\n",
    "Il permet d'assigner plusieurs variables à la fois en rédcupéré des éléments d'une séquence"
   ]
  },
  {
   "cell_type": "code",
   "execution_count": 153,
   "id": "4b112119-df26-4170-bc1a-39f094e2cded",
   "metadata": {
    "colab": {
     "base_uri": "https://localhost:8080/"
    },
    "id": "U4VwNLOeeyhQ",
    "outputId": "5b89cf18-e861-46aa-ba35-6e264db91693"
   },
   "outputs": [
    {
     "name": "stdout",
     "output_type": "stream",
     "text": [
      "3 2 1\n"
     ]
    }
   ],
   "source": [
    "a, b, c = x\n",
    "print(c,b,a)"
   ]
  },
  {
   "cell_type": "code",
   "execution_count": 156,
   "id": "5fd380c7-7152-49cd-b518-6726e950af4e",
   "metadata": {
    "colab": {
     "base_uri": "https://localhost:8080/"
    },
    "id": "WoX_giyOfUze",
    "outputId": "c35228e8-ca5a-4312-a83e-cedeb51b9466"
   },
   "outputs": [
    {
     "name": "stdout",
     "output_type": "stream",
     "text": [
      "Mercury Venus Earth\n"
     ]
    }
   ],
   "source": [
    "first, second, third = planets[:3]\n",
    "print(first,second,third)"
   ]
  },
  {
   "cell_type": "markdown",
   "id": "57b231ce-c512-4dca-9ca5-fd953dd58677",
   "metadata": {
    "id": "RHMqY8Wcf-OW"
   },
   "source": [
    "### Générer des listes est parfois long à écrire. Aussi avons nous inventer la list compréhension\n",
    "\n",
    "```python\n",
    "[expr for val in collection if condition]\n",
    "```\n",
    "\n",
    "equivalent à \n",
    "\n",
    "```python\n",
    "result = []\n",
    "for val in collection:\n",
    " if condition:\n",
    " result.append(expr)\n",
    "\n",
    "```\n"
   ]
  },
  {
   "cell_type": "code",
   "execution_count": 158,
   "id": "3b671de2-292c-4137-8ab6-341cb0aafccb",
   "metadata": {
    "colab": {
     "base_uri": "https://localhost:8080/"
    },
    "id": "KUwX_lg4gRzC",
    "outputId": "7889ae3d-bcbd-4d9e-dbb5-03c07c1e09bc"
   },
   "outputs": [
    {
     "data": {
      "text/plain": [
       "['Mer', 'Ven', 'Ear', 'Mar', 'Jup', 'Sat', 'Ura', 'Nep', 'Plu']"
      ]
     },
     "execution_count": 158,
     "metadata": {},
     "output_type": "execute_result"
    }
   ],
   "source": [
    "short_names_of_planets = [p[:3] for p in planets]\n",
    "short_names_of_planets "
   ]
  },
  {
   "cell_type": "markdown",
   "id": "5425b3c5-0944-47df-b252-066d97b87c6f",
   "metadata": {
    "id": "bGyzvCA_hHRg"
   },
   "source": [
    "### Les dictionnaires ou dict\n",
    "\n",
    "La structure de donée la plus importante en python.\n",
    "\n",
    "- Ensemble fini d’objets qui sont indexés par des clés immutables (string, int, …)\n",
    "\n",
    "- Créés via des key:values entre accolades { key:value } et séparés par des virgules, ou le constructeur dict"
   ]
  },
  {
   "cell_type": "code",
   "execution_count": 160,
   "id": "25f364c2-f31c-424f-b063-ecfa4d84b4d3",
   "metadata": {
    "id": "tiNs8EuRhSQo"
   },
   "outputs": [],
   "source": [
    "d1 = {'a' : 'some value', 'b' : [1, 2, 3, 4]}"
   ]
  },
  {
   "cell_type": "code",
   "execution_count": 161,
   "id": "c455f03b-69af-4311-b124-98b7920c4c77",
   "metadata": {
    "colab": {
     "base_uri": "https://localhost:8080/"
    },
    "id": "J8lkDlTmiVA7",
    "outputId": "1484f82e-6d54-4a04-ee3c-d94ee5fe5885"
   },
   "outputs": [
    {
     "data": {
      "text/plain": [
       "{7: 'an integer', 'a': 'some value', 'b': [1, 2, 3, 4]}"
      ]
     },
     "execution_count": 161,
     "metadata": {},
     "output_type": "execute_result"
    }
   ],
   "source": [
    "d1[7] = 'an integer'\n",
    "d1"
   ]
  },
  {
   "cell_type": "code",
   "execution_count": 162,
   "id": "fa69c4da-0075-4a88-a09d-7b39fa2665a7",
   "metadata": {
    "colab": {
     "base_uri": "https://localhost:8080/"
    },
    "id": "vMM_kSzxigmH",
    "outputId": "66fc2301-14e2-4039-dd2e-477669e46ed7"
   },
   "outputs": [
    {
     "data": {
      "text/plain": [
       "[1, 2, 3, 4]"
      ]
     },
     "execution_count": 162,
     "metadata": {},
     "output_type": "execute_result"
    }
   ],
   "source": [
    "d1['b']"
   ]
  },
  {
   "cell_type": "code",
   "execution_count": 163,
   "id": "ce4b4a56-d314-4938-8efd-6fb41bd4c674",
   "metadata": {
    "colab": {
     "base_uri": "https://localhost:8080/"
    },
    "id": "7w5Z3ecfi1il",
    "outputId": "0818745f-271d-4661-bfd5-cd031eecba33"
   },
   "outputs": [
    {
     "data": {
      "text/plain": [
       "['a', 'b', 7]"
      ]
     },
     "execution_count": 163,
     "metadata": {},
     "output_type": "execute_result"
    }
   ],
   "source": [
    "list(d1.keys())"
   ]
  },
  {
   "cell_type": "code",
   "execution_count": 164,
   "id": "e06bfa29-f6af-438c-a470-95bbcf51c132",
   "metadata": {
    "colab": {
     "base_uri": "https://localhost:8080/"
    },
    "id": "alzcqqxFi2Cy",
    "outputId": "b1a92efc-f999-4a8f-a699-906df2908404"
   },
   "outputs": [
    {
     "data": {
      "text/plain": [
       "['some value', [1, 2, 3, 4], 'an integer']"
      ]
     },
     "execution_count": 164,
     "metadata": {},
     "output_type": "execute_result"
    }
   ],
   "source": [
    "list(d1.values())"
   ]
  },
  {
   "cell_type": "code",
   "execution_count": 165,
   "id": "2a202371-948d-49e5-adf6-e506df861184",
   "metadata": {
    "colab": {
     "base_uri": "https://localhost:8080/",
     "height": 173
    },
    "id": "UR1uz7XWi7J-",
    "outputId": "6ba61775-9fba-40ff-db6f-6986e91703f8"
   },
   "outputs": [
    {
     "ename": "KeyError",
     "evalue": "ignored",
     "output_type": "error",
     "traceback": [
      "\u001b[0;31m---------------------------------------------------------------------------\u001b[0m",
      "\u001b[0;31mKeyError\u001b[0m                                  Traceback (most recent call last)",
      "\u001b[0;32m<ipython-input-165-5633474fb8da>\u001b[0m in \u001b[0;36m<module>\u001b[0;34m()\u001b[0m\n\u001b[0;32m----> 1\u001b[0;31m \u001b[0;32mdel\u001b[0m \u001b[0md1\u001b[0m\u001b[0;34m[\u001b[0m\u001b[0;34m'7'\u001b[0m\u001b[0;34m]\u001b[0m\u001b[0;34m\u001b[0m\u001b[0;34m\u001b[0m\u001b[0m\n\u001b[0m",
      "\u001b[0;31mKeyError\u001b[0m: '7'"
     ]
    }
   ],
   "source": [
    "del d1['7']"
   ]
  },
  {
   "cell_type": "code",
   "execution_count": 167,
   "id": "b7a367ab-46b8-4471-a4b7-8fa452b5dc57",
   "metadata": {
    "colab": {
     "base_uri": "https://localhost:8080/",
     "height": 36
    },
    "id": "9QcrNeIvjC-u",
    "outputId": "31d02c82-73d9-43ed-9f64-4356d75380b3"
   },
   "outputs": [
    {
     "data": {
      "application/vnd.google.colaboratory.intrinsic+json": {
       "type": "string"
      },
      "text/plain": [
       "'an integer'"
      ]
     },
     "execution_count": 167,
     "metadata": {},
     "output_type": "execute_result"
    }
   ],
   "source": [
    "d1.pop(7)"
   ]
  },
  {
   "cell_type": "code",
   "execution_count": 171,
   "id": "100f6e16-288a-49eb-9f05-075f01121a17",
   "metadata": {
    "colab": {
     "base_uri": "https://localhost:8080/",
     "height": 36
    },
    "id": "hJ7-nbohjWlA",
    "outputId": "0445e5ef-b3a7-4029-a1a1-9aa48b186b62"
   },
   "outputs": [
    {
     "data": {
      "application/vnd.google.colaboratory.intrinsic+json": {
       "type": "string"
      },
      "text/plain": [
       "'None'"
      ]
     },
     "execution_count": 171,
     "metadata": {},
     "output_type": "execute_result"
    }
   ],
   "source": [
    "#d1[7]\n",
    "d1.get(7, 'None')è"
   ]
  },
  {
   "cell_type": "markdown",
   "id": "1802ed04-c771-45be-8259-3e01b9b52f54",
   "metadata": {
    "id": "9vYbhmLhkBj4"
   },
   "source": [
    "### Générer des dict est parfois long à écrire. Aussi avons nous inventer la dict compréhension\n",
    "\n",
    "```python\n",
    "{key-expr : value-expr for value in collection if condition}\n",
    " ```"
   ]
  },
  {
   "cell_type": "markdown",
   "id": "2f4922f6-e872-4d18-aa33-69b9e7172be1",
   "metadata": {
    "id": "vaQaj5fdMOJp",
    "jp-MarkdownHeadingCollapsed": true,
    "tags": []
   },
   "source": [
    "# Foire aux questions\n"
   ]
  },
  {
   "cell_type": "markdown",
   "id": "e06cb8c7-0be6-42db-a242-b32a266b8396",
   "metadata": {
    "id": "3k_bZSHXXpLl"
   },
   "source": [
    "\n",
    "#### Est-ce que nous ne pourrions pas faire des listes de listes ? 🤔\n",
    "...\n",
    "#### Si ! 😱"
   ]
  },
  {
   "cell_type": "code",
   "execution_count": null,
   "id": "70cbfe48-70e8-4058-a2eb-2649621f595a",
   "metadata": {
    "id": "87iqfrijNDBL"
   },
   "outputs": [],
   "source": [
    "hands = [\n",
    "    ['J', 'Q', 'K'],\n",
    "    ['2', '2', '2'],\n",
    "    ['6', 'A', 'K'], # (Comma after the last element is optional)\n",
    "]\n",
    "# (I could also have written this on one line, but it can get hard to read)\n",
    "hands = [['J', 'Q', 'K'], ['2', '2', '2'], ['6', 'A', 'K']]"
   ]
  },
  {
   "cell_type": "markdown",
   "id": "37d50a09-3c0e-4445-bac1-295545e356a6",
   "metadata": {
    "id": "UvLqXf1PRN_L"
   },
   "source": [
    "#### On peut même combiner différents types au sein d'une liste"
   ]
  },
  {
   "cell_type": "code",
   "execution_count": null,
   "id": "b83e15f0-4aa5-4f93-96bf-02027d6e7405",
   "metadata": {
    "id": "Ikqf7lwNNJs7"
   },
   "outputs": [],
   "source": [
    "my_favourite_things = [88, 'surf', 'climbing', help]\n",
    "# (Yes, Python's help function is *definitely* one of my favourite things)"
   ]
  },
  {
   "cell_type": "markdown",
   "id": "f7db0ca8-692d-431f-9a94-16cd56c6d2d5",
   "metadata": {
    "id": "mSmeJ08Gr1qU"
   },
   "source": [
    "## Les fonctions"
   ]
  },
  {
   "cell_type": "markdown",
   "id": "fdc92998-54e6-4bd5-94d2-263fd3843785",
   "metadata": {
    "id": "Z87Awuhbr-av"
   },
   "source": [
    "### Comment retourner plusieurs valeurs ?"
   ]
  },
  {
   "cell_type": "code",
   "execution_count": null,
   "id": "2a70309e-9a5c-44a5-8c58-f961b71abbdd",
   "metadata": {
    "id": "qszkqQMvr3J6"
   },
   "outputs": [],
   "source": [
    "def f():\n",
    " a = 5\n",
    " b = 6\n",
    " c = 7\n",
    " return a, b, c\n",
    "a, b, c = f()"
   ]
  },
  {
   "cell_type": "code",
   "execution_count": null,
   "id": "e39abb62-8c3e-42a0-b49b-3d1aa670aee1",
   "metadata": {
    "id": "p-xTvJv0r9pN"
   },
   "outputs": [],
   "source": [
    "def f():\n",
    " a = 5\n",
    " b = 6\n",
    " c = 7\n",
    " return {'a' : a, 'b' : b, 'c' : c}"
   ]
  },
  {
   "cell_type": "markdown",
   "id": "1525615d-e2f2-431c-8865-03b34127579c",
   "metadata": {
    "id": "6VZRKMhZsCJ0"
   },
   "source": [
    "### Souvent, il y a plusieurs façons d'écrire la même chose à l'aide des fonctions"
   ]
  },
  {
   "cell_type": "code",
   "execution_count": 206,
   "id": "02d630ae-6fe7-47bb-a9af-b5fbf4e026f5",
   "metadata": {
    "colab": {
     "base_uri": "https://localhost:8080/"
    },
    "id": "1R1CiPj-sOxB",
    "outputId": "d2229256-7ce2-4937-f8ca-86ca61e752ed"
   },
   "outputs": [
    {
     "data": {
      "text/plain": [
       "[' Alabama ',\n",
       " 'Georgia!',\n",
       " 'Georgia',\n",
       " 'georgia',\n",
       " 'FlOrIda',\n",
       " 'south carolina##',\n",
       " 'West virginia?']"
      ]
     },
     "execution_count": 206,
     "metadata": {},
     "output_type": "execute_result"
    }
   ],
   "source": [
    "states = [' Alabama ', 'Georgia!', 'Georgia', 'georgia', 'FlOrIda', 'south carolina##', 'West virginia?']\n",
    "states"
   ]
  },
  {
   "cell_type": "code",
   "execution_count": 205,
   "id": "0bbda828-0239-4f7a-9701-16d93366c02d",
   "metadata": {
    "colab": {
     "base_uri": "https://localhost:8080/"
    },
    "id": "msI0NQKusQGJ",
    "outputId": "03394e03-dc64-4f3e-bdf3-eea6695dd1c0"
   },
   "outputs": [
    {
     "data": {
      "text/plain": [
       "['Alabama',\n",
       " 'Georgia',\n",
       " 'Georgia',\n",
       " 'Georgia',\n",
       " 'Florida',\n",
       " 'South Carolina',\n",
       " 'West Virginia']"
      ]
     },
     "execution_count": 205,
     "metadata": {},
     "output_type": "execute_result"
    }
   ],
   "source": [
    "import re\n",
    "def clean_strings(strings):\n",
    " result = []\n",
    " for value in strings:\n",
    "   value = value.strip()\n",
    "   value = re.sub('[!#?]', '', value)\n",
    "   value = value.title()\n",
    "   result.append(value)\n",
    " return result\n",
    "\n",
    "clean_strings(states)"
   ]
  },
  {
   "cell_type": "code",
   "execution_count": 209,
   "id": "a2276eae-2d6c-4260-9725-a18e0b26d172",
   "metadata": {
    "colab": {
     "base_uri": "https://localhost:8080/"
    },
    "id": "Bu5BAEP2sl6u",
    "outputId": "acc01d40-0bd9-4ea1-8ac2-7adea8c30de1"
   },
   "outputs": [
    {
     "data": {
      "text/plain": [
       "['Alabama',\n",
       " 'Georgia',\n",
       " 'Georgia',\n",
       " 'Georgia',\n",
       " 'Florida',\n",
       " 'South Carolina',\n",
       " 'West Virginia']"
      ]
     },
     "execution_count": 209,
     "metadata": {},
     "output_type": "execute_result"
    }
   ],
   "source": [
    "def remove_punctuation(value):\n",
    "  return re.sub('[!#?]', '', value)\n",
    "\n",
    "clean_ops = [str.strip, remove_punctuation, str.title]\n",
    "\n",
    "def clean_strings(strings, ops):\n",
    " result = []\n",
    " for value in strings:\n",
    "   for function in ops:\n",
    "     value = function(value)\n",
    "   result.append(value)\n",
    " return result\n",
    "\n",
    "clean_strings(states, clean_ops)"
   ]
  },
  {
   "cell_type": "markdown",
   "id": "9a31f9d6-7f35-41dc-b292-4f49dcfcf8d0",
   "metadata": {
    "jp-MarkdownHeadingCollapsed": true,
    "tags": []
   },
   "source": [
    "# Au delà du prototypage dans les notebooks"
   ]
  },
  {
   "cell_type": "markdown",
   "id": "29821c12-9b8b-4733-9df2-3f68347615a6",
   "metadata": {
    "tags": []
   },
   "source": [
    "# [Lab 2 - my first application](./lab-2-my-first-application/README.md)\n",
    "\n"
   ]
  },
  {
   "cell_type": "markdown",
   "id": "1de25d8f-67fc-437f-a060-12742a326504",
   "metadata": {},
   "source": [
    "---"
   ]
  }
 ],
 "metadata": {
  "kernelspec": {
   "display_name": "Python 3 (ipykernel)",
   "language": "python",
   "name": "python3"
  },
  "language_info": {
   "codemirror_mode": {
    "name": "ipython",
    "version": 3
   },
   "file_extension": ".py",
   "mimetype": "text/x-python",
   "name": "python",
   "nbconvert_exporter": "python",
   "pygments_lexer": "ipython3",
   "version": "3.9.13"
  }
 },
 "nbformat": 4,
 "nbformat_minor": 5
}
