{
 "cells": [
  {
   "cell_type": "markdown",
   "id": "30443444-3bfb-45ec-a84c-ffaddcae49dd",
   "metadata": {
    "tags": []
   },
   "source": [
    "# JOUR 2: Maniplation de données et visualisation"
   ]
  },
  {
   "cell_type": "markdown",
   "id": "0509b656-a6d9-4b4a-9710-adf1b84353bc",
   "metadata": {
    "tags": []
   },
   "source": [
    "## Agenda\n",
    "**Jour 1: Le langage Python et ses applications**\n",
    "- **Matin**\n",
    "    1. Les environnements de travail\n",
    "    2. Les bases de python\n",
    "- **Après-midi**\n",
    "    3. La programation orientée objet (POO) en python\n",
    "    4. Les modules\n",
    "\n",
    "**Jour 2: Maniplation de données et visualisation**\n",
    "- **Matin**\n",
    "    1. Les bases de Numpy\n",
    "    2. Pandas, votre nouveau meilleur ami\n",
    "- **Après-midi**\n",
    "    2. Pandas, votre nouveau meilleur ami\n",
    "\n",
    "**Jour 3: Analyse exploratoire, pipeline de données et apprentissage**\n",
    "- **Matin**\n",
    "    1. Analyse exploratoire à l'aide de Pandas\n",
    "    2. Visualition de données\n",
    "- **Après-midi**\n",
    "    3. Pandas avancé\n",
    "    4. Pipelines de données  \n",
    "        4.1. Ingestion  \n",
    "        4.2. Stockage et traitement  \n",
    "        4.3. Applications  "
   ]
  },
  {
   "cell_type": "code",
   "execution_count": null,
   "id": "eb48e732-2d20-4c5d-a821-2064dd65e365",
   "metadata": {},
   "outputs": [],
   "source": []
  }
 ],
 "metadata": {
  "kernelspec": {
   "display_name": "Python 3 (ipykernel)",
   "language": "python",
   "name": "python3"
  },
  "language_info": {
   "codemirror_mode": {
    "name": "ipython",
    "version": 3
   },
   "file_extension": ".py",
   "mimetype": "text/x-python",
   "name": "python",
   "nbconvert_exporter": "python",
   "pygments_lexer": "ipython3",
   "version": "3.9.13"
  }
 },
 "nbformat": 4,
 "nbformat_minor": 5
}
