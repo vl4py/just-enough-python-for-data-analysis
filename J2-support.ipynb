{
 "cells": [
  {
   "cell_type": "markdown",
   "id": "30443444-3bfb-45ec-a84c-ffaddcae49dd",
   "metadata": {
    "tags": []
   },
   "source": [
    "# JOUR 2: Maniplation de données et visualisation"
   ]
  },
  {
   "cell_type": "markdown",
   "id": "0509b656-a6d9-4b4a-9710-adf1b84353bc",
   "metadata": {
    "tags": []
   },
   "source": [
    "**Jour 2: Maniplation de données et visualisation**\n",
    "- **Matin**\n",
    "    1. Les bases de Numpy\n",
    "    2. Pandas, votre nouveau meilleur ami\n",
    "- **Après-midi**\n",
    "    2. Pandas, votre nouveau meilleur ami"
   ]
  },
  {
   "cell_type": "markdown",
   "id": "06b9571d-1de1-41f3-a462-4c22e50e35e7",
   "metadata": {},
   "source": [
    "## Numpy\n",
    "\n",
    "- [Introduction](https://www.kaggle.com/code/lavanyashukla01/pandas-numpy-python-cheatsheet?scriptVersionId=29739867&cellId=88)"
   ]
  },
  {
   "cell_type": "markdown",
   "id": "57eca473-10ad-4edd-a3a5-3b6777278d75",
   "metadata": {},
   "source": [
    "# Pandas: Introduction"
   ]
  },
  {
   "cell_type": "markdown",
   "id": "e315c1aa-a98c-4c0a-9d91-17ab161f3c7b",
   "metadata": {},
   "source": [
    "- [Kaggle Pandas - Lecture & Ecriture](https://www.kaggle.com/code/residentmario/creating-reading-and-writing)\n",
    "- [Kaggle - Index, Selection & Allocation](https://www.kaggle.com/code/residentmario/indexing-selecting-assigning)\n",
    "- [kaggle - Fonctions descriptive et maps](https://www.kaggle.com/code/residentmario/summary-functions-and-maps)"
   ]
  },
  {
   "cell_type": "markdown",
   "id": "fe24d53f-2c85-4550-ba0a-efc9fcc9cf94",
   "metadata": {
    "tags": []
   },
   "source": [
    "### Quizz: Revue de code"
   ]
  },
  {
   "cell_type": "code",
   "execution_count": null,
   "id": "edba7174-0dfe-42e5-ad04-40a518a922fa",
   "metadata": {},
   "outputs": [],
   "source": [
    "'''\n",
    "Birthday Email Sender\n",
    "-------------------------------------------------------------\n",
    "pip install pandas openpyxl\n",
    "excel file cols:\n",
    "Name, Email, Birthday (MM/DD/YYYY), Last Sent (YYYY)\n",
    "'''\n",
    "\n",
    "\n",
    "import pandas as pd\n",
    "from datetime import datetime\n",
    "import smtplib\n",
    "from email.message import EmailMessage\n",
    "\n",
    "\n",
    "def send_email(recipient, subject, msg):\n",
    "   GMAIL_ID = 'your_email_here'\n",
    "   GMAIL_PWD = 'your_password_here'\n",
    "\n",
    "   email = EmailMessage()\n",
    "   email['Subject'] = subject\n",
    "   email['From'] = GMAIL_ID\n",
    "   email['To'] = recipient\n",
    "   email.set_content(msg)\n",
    "\n",
    "   with smtplib.SMTP_SSL('smtp.gmail.com', 465) as gmail_obj:\n",
    "       gmail_obj.ehlo()\n",
    "       gmail_obj.login(GMAIL_ID, GMAIL_PWD)\n",
    "       gmail_obj.send_message(email)\n",
    "   print('Email sent to ' + str(recipient) + ' with Subject: \\''\n",
    "         + str(subject) + '\\' and Message: \\'' + str(msg) + '\\'')\n",
    "\n",
    "\n",
    "def send_bday_emails(bday_file):\n",
    "   bdays_df = pd.read_excel(bday_file)\n",
    "   today = datetime.now().strftime('%m-%d')\n",
    "   year_now = datetime.now().strftime('%Y')\n",
    "   sent_index = []\n",
    "\n",
    "   for idx, item in bdays_df.iterrows():\n",
    "       bday = item['Birthday'].to_pydatetime().strftime('%m-%d')\n",
    "       if (today == bday) and year_now not in str(item['Last Sent']):\n",
    "           msg = 'Happy Birthday ' + str(item['Name'] + '!!')\n",
    "           send_email(item['Email'], 'Happy Birthday', msg)\n",
    "           sent_index.append(idx)\n",
    "\n",
    "   for idx in sent_index:\n",
    "       bdays_df.loc[bdays_df.index[idx], 'Last Sent'] = str(year_now)\n",
    "\n",
    "   bdays_df.to_excel(bday_file, index=False)\n",
    "\n",
    "\n",
    "if __name__ == '__main__':\n",
    "   send_bday_emails(bday_file='your_bdays_list.xlsx')"
   ]
  }
 ],
 "metadata": {
  "kernelspec": {
   "display_name": "Python 3 (ipykernel)",
   "language": "python",
   "name": "python3"
  },
  "language_info": {
   "codemirror_mode": {
    "name": "ipython",
    "version": 3
   },
   "file_extension": ".py",
   "mimetype": "text/x-python",
   "name": "python",
   "nbconvert_exporter": "python",
   "pygments_lexer": "ipython3",
   "version": "3.9.13"
  }
 },
 "nbformat": 4,
 "nbformat_minor": 5
}
