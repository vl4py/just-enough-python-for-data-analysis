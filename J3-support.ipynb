{
 "cells": [
  {
   "cell_type": "markdown",
   "id": "488c8029-7ba3-4b0e-962b-102559d1eac5",
   "metadata": {
    "tags": []
   },
   "source": [
    "# JOUR 3: Analyse exploratoire, pipeline de données et apprentissage"
   ]
  },
  {
   "cell_type": "markdown",
   "id": "9091bf7d-9841-4f43-95ad-3dc138a78e4f",
   "metadata": {
    "tags": []
   },
   "source": [
    "## Agenda\n",
    "\n",
    "**Jour 3: Analyse exploratoire, pipeline de données et apprentissage**\n",
    "- **Matin**\n",
    "    1. Analyse exploratoire à l'aide de Pandas\n",
    "    2. Visualition de données\n",
    "- **Après-midi**\n",
    "    3. Pandas avancé\n",
    "    4. Pipelines de données  \n",
    "        4.1. Ingestion  \n",
    "        4.2. Stockage et traitement  \n",
    "        4.3. Applications  "
   ]
  },
  {
   "cell_type": "markdown",
   "id": "a49aaca2-7a7c-4789-95b5-a6d011ef19f3",
   "metadata": {},
   "source": [
    "## Data vizualisation\n",
    "\n"
   ]
  },
  {
   "cell_type": "markdown",
   "id": "878ce470-8ae6-4022-bfa3-74b9d3b6ca52",
   "metadata": {},
   "source": [
    "- https://www.kaggle.com/code/residentmario/plotting-with-seaborn\n",
    "- https://realpython.com/python-matplotlib-guide/\n",
    "- https://www.machinelearningplus.com/plots/top-50-matplotlib-visualizations-the-master-plots-python/\n",
    "- http://seaborn.pydata.org/tutorial/introduction.html"
   ]
  },
  {
   "cell_type": "markdown",
   "id": "840f7177-e0a8-41cf-8898-eb3bd8f65c0e",
   "metadata": {},
   "source": [
    "# Pandas: Aggregation"
   ]
  },
  {
   "cell_type": "markdown",
   "id": "c964fbe9-220f-412b-b2dd-99d950489275",
   "metadata": {},
   "source": [
    "## Data manipulations and cleaning\n",
    "\n",
    "- [Grouping and sorting](https://www.kaggle.com/code/fork/598715)\n",
    "- [Data Types and Missing Value](https://www.kaggle.com/code/fork/598826)\n",
    "- [Renaming and combining](https://www.kaggle.com/code/fork/638064)\n",
    "- [Handling Missing Values](https://www.kaggle.com/code/fork/10824396)\n",
    "- [Scaling and Normalization](https://www.kaggle.com/code/fork/10824404)\n",
    "- [Inconsistant Data entries](https://www.kaggle.com/code/alexisbcook/inconsistent-data-entry)\n",
    "- [Pivot tables](https://www.kaggle.com/code/anandhuh/analysing-data-with-pivot-tables-beginners-guide)"
   ]
  },
  {
   "cell_type": "markdown",
   "id": "2fee0448-0661-4afc-9a19-09af90b3dc4a",
   "metadata": {},
   "source": [
    "## Web Scraping"
   ]
  },
  {
   "cell_type": "code",
   "execution_count": 4,
   "id": "06154417-110a-481a-ba03-558787f2cbca",
   "metadata": {},
   "outputs": [],
   "source": [
    "import pandas as pd"
   ]
  },
  {
   "cell_type": "code",
   "execution_count": 26,
   "id": "f597d7b6-1954-41a9-8210-4057a6ddd97b",
   "metadata": {
    "collapsed": true,
    "jupyter": {
     "outputs_hidden": true
    },
    "tags": []
   },
   "outputs": [
    {
     "data": {
      "text/html": [
       "<div>\n",
       "<style scoped>\n",
       "    .dataframe tbody tr th:only-of-type {\n",
       "        vertical-align: middle;\n",
       "    }\n",
       "\n",
       "    .dataframe tbody tr th {\n",
       "        vertical-align: top;\n",
       "    }\n",
       "\n",
       "    .dataframe thead th {\n",
       "        text-align: right;\n",
       "    }\n",
       "</style>\n",
       "<table border=\"1\" class=\"dataframe\">\n",
       "  <thead>\n",
       "    <tr style=\"text-align: right;\">\n",
       "      <th></th>\n",
       "      <th>Rank</th>\n",
       "      <th>Male name</th>\n",
       "      <th>Female name</th>\n",
       "    </tr>\n",
       "  </thead>\n",
       "  <tbody>\n",
       "    <tr>\n",
       "      <th>0</th>\n",
       "      <td>1</td>\n",
       "      <td>Michael</td>\n",
       "      <td>Jessica</td>\n",
       "    </tr>\n",
       "    <tr>\n",
       "      <th>1</th>\n",
       "      <td>2</td>\n",
       "      <td>Christopher</td>\n",
       "      <td>Ashley</td>\n",
       "    </tr>\n",
       "    <tr>\n",
       "      <th>2</th>\n",
       "      <td>3</td>\n",
       "      <td>Matthew</td>\n",
       "      <td>Brittany</td>\n",
       "    </tr>\n",
       "    <tr>\n",
       "      <th>3</th>\n",
       "      <td>4</td>\n",
       "      <td>Joshua</td>\n",
       "      <td>Amanda</td>\n",
       "    </tr>\n",
       "    <tr>\n",
       "      <th>4</th>\n",
       "      <td>5</td>\n",
       "      <td>Daniel</td>\n",
       "      <td>Samantha</td>\n",
       "    </tr>\n",
       "    <tr>\n",
       "      <th>...</th>\n",
       "      <td>...</td>\n",
       "      <td>...</td>\n",
       "      <td>...</td>\n",
       "    </tr>\n",
       "    <tr>\n",
       "      <th>996</th>\n",
       "      <td>997</td>\n",
       "      <td>Eliezer</td>\n",
       "      <td>Asha</td>\n",
       "    </tr>\n",
       "    <tr>\n",
       "      <th>997</th>\n",
       "      <td>998</td>\n",
       "      <td>Jory</td>\n",
       "      <td>Jada</td>\n",
       "    </tr>\n",
       "    <tr>\n",
       "      <th>998</th>\n",
       "      <td>999</td>\n",
       "      <td>Misael</td>\n",
       "      <td>Leila</td>\n",
       "    </tr>\n",
       "    <tr>\n",
       "      <th>999</th>\n",
       "      <td>1000</td>\n",
       "      <td>Tate</td>\n",
       "      <td>Peggy</td>\n",
       "    </tr>\n",
       "    <tr>\n",
       "      <th>1000</th>\n",
       "      <td>Note: Rank 1 is the most popular, rank 2 is th...</td>\n",
       "      <td>Note: Rank 1 is the most popular, rank 2 is th...</td>\n",
       "      <td>Note: Rank 1 is the most popular, rank 2 is th...</td>\n",
       "    </tr>\n",
       "  </tbody>\n",
       "</table>\n",
       "<p>1001 rows × 3 columns</p>\n",
       "</div>"
      ],
      "text/plain": [
       "                                                   Rank  \\\n",
       "0                                                     1   \n",
       "1                                                     2   \n",
       "2                                                     3   \n",
       "3                                                     4   \n",
       "4                                                     5   \n",
       "...                                                 ...   \n",
       "996                                                 997   \n",
       "997                                                 998   \n",
       "998                                                 999   \n",
       "999                                                1000   \n",
       "1000  Note: Rank 1 is the most popular, rank 2 is th...   \n",
       "\n",
       "                                              Male name  \\\n",
       "0                                               Michael   \n",
       "1                                           Christopher   \n",
       "2                                               Matthew   \n",
       "3                                                Joshua   \n",
       "4                                                Daniel   \n",
       "...                                                 ...   \n",
       "996                                             Eliezer   \n",
       "997                                                Jory   \n",
       "998                                              Misael   \n",
       "999                                                Tate   \n",
       "1000  Note: Rank 1 is the most popular, rank 2 is th...   \n",
       "\n",
       "                                            Female name  \n",
       "0                                               Jessica  \n",
       "1                                                Ashley  \n",
       "2                                              Brittany  \n",
       "3                                                Amanda  \n",
       "4                                              Samantha  \n",
       "...                                                 ...  \n",
       "996                                                Asha  \n",
       "997                                                Jada  \n",
       "998                                               Leila  \n",
       "999                                               Peggy  \n",
       "1000  Note: Rank 1 is the most popular, rank 2 is th...  \n",
       "\n",
       "[1001 rows x 3 columns]"
      ]
     },
     "execution_count": 26,
     "metadata": {},
     "output_type": "execute_result"
    }
   ],
   "source": [
    "pd.read_html('./lab-1-play-with-pure-python/baby1990.html')[2]"
   ]
  },
  {
   "cell_type": "markdown",
   "id": "5c4bdbc3-b4e0-449b-b203-71058db38025",
   "metadata": {},
   "source": [
    "## Scrappers tutorial\n",
    "\n",
    "- https://docs.scrapy.org/en/latest/intro/tutorial.html\n",
    "- https://towardsdatascience.com/data-science-skills-web-scraping-using-python-d1a85ef607ed\n",
    "- https://medium.com/@alexandrewrg/scraper-les-donn%C3%A9es-de-plusieurs-pages-avec-scrapy-2e076ac7dc09\n",
    "- https://www.dataquest.io/blog/web-scraping-with-scrapy/"
   ]
  },
  {
   "cell_type": "markdown",
   "id": "35b97376-2bdc-4462-984a-2d41d89a62c8",
   "metadata": {},
   "source": [
    "## Extra resources"
   ]
  },
  {
   "cell_type": "markdown",
   "id": "c61983d4-708c-427b-bb41-c89b51ce887d",
   "metadata": {},
   "source": [
    "- Python for SEO: https://www.jcchouinard.com/python-for-seo/"
   ]
  },
  {
   "cell_type": "markdown",
   "id": "9cdddc19-6f73-447f-93bf-211cbfbae01f",
   "metadata": {},
   "source": [
    "# Pipelines"
   ]
  },
  {
   "cell_type": "markdown",
   "id": "72e11cad-c812-43de-836a-a693df3ab4eb",
   "metadata": {},
   "source": [
    "- https://jaketae.github.io/study/sklearn-pipeline/\n",
    "- https://www.kaggle.com/code/enerrio/scikit-learn-ml-from-start-to-finish/notebook\n",
    "- https://medium.com/dunder-data/from-pandas-to-scikit-learn-a-new-exciting-workflow-e88e2271ef62\n",
    "- https://towardsdatascience.com/in-12-minutes-stocks-analysis-with-pandas-and-scikit-learn-a8d8a7b50ee7\n"
   ]
  },
  {
   "cell_type": "markdown",
   "id": "2d0976f8-4834-4d26-b3cf-2d7bfe3fe538",
   "metadata": {},
   "source": [
    "# Full projects with ML use case"
   ]
  },
  {
   "cell_type": "markdown",
   "id": "ccb7fbf0-0b2b-4d96-8fd9-42cdf936e08d",
   "metadata": {},
   "source": [
    "- [Titanic with 78% accuracy](https://www.kaggle.com/code/jeffd23/scikit-learn-ml-from-start-to-finish)\n",
    "- [Titanic with 99% accuracy](https://www.kaggle.com/code/ldfreeman3/a-data-science-framework-to-achieve-99-accuracy)\n"
   ]
  },
  {
   "cell_type": "markdown",
   "id": "94ccd91f-1946-4e83-8c68-bb81b3dbc6e2",
   "metadata": {},
   "source": [
    "## Exercice: INSEE"
   ]
  },
  {
   "cell_type": "markdown",
   "id": "21cec434-69be-4347-83e2-1225fb132b4a",
   "metadata": {},
   "source": [
    "- https://www.data.gouv.fr/fr/datasets/population/#_\n",
    "- https://www.insee.fr/fr/information/2008354\n",
    "- https://pandas.pydata.org/pandas-docs/stable/getting_started/comparison/index.html\n"
   ]
  },
  {
   "cell_type": "markdown",
   "id": "cce120e2-ccf2-4adf-9c01-9d144c3bda62",
   "metadata": {},
   "source": [
    "---"
   ]
  },
  {
   "cell_type": "markdown",
   "id": "edcfe523-7bdc-4e70-8612-65d823805fd7",
   "metadata": {},
   "source": [
    "# Extra resources"
   ]
  },
  {
   "cell_type": "markdown",
   "id": "862fcf3b-288f-4d7a-8ea6-3c53f276e2b3",
   "metadata": {},
   "source": [
    "- [Scikit-Learn cheatsheet](https://www.kaggle.com/discussions/getting-started/116620)"
   ]
  }
 ],
 "metadata": {
  "kernelspec": {
   "display_name": "Python 3 (ipykernel)",
   "language": "python",
   "name": "python3"
  },
  "language_info": {
   "codemirror_mode": {
    "name": "ipython",
    "version": 3
   },
   "file_extension": ".py",
   "mimetype": "text/x-python",
   "name": "python",
   "nbconvert_exporter": "python",
   "pygments_lexer": "ipython3",
   "version": "3.9.13"
  }
 },
 "nbformat": 4,
 "nbformat_minor": 5
}
