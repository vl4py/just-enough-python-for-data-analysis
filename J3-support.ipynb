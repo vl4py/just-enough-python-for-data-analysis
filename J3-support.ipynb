{
 "cells": [
  {
   "cell_type": "markdown",
   "id": "488c8029-7ba3-4b0e-962b-102559d1eac5",
   "metadata": {
    "tags": []
   },
   "source": [
    "# JOUR 3: Analyse exploratoire, pipeline de données et apprentissage"
   ]
  },
  {
   "cell_type": "markdown",
   "id": "9091bf7d-9841-4f43-95ad-3dc138a78e4f",
   "metadata": {
    "tags": []
   },
   "source": [
    "## Agenda\n",
    "**Jour 1: Le langage Python et ses applications**\n",
    "- **Matin**\n",
    "    1. Les environnements de travail\n",
    "    2. Les bases de python\n",
    "- **Après-midi**\n",
    "    3. La programation orientée objet (POO) en python\n",
    "    4. Les modules\n",
    "\n",
    "**Jour 2: Maniplation de données et visualisation**\n",
    "- **Matin**\n",
    "    1. Les bases de Numpy\n",
    "    2. Pandas, votre nouveau meilleur ami\n",
    "- **Après-midi**\n",
    "    2. Pandas, votre nouveau meilleur ami\n",
    "\n",
    "**Jour 3: Analyse exploratoire, pipeline de données et apprentissage**\n",
    "- **Matin**\n",
    "    1. Analyse exploratoire à l'aide de Pandas\n",
    "    2. Visualition de données\n",
    "- **Après-midi**\n",
    "    3. Pandas avancé\n",
    "    4. Pipelines de données  \n",
    "        4.1. Ingestion  \n",
    "        4.2. Stockage et traitement  \n",
    "        4.3. Applications  "
   ]
  },
  {
   "cell_type": "code",
   "execution_count": null,
   "id": "92705735-ea37-49d0-9b93-d5aca01cd467",
   "metadata": {},
   "outputs": [],
   "source": []
  }
 ],
 "metadata": {
  "kernelspec": {
   "display_name": "Python 3 (ipykernel)",
   "language": "python",
   "name": "python3"
  },
  "language_info": {
   "codemirror_mode": {
    "name": "ipython",
    "version": 3
   },
   "file_extension": ".py",
   "mimetype": "text/x-python",
   "name": "python",
   "nbconvert_exporter": "python",
   "pygments_lexer": "ipython3",
   "version": "3.9.13"
  }
 },
 "nbformat": 4,
 "nbformat_minor": 5
}
